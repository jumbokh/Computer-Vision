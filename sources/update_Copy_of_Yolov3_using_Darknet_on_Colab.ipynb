{
  "nbformat": 4,
  "nbformat_minor": 0,
  "metadata": {
    "colab": {
      "provenance": []
    },
    "kernelspec": {
      "name": "python3",
      "display_name": "Python 3"
    },
    "accelerator": "GPU"
  },
  "cells": [
    {
      "cell_type": "markdown",
      "metadata": {
        "id": "Km4s1cPZ_wTt"
      },
      "source": [
        "# 如何在 Colab 安裝 Darknet 框架訓練 YOLO v3 物件辨識並且最佳化 Colab 的訓練流程\n",
        "\n",
        "此範例程式碼為文章「如何在 Colab 安裝 Darknet 框架訓練 YOLO v3 物件辨識並且最佳化 Colab 的訓練流程」的範例程式碼。\n",
        "\n",
        "這篇文章會教你：\n",
        "* 利用 Colab 128G RAM GPU 來訓練你的 Yolo3 模型\n",
        "* 將 Colab 設定成可以運用在實際專案的訓練環境\n",
        "* 快速掛載本機電腦上的檔案到 Colab 環境中\n",
        "* 事先編譯所有需要的檔案，每次開啟 Colab 後即可立刻進行訓練\n",
        "* 將訓練好的 weight 檔案自動同步回本機電腦，避免檔案遺失"
      ]
    },
    {
      "cell_type": "markdown",
      "metadata": {
        "id": "sMsN0ZqNAITs"
      },
      "source": [
        "## Step 2：連接你的 Google Drive"
      ]
    },
    {
      "cell_type": "code",
      "metadata": {
        "id": "sOdyQTEK_by5",
        "outputId": "2d0224fa-1ee1-4a11-9754-8f435243600b",
        "colab": {
          "base_uri": "https://localhost:8080/"
        }
      },
      "source": [
        "from google.colab import drive\n",
        "drive.mount('/content/gdrive') # 請點擊網址，選擇 Google 帳號登入，然後將授權碼貼回輸入框中"
      ],
      "execution_count": 1,
      "outputs": [
        {
          "output_type": "stream",
          "name": "stdout",
          "text": [
            "Drive already mounted at /content/gdrive; to attempt to forcibly remount, call drive.mount(\"/content/gdrive\", force_remount=True).\n"
          ]
        }
      ]
    },
    {
      "cell_type": "code",
      "metadata": {
        "id": "1l27GuQS_tUl",
        "colab": {
          "base_uri": "https://localhost:8080/"
        },
        "outputId": "609534b4-40ee-4411-9a74-d9979e958cdc"
      },
      "source": [
        "!ln -fs /content/gdrive/My\\ Drive /app"
      ],
      "execution_count": 2,
      "outputs": [
        {
          "output_type": "stream",
          "name": "stdout",
          "text": [
            "ln: failed to create symbolic link '/app/My Drive': Input/output error\n"
          ]
        }
      ]
    },
    {
      "cell_type": "markdown",
      "metadata": {
        "id": "QGaLkiqAAYhR"
      },
      "source": [
        "## 步驟 4：下載並編譯 Darknet（只需要執行一次）\n",
        "\n",
        "這個步驟只需要執行一次，執行過程我們會把執行檔複製到 Google Drive。之後要跑程式時，只要把執行檔複製回 Colab 環境就可以使用了。"
      ]
    },
    {
      "cell_type": "markdown",
      "metadata": {
        "id": "pOCRr9LtBVbG"
      },
      "source": [
        "### 4.1 下載 cuDNN 檔案\n",
        "\n",
        "1. 申請 Nvidia 帳號，申請網址為 http://bit.ly/2qfpOPj\n",
        "2. 下載 `cudnn-linux-x86_64-8.7.0.84_cuda11-archive.tar.xz`，下載網址為\n",
        "下載 cuDNN 檔案。下載網址為：http://bit.ly/2qfpOPj\n",
        "3. 將下載的檔案 `cudnn-linux-x86_64-8.7.0.84_cuda11-archive.tar.xz` 放到 google drive 的 `darknet/cuDNN/` 目錄下。"
      ]
    },
    {
      "cell_type": "code",
      "metadata": {
        "id": "VaSrSsBHAlLg",
        "outputId": "f8729b77-c86c-4e92-c687-899726b09837",
        "colab": {
          "base_uri": "https://localhost:8080/"
        }
      },
      "source": [
        "!tar -Jxvf /app/darknet/cuDNN/cudnn-linux-x86_64-8.7.0.84_cuda11-archive.tar.xz -C /usr/local/\n",
        "#!dpkg -i /app/cudnn/cudnn-local-repo-ubuntu2004-8.9.1.23_1.0-1_amd64.deb\n",
        "!chmod a+r /usr/local/cuda/include/cudnn.h\n",
        "\n",
        "# 檢查是否安裝成功\n",
        "!cat /usr/local/include/cudnn_version.h | grep CUDNN_MAJOR -A 2"
      ],
      "execution_count": 3,
      "outputs": [
        {
          "output_type": "stream",
          "name": "stdout",
          "text": [
            "cudnn-linux-x86_64-8.7.0.84_cuda11-archive/\n",
            "cudnn-linux-x86_64-8.7.0.84_cuda11-archive/lib/\n",
            "cudnn-linux-x86_64-8.7.0.84_cuda11-archive/lib/libcudnn_adv_infer_static.a\n",
            "cudnn-linux-x86_64-8.7.0.84_cuda11-archive/lib/libcudnn_adv_infer_static_v8.a\n",
            "cudnn-linux-x86_64-8.7.0.84_cuda11-archive/lib/libcudnn_adv_train_static.a\n",
            "cudnn-linux-x86_64-8.7.0.84_cuda11-archive/lib/libcudnn_adv_train_static_v8.a\n",
            "cudnn-linux-x86_64-8.7.0.84_cuda11-archive/lib/libcudnn_cnn_infer_static.a\n",
            "cudnn-linux-x86_64-8.7.0.84_cuda11-archive/lib/libcudnn_cnn_infer_static_v8.a\n",
            "cudnn-linux-x86_64-8.7.0.84_cuda11-archive/lib/libcudnn_cnn_train_static.a\n",
            "cudnn-linux-x86_64-8.7.0.84_cuda11-archive/lib/libcudnn_cnn_train_static_v8.a\n",
            "cudnn-linux-x86_64-8.7.0.84_cuda11-archive/lib/libcudnn_ops_infer_static.a\n",
            "cudnn-linux-x86_64-8.7.0.84_cuda11-archive/lib/libcudnn_ops_infer_static_v8.a\n",
            "cudnn-linux-x86_64-8.7.0.84_cuda11-archive/lib/libcudnn_ops_train_static.a\n",
            "cudnn-linux-x86_64-8.7.0.84_cuda11-archive/lib/libcudnn_ops_train_static_v8.a\n",
            "cudnn-linux-x86_64-8.7.0.84_cuda11-archive/lib/libcudnn.so.8\n",
            "cudnn-linux-x86_64-8.7.0.84_cuda11-archive/lib/libcudnn.so\n",
            "cudnn-linux-x86_64-8.7.0.84_cuda11-archive/lib/libcudnn.so.8.7.0\n",
            "cudnn-linux-x86_64-8.7.0.84_cuda11-archive/lib/libcudnn_adv_infer.so.8\n",
            "cudnn-linux-x86_64-8.7.0.84_cuda11-archive/lib/libcudnn_adv_infer.so\n",
            "cudnn-linux-x86_64-8.7.0.84_cuda11-archive/lib/libcudnn_adv_infer.so.8.7.0\n",
            "cudnn-linux-x86_64-8.7.0.84_cuda11-archive/lib/libcudnn_adv_train.so.8\n",
            "cudnn-linux-x86_64-8.7.0.84_cuda11-archive/lib/libcudnn_adv_train.so\n",
            "cudnn-linux-x86_64-8.7.0.84_cuda11-archive/lib/libcudnn_adv_train.so.8.7.0\n",
            "cudnn-linux-x86_64-8.7.0.84_cuda11-archive/lib/libcudnn_cnn_infer.so\n",
            "cudnn-linux-x86_64-8.7.0.84_cuda11-archive/lib/libcudnn_cnn_infer.so.8\n",
            "cudnn-linux-x86_64-8.7.0.84_cuda11-archive/lib/libcudnn_cnn_infer.so.8.7.0\n",
            "cudnn-linux-x86_64-8.7.0.84_cuda11-archive/lib/libcudnn_cnn_train.so\n",
            "cudnn-linux-x86_64-8.7.0.84_cuda11-archive/lib/libcudnn_cnn_train.so.8.7.0\n",
            "cudnn-linux-x86_64-8.7.0.84_cuda11-archive/lib/libcudnn_cnn_train.so.8\n",
            "cudnn-linux-x86_64-8.7.0.84_cuda11-archive/lib/libcudnn_ops_infer.so.8.7.0\n",
            "cudnn-linux-x86_64-8.7.0.84_cuda11-archive/lib/libcudnn_ops_infer.so\n",
            "cudnn-linux-x86_64-8.7.0.84_cuda11-archive/lib/libcudnn_ops_infer.so.8\n",
            "cudnn-linux-x86_64-8.7.0.84_cuda11-archive/lib/libcudnn_ops_train.so.8.7.0\n",
            "cudnn-linux-x86_64-8.7.0.84_cuda11-archive/lib/libcudnn_ops_train.so\n",
            "cudnn-linux-x86_64-8.7.0.84_cuda11-archive/lib/libcudnn_ops_train.so.8\n",
            "cudnn-linux-x86_64-8.7.0.84_cuda11-archive/include/\n",
            "cudnn-linux-x86_64-8.7.0.84_cuda11-archive/include/cudnn_v8.h\n",
            "cudnn-linux-x86_64-8.7.0.84_cuda11-archive/include/cudnn_adv_infer_v8.h\n",
            "cudnn-linux-x86_64-8.7.0.84_cuda11-archive/include/cudnn_adv_train_v8.h\n",
            "cudnn-linux-x86_64-8.7.0.84_cuda11-archive/include/cudnn_backend_v8.h\n",
            "cudnn-linux-x86_64-8.7.0.84_cuda11-archive/include/cudnn_cnn_infer_v8.h\n",
            "cudnn-linux-x86_64-8.7.0.84_cuda11-archive/include/cudnn_cnn_train_v8.h\n",
            "cudnn-linux-x86_64-8.7.0.84_cuda11-archive/include/cudnn_ops_infer_v8.h\n",
            "cudnn-linux-x86_64-8.7.0.84_cuda11-archive/include/cudnn_ops_train_v8.h\n",
            "cudnn-linux-x86_64-8.7.0.84_cuda11-archive/include/cudnn_version_v8.h\n",
            "cudnn-linux-x86_64-8.7.0.84_cuda11-archive/include/cudnn.h\n",
            "cudnn-linux-x86_64-8.7.0.84_cuda11-archive/include/cudnn_adv_infer.h\n",
            "cudnn-linux-x86_64-8.7.0.84_cuda11-archive/include/cudnn_adv_train.h\n",
            "cudnn-linux-x86_64-8.7.0.84_cuda11-archive/include/cudnn_backend.h\n",
            "cudnn-linux-x86_64-8.7.0.84_cuda11-archive/include/cudnn_cnn_infer.h\n",
            "cudnn-linux-x86_64-8.7.0.84_cuda11-archive/include/cudnn_cnn_train.h\n",
            "cudnn-linux-x86_64-8.7.0.84_cuda11-archive/include/cudnn_ops_infer.h\n",
            "cudnn-linux-x86_64-8.7.0.84_cuda11-archive/include/cudnn_ops_train.h\n",
            "cudnn-linux-x86_64-8.7.0.84_cuda11-archive/include/cudnn_version.h\n",
            "cudnn-linux-x86_64-8.7.0.84_cuda11-archive/LICENSE\n",
            "cat: /usr/local/include/cudnn_v8.h: No such file or directory\n"
          ]
        }
      ]
    },
    {
      "cell_type": "code",
      "source": [
        "# 檢查是否安裝成功\n",
        "!ls /usr/include/cudnn*"
      ],
      "metadata": {
        "id": "Lo2_mvdXOyBh",
        "outputId": "71be1df2-d3df-4159-e788-163a0fc91dbe",
        "colab": {
          "base_uri": "https://localhost:8080/"
        }
      },
      "execution_count": 4,
      "outputs": [
        {
          "output_type": "stream",
          "name": "stdout",
          "text": [
            "/usr/include/cudnn_adv_infer.h\t/usr/include/cudnn.h\n",
            "/usr/include/cudnn_adv_train.h\t/usr/include/cudnn_ops_infer.h\n",
            "/usr/include/cudnn_backend.h\t/usr/include/cudnn_ops_train.h\n",
            "/usr/include/cudnn_cnn_infer.h\t/usr/include/cudnn_version.h\n",
            "/usr/include/cudnn_cnn_train.h\n"
          ]
        }
      ]
    },
    {
      "cell_type": "code",
      "source": [
        "#!find / -name cudnn.h -print\n",
        "#!cp /usr/include/cudnn_version.h /content\n",
        "!cat /usr/include/cudnn_version.h | grep CUDNN_MAJOR -A 8"
      ],
      "metadata": {
        "colab": {
          "base_uri": "https://localhost:8080/"
        },
        "id": "Gjdlz3vH8FDs",
        "outputId": "e28f6a1e-5422-4645-d166-98ba7eded078"
      },
      "execution_count": 5,
      "outputs": [
        {
          "output_type": "stream",
          "name": "stdout",
          "text": [
            "#define CUDNN_MAJOR 8\n",
            "#define CUDNN_MINOR 9\n",
            "#define CUDNN_PATCHLEVEL 0\n",
            "\n",
            "#define CUDNN_VERSION (CUDNN_MAJOR * 1000 + CUDNN_MINOR * 100 + CUDNN_PATCHLEVEL)\n",
            "\n",
            "/* cannot use constexpr here since this is a C-only file */\n",
            "/* Below is the max SM version this cuDNN library is aware of and supports natively */\n",
            "\n",
            "#define CUDNN_MAX_SM_MAJOR_NUMBER 9\n",
            "#define CUDNN_MAX_SM_MINOR_NUMBER 0\n",
            "#define CUDNN_MAX_DEVICE_VERSION (CUDNN_MAX_SM_MAJOR_NUMBER * 100 + CUDNN_MAX_SM_MINOR_NUMBER * 10)\n",
            "\n"
          ]
        }
      ]
    },
    {
      "cell_type": "markdown",
      "metadata": {
        "id": "8DJfGrb9LO0s"
      },
      "source": [
        "### 4.2 下載並編譯 Darknet"
      ]
    },
    {
      "cell_type": "code",
      "source": [
        "!apt install libopencv-dev"
      ],
      "metadata": {
        "colab": {
          "base_uri": "https://localhost:8080/"
        },
        "id": "ucj21oBI96qD",
        "outputId": "a36c80f0-d723-4573-c795-82089a46885f"
      },
      "execution_count": 6,
      "outputs": [
        {
          "output_type": "stream",
          "name": "stdout",
          "text": [
            "Reading package lists... Done\n",
            "Building dependency tree... Done\n",
            "Reading state information... Done\n",
            "libopencv-dev is already the newest version (4.5.4+dfsg-9ubuntu4).\n",
            "0 upgraded, 0 newly installed, 0 to remove and 18 not upgraded.\n"
          ]
        }
      ]
    },
    {
      "cell_type": "code",
      "source": [
        "!apt-get install g++\n",
        "#!pkg-config --modversion opencv\n",
        "#!pkg-config --cflags opencv\n",
        "#!find / -name opencv.pc -print"
      ],
      "metadata": {
        "colab": {
          "base_uri": "https://localhost:8080/"
        },
        "id": "hK-kZkv0-mQG",
        "outputId": "786c6f22-51d0-4125-d50a-042bc9b9bce5"
      },
      "execution_count": 7,
      "outputs": [
        {
          "output_type": "stream",
          "name": "stdout",
          "text": [
            "Reading package lists... Done\n",
            "Building dependency tree... Done\n",
            "Reading state information... Done\n",
            "g++ is already the newest version (4:11.2.0-1ubuntu1).\n",
            "0 upgraded, 0 newly installed, 0 to remove and 18 not upgraded.\n"
          ]
        }
      ]
    },
    {
      "cell_type": "code",
      "metadata": {
        "id": "6TnZHWQ5K4Ef",
        "outputId": "61bb155d-0235-458c-e467-62d6e6e491dc",
        "colab": {
          "base_uri": "https://localhost:8080/"
        }
      },
      "source": [
        "%cd /content/\n",
        "!rm -rf darknet_source\n",
        "!git clone https://github.com/kriyeng/darknet/ darknet_source\n",
        "%cd darknet_source\n",
        "#!cp /content/darknet_source/Makefile .\n",
        "# 修改 Darknet 設定，符合 Colab 環境\n",
        "#!sed -i \"s/GPU=0/GPU=1/g\" Makefile\n",
        "#!sed -i \"s/CUDNN=0/CUDNN=1/g\" Makefile\n",
        "!sed -i \"s/OPENCV=0/OPENCV=1/g\" Makefile"
      ],
      "execution_count": 17,
      "outputs": [
        {
          "output_type": "stream",
          "name": "stdout",
          "text": [
            "/content\n",
            "Cloning into 'darknet_source'...\n",
            "remote: Enumerating objects: 10068, done.\u001b[K\n",
            "remote: Total 10068 (delta 0), reused 0 (delta 0), pack-reused 10068\u001b[K\n",
            "Receiving objects: 100% (10068/10068), 10.14 MiB | 17.63 MiB/s, done.\n",
            "Resolving deltas: 100% (6715/6715), done.\n",
            "/content/darknet_source\n"
          ]
        }
      ]
    },
    {
      "cell_type": "code",
      "source": [
        "!cat Makefile | grep GPU\n",
        "!cat Makefile | grep CUDNN"
      ],
      "metadata": {
        "id": "2F29MJsCf518",
        "outputId": "6013e5e5-7231-4875-a2c5-377b5b3dab1a",
        "colab": {
          "base_uri": "https://localhost:8080/"
        }
      },
      "execution_count": 22,
      "outputs": [
        {
          "output_type": "stream",
          "name": "stdout",
          "text": [
            "GPU=0\n",
            "ifeq ($(GPU), 1) \n",
            "COMMON+= -DGPU -I/usr/local/cuda/include/\n",
            "CFLAGS+= -DGPU\n",
            "ifeq ($(GPU), 1) \n",
            "CUDNN=0\n",
            "ifeq ($(CUDNN), 1) \n",
            "COMMON+= -DCUDNN \n",
            "CFLAGS+= -DCUDNN\n"
          ]
        }
      ]
    },
    {
      "cell_type": "code",
      "source": [
        "!cp /usr/include/cudnn* /usr/local/cuda/include"
      ],
      "metadata": {
        "id": "n_YSX_MlcJCT"
      },
      "execution_count": 18,
      "outputs": []
    },
    {
      "cell_type": "code",
      "source": [
        "%cd /content/darknet_source\n",
        "# 編譯\n",
        "!make clean\n",
        "!make"
      ],
      "metadata": {
        "id": "o7p2peMEac3J",
        "outputId": "355e0a4d-d5ce-412a-c872-bd00afcf7492",
        "colab": {
          "base_uri": "https://localhost:8080/"
        }
      },
      "execution_count": 20,
      "outputs": [
        {
          "output_type": "stream",
          "name": "stdout",
          "text": [
            "/content/darknet_source\n",
            "rm -rf ./obj/gemm.o ./obj/utils.o ./obj/cuda.o ./obj/deconvolutional_layer.o ./obj/convolutional_layer.o ./obj/list.o ./obj/image.o ./obj/activations.o ./obj/im2col.o ./obj/col2im.o ./obj/blas.o ./obj/crop_layer.o ./obj/dropout_layer.o ./obj/maxpool_layer.o ./obj/softmax_layer.o ./obj/data.o ./obj/matrix.o ./obj/network.o ./obj/connected_layer.o ./obj/cost_layer.o ./obj/parser.o ./obj/option_list.o ./obj/detection_layer.o ./obj/route_layer.o ./obj/upsample_layer.o ./obj/box.o ./obj/normalization_layer.o ./obj/avgpool_layer.o ./obj/layer.o ./obj/local_layer.o ./obj/shortcut_layer.o ./obj/logistic_layer.o ./obj/activation_layer.o ./obj/rnn_layer.o ./obj/gru_layer.o ./obj/crnn_layer.o ./obj/demo.o ./obj/batchnorm_layer.o ./obj/region_layer.o ./obj/reorg_layer.o ./obj/tree.o ./obj/lstm_layer.o ./obj/l2norm_layer.o ./obj/yolo_layer.o ./obj/iseg_layer.o ./obj/image_opencv.o libdarknet.so libdarknet.a darknet ./obj/captcha.o ./obj/lsd.o ./obj/super.o ./obj/art.o ./obj/tag.o ./obj/cifar.o ./obj/go.o ./obj/rnn.o ./obj/segmenter.o ./obj/regressor.o ./obj/classifier.o ./obj/coco.o ./obj/yolo.o ./obj/detector.o ./obj/nightmare.o ./obj/instance-segmenter.o ./obj/darknet.o ./obj//*\n",
            "gcc -Iinclude/ -Isrc/ -DOPENCV `pkg-config --cflags opencv4`  -Wall -Wno-unused-result -Wno-unknown-pragmas -Wfatal-errors -fPIC -Ofast -DOPENCV -c ./src/gemm.c -o obj/gemm.o\n",
            "\u001b[01m\u001b[K./src/gemm.c:\u001b[m\u001b[K In function ‘\u001b[01m\u001b[Kconvolution_2d\u001b[m\u001b[K’:\n",
            "\u001b[01m\u001b[K./src/gemm.c:2016:15:\u001b[m\u001b[K \u001b[01;35m\u001b[Kwarning: \u001b[m\u001b[Kunused variable ‘\u001b[01m\u001b[Kout_w\u001b[m\u001b[K’ [\u001b[01;35m\u001b[K\u001b]8;;https://gcc.gnu.org/onlinedocs/gcc/Warning-Options.html#index-Wunused-variable\u0007-Wunused-variable\u001b]8;;\u0007\u001b[m\u001b[K]\n",
            " 2016 |     const int \u001b[01;35m\u001b[Kout_w\u001b[m\u001b[K = (w + 2 * pad - ksize) / stride + 1;    // output_width=input_width for stride=1 and pad=1\n",
            "      |               \u001b[01;35m\u001b[K^~~~~\u001b[m\u001b[K\n",
            "\u001b[01m\u001b[K./src/gemm.c:2015:15:\u001b[m\u001b[K \u001b[01;35m\u001b[Kwarning: \u001b[m\u001b[Kunused variable ‘\u001b[01m\u001b[Kout_h\u001b[m\u001b[K’ [\u001b[01;35m\u001b[K\u001b]8;;https://gcc.gnu.org/onlinedocs/gcc/Warning-Options.html#index-Wunused-variable\u0007-Wunused-variable\u001b]8;;\u0007\u001b[m\u001b[K]\n",
            " 2015 |     const int \u001b[01;35m\u001b[Kout_h\u001b[m\u001b[K = (h + 2 * pad - ksize) / stride + 1;    // output_height=input_height for stride=1 and pad=1\n",
            "      |               \u001b[01;35m\u001b[K^~~~~\u001b[m\u001b[K\n",
            "gcc -Iinclude/ -Isrc/ -DOPENCV `pkg-config --cflags opencv4`  -Wall -Wno-unused-result -Wno-unknown-pragmas -Wfatal-errors -fPIC -Ofast -DOPENCV -c ./src/utils.c -o obj/utils.o\n",
            "make: *** No rule to make target 'obj/cuda.o', needed by 'libdarknet.so'.  Stop.\n"
          ]
        }
      ]
    },
    {
      "cell_type": "code",
      "source": [
        "# 將編譯完成的執行檔複製回 Google Drive\n",
        "!cp ./darknet /app/darknet\n",
        "!cp ./darknet /content/darknet\n",
        "%cd /content"
      ],
      "metadata": {
        "id": "ucbQ_liYcpFw",
        "outputId": "26004b32-79b3-44ab-bdac-b130e9e74089",
        "colab": {
          "base_uri": "https://localhost:8080/"
        }
      },
      "execution_count": 11,
      "outputs": [
        {
          "output_type": "stream",
          "name": "stdout",
          "text": [
            "cp: cannot stat './darknet': No such file or directory\n",
            "cp: cannot stat './darknet': No such file or directory\n",
            "/content\n"
          ]
        }
      ]
    },
    {
      "cell_type": "markdown",
      "metadata": {
        "id": "1EfxBXRRLVKs"
      },
      "source": [
        "# 測試 Darknet 是否正常安裝\n",
        "\n",
        "我們用 yolo 官方預先訓練好的模型來偵測範例圖片。"
      ]
    },
    {
      "cell_type": "code",
      "metadata": {
        "id": "ROp-MIykPD25",
        "outputId": "189010da-5990-4116-b4ad-0d5fae2ffb51",
        "colab": {
          "base_uri": "https://localhost:8080/"
        }
      },
      "source": [
        "%cd /content/darknet_source\n",
        "!wget https://pjreddie.com/media/files/yolov3.weights\n",
        "!/content/darknet detect cfg/yolov3.cfg yolov3.weights data/person.jpg -dont-show\n",
        "\n"
      ],
      "execution_count": 12,
      "outputs": [
        {
          "output_type": "stream",
          "name": "stdout",
          "text": [
            "/content/darknet_source\n",
            "--2023-10-01 04:20:08--  https://pjreddie.com/media/files/yolov3.weights\n",
            "Resolving pjreddie.com (pjreddie.com)... 128.208.4.108\n",
            "Connecting to pjreddie.com (pjreddie.com)|128.208.4.108|:443... connected.\n",
            "HTTP request sent, awaiting response... 200 OK\n",
            "Length: 248007048 (237M) [application/octet-stream]\n",
            "Saving to: ‘yolov3.weights’\n",
            "\n",
            "yolov3.weights      100%[===================>] 236.52M  69.0MB/s    in 3.7s    \n",
            "\n",
            "2023-10-01 04:20:12 (63.1 MB/s) - ‘yolov3.weights’ saved [248007048/248007048]\n",
            "\n",
            "/bin/bash: line 1: /content/darknet: No such file or directory\n"
          ]
        }
      ]
    },
    {
      "cell_type": "code",
      "metadata": {
        "id": "zdwfDwGMRiXv",
        "outputId": "d4dbf4b8-2fb1-4f0c-9385-a6ea5a0a653a",
        "colab": {
          "base_uri": "https://localhost:8080/",
          "height": 352
        }
      },
      "source": [
        "import cv2\n",
        "from google.colab.patches import cv2_imshow\n",
        "img = cv2.imread('predictions.jpg', cv2.IMREAD_UNCHANGED)\n",
        "cv2_imshow(img)"
      ],
      "execution_count": 13,
      "outputs": [
        {
          "output_type": "error",
          "ename": "AttributeError",
          "evalue": "ignored",
          "traceback": [
            "\u001b[0;31m---------------------------------------------------------------------------\u001b[0m",
            "\u001b[0;31mAttributeError\u001b[0m                            Traceback (most recent call last)",
            "\u001b[0;32m<ipython-input-13-15d16023b24e>\u001b[0m in \u001b[0;36m<cell line: 4>\u001b[0;34m()\u001b[0m\n\u001b[1;32m      2\u001b[0m \u001b[0;32mfrom\u001b[0m \u001b[0mgoogle\u001b[0m\u001b[0;34m.\u001b[0m\u001b[0mcolab\u001b[0m\u001b[0;34m.\u001b[0m\u001b[0mpatches\u001b[0m \u001b[0;32mimport\u001b[0m \u001b[0mcv2_imshow\u001b[0m\u001b[0;34m\u001b[0m\u001b[0;34m\u001b[0m\u001b[0m\n\u001b[1;32m      3\u001b[0m \u001b[0mimg\u001b[0m \u001b[0;34m=\u001b[0m \u001b[0mcv2\u001b[0m\u001b[0;34m.\u001b[0m\u001b[0mimread\u001b[0m\u001b[0;34m(\u001b[0m\u001b[0;34m'predictions.jpg'\u001b[0m\u001b[0;34m,\u001b[0m \u001b[0mcv2\u001b[0m\u001b[0;34m.\u001b[0m\u001b[0mIMREAD_UNCHANGED\u001b[0m\u001b[0;34m)\u001b[0m\u001b[0;34m\u001b[0m\u001b[0;34m\u001b[0m\u001b[0m\n\u001b[0;32m----> 4\u001b[0;31m \u001b[0mcv2_imshow\u001b[0m\u001b[0;34m(\u001b[0m\u001b[0mimg\u001b[0m\u001b[0;34m)\u001b[0m\u001b[0;34m\u001b[0m\u001b[0;34m\u001b[0m\u001b[0m\n\u001b[0m",
            "\u001b[0;32m/usr/local/lib/python3.10/dist-packages/google/colab/patches/__init__.py\u001b[0m in \u001b[0;36mcv2_imshow\u001b[0;34m(a)\u001b[0m\n\u001b[1;32m     16\u001b[0m       \u001b[0;34m(\u001b[0m\u001b[0mN\u001b[0m\u001b[0;34m,\u001b[0m \u001b[0mM\u001b[0m\u001b[0;34m,\u001b[0m \u001b[0;36m4\u001b[0m\u001b[0;34m)\u001b[0m \u001b[0;32mis\u001b[0m \u001b[0man\u001b[0m \u001b[0mNxM\u001b[0m \u001b[0mBGRA\u001b[0m \u001b[0mcolor\u001b[0m \u001b[0mimage\u001b[0m\u001b[0;34m.\u001b[0m\u001b[0;34m\u001b[0m\u001b[0;34m\u001b[0m\u001b[0m\n\u001b[1;32m     17\u001b[0m   \"\"\"\n\u001b[0;32m---> 18\u001b[0;31m   \u001b[0ma\u001b[0m \u001b[0;34m=\u001b[0m \u001b[0ma\u001b[0m\u001b[0;34m.\u001b[0m\u001b[0mclip\u001b[0m\u001b[0;34m(\u001b[0m\u001b[0;36m0\u001b[0m\u001b[0;34m,\u001b[0m \u001b[0;36m255\u001b[0m\u001b[0;34m)\u001b[0m\u001b[0;34m.\u001b[0m\u001b[0mastype\u001b[0m\u001b[0;34m(\u001b[0m\u001b[0;34m'uint8'\u001b[0m\u001b[0;34m)\u001b[0m\u001b[0;34m\u001b[0m\u001b[0;34m\u001b[0m\u001b[0m\n\u001b[0m\u001b[1;32m     19\u001b[0m   \u001b[0;31m# cv2 stores colors as BGR; convert to RGB\u001b[0m\u001b[0;34m\u001b[0m\u001b[0;34m\u001b[0m\u001b[0m\n\u001b[1;32m     20\u001b[0m   \u001b[0;32mif\u001b[0m \u001b[0ma\u001b[0m\u001b[0;34m.\u001b[0m\u001b[0mndim\u001b[0m \u001b[0;34m==\u001b[0m \u001b[0;36m3\u001b[0m\u001b[0;34m:\u001b[0m\u001b[0;34m\u001b[0m\u001b[0;34m\u001b[0m\u001b[0m\n",
            "\u001b[0;31mAttributeError\u001b[0m: 'NoneType' object has no attribute 'clip'"
          ]
        }
      ]
    }
  ]
}