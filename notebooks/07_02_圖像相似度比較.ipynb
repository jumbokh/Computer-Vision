{
  "cells": [
    {
      "cell_type": "markdown",
      "metadata": {
        "id": "Sv5vamEgmcsh"
      },
      "source": [
        "# 圖像相似度比較"
      ]
    },
    {
      "cell_type": "markdown",
      "metadata": {
        "id": "DELeuspnmcsm"
      },
      "source": [
        "## 載入套件"
      ]
    },
    {
      "cell_type": "code",
      "execution_count": 1,
      "metadata": {
        "id": "wDAOH4a9mcsn"
      },
      "outputs": [],
      "source": [
        "from tensorflow.keras.applications.vgg16 import VGG16\n",
        "from tensorflow.keras.preprocessing import image\n",
        "from tensorflow.keras.applications.vgg16 import preprocess_input\n",
        "import numpy as np"
      ]
    },
    {
      "cell_type": "markdown",
      "metadata": {
        "id": "zU0NSN9Emcsp"
      },
      "source": [
        "## 載入VGG 16 模型"
      ]
    },
    {
      "cell_type": "code",
      "execution_count": 2,
      "metadata": {
        "id": "Gu62d9Bimcsq",
        "outputId": "f41e3904-0e73-4e90-cb51-48ce61335eb4",
        "colab": {
          "base_uri": "https://localhost:8080/"
        }
      },
      "outputs": [
        {
          "output_type": "stream",
          "name": "stdout",
          "text": [
            "Downloading data from https://storage.googleapis.com/tensorflow/keras-applications/vgg16/vgg16_weights_tf_dim_ordering_tf_kernels_notop.h5\n",
            "58889256/58889256 [==============================] - 0s 0us/step\n",
            "Model: \"vgg16\"\n",
            "_________________________________________________________________\n",
            " Layer (type)                Output Shape              Param #   \n",
            "=================================================================\n",
            " input_1 (InputLayer)        [(None, None, None, 3)]   0         \n",
            "                                                                 \n",
            " block1_conv1 (Conv2D)       (None, None, None, 64)    1792      \n",
            "                                                                 \n",
            " block1_conv2 (Conv2D)       (None, None, None, 64)    36928     \n",
            "                                                                 \n",
            " block1_pool (MaxPooling2D)  (None, None, None, 64)    0         \n",
            "                                                                 \n",
            " block2_conv1 (Conv2D)       (None, None, None, 128)   73856     \n",
            "                                                                 \n",
            " block2_conv2 (Conv2D)       (None, None, None, 128)   147584    \n",
            "                                                                 \n",
            " block2_pool (MaxPooling2D)  (None, None, None, 128)   0         \n",
            "                                                                 \n",
            " block3_conv1 (Conv2D)       (None, None, None, 256)   295168    \n",
            "                                                                 \n",
            " block3_conv2 (Conv2D)       (None, None, None, 256)   590080    \n",
            "                                                                 \n",
            " block3_conv3 (Conv2D)       (None, None, None, 256)   590080    \n",
            "                                                                 \n",
            " block3_pool (MaxPooling2D)  (None, None, None, 256)   0         \n",
            "                                                                 \n",
            " block4_conv1 (Conv2D)       (None, None, None, 512)   1180160   \n",
            "                                                                 \n",
            " block4_conv2 (Conv2D)       (None, None, None, 512)   2359808   \n",
            "                                                                 \n",
            " block4_conv3 (Conv2D)       (None, None, None, 512)   2359808   \n",
            "                                                                 \n",
            " block4_pool (MaxPooling2D)  (None, None, None, 512)   0         \n",
            "                                                                 \n",
            " block5_conv1 (Conv2D)       (None, None, None, 512)   2359808   \n",
            "                                                                 \n",
            " block5_conv2 (Conv2D)       (None, None, None, 512)   2359808   \n",
            "                                                                 \n",
            " block5_conv3 (Conv2D)       (None, None, None, 512)   2359808   \n",
            "                                                                 \n",
            " block5_pool (MaxPooling2D)  (None, None, None, 512)   0         \n",
            "                                                                 \n",
            "=================================================================\n",
            "Total params: 14714688 (56.13 MB)\n",
            "Trainable params: 14714688 (56.13 MB)\n",
            "Non-trainable params: 0 (0.00 Byte)\n",
            "_________________________________________________________________\n"
          ]
        }
      ],
      "source": [
        "# 載入VGG 16 模型, 不含最上面的三層(辨識層)\n",
        "model = VGG16(weights='imagenet', include_top=False)\n",
        "model.summary()"
      ]
    },
    {
      "cell_type": "code",
      "execution_count": 3,
      "metadata": {
        "id": "kmbVlS0Omcsr",
        "outputId": "c496256e-caf7-4e78-8061-b063b2c837cb",
        "colab": {
          "base_uri": "https://localhost:8080/"
        }
      },
      "outputs": [
        {
          "output_type": "stream",
          "name": "stdout",
          "text": [
            "1/1 [==============================] - 1s 847ms/step\n",
            "[[[ 0.         0.         0.        ...  0.         0.         0.       ]\n",
            "  [ 0.         0.        41.877026  ...  0.         0.         0.       ]\n",
            "  [ 1.0921557  0.        22.865004  ...  0.         0.         0.       ]\n",
            "  ...\n",
            "  [ 0.         0.         0.        ...  0.         0.         0.       ]\n",
            "  [ 0.         0.         0.        ...  0.         0.         0.       ]\n",
            "  [ 0.         0.         0.        ...  0.         0.         0.       ]]\n",
            "\n",
            " [[ 0.         0.        36.38516   ...  0.         0.         3.260647 ]\n",
            "  [ 0.         0.        80.49932   ...  8.425441   0.         0.       ]\n",
            "  [ 0.         0.        48.482685  ...  0.         0.         0.       ]\n",
            "  ...\n",
            "  [ 0.         0.         0.        ...  4.342977   0.         0.       ]\n",
            "  [ 0.         0.         0.        ...  0.         0.         0.       ]\n",
            "  [ 0.         0.         0.        ...  0.         0.         0.       ]]\n",
            "\n",
            " [[ 0.         0.        10.000878  ...  0.         0.         2.2095375]\n",
            "  [ 0.         0.        25.235987  ... 42.217094   0.        15.628249 ]\n",
            "  [ 0.         0.         0.        ... 25.986715   2.3296552  0.       ]\n",
            "  ...\n",
            "  [ 0.         0.         0.        ...  4.5011315  0.         0.       ]\n",
            "  [ 0.         0.         0.        ...  0.         0.         0.       ]\n",
            "  [ 0.         0.         0.        ...  0.         0.         0.       ]]\n",
            "\n",
            " ...\n",
            "\n",
            " [[ 0.         0.         0.        ...  0.         0.         0.       ]\n",
            "  [ 0.         0.         0.        ...  0.         0.         0.       ]\n",
            "  [ 0.         0.        12.250782  ...  0.         0.         0.       ]\n",
            "  ...\n",
            "  [ 0.         0.        22.419245  ...  0.         0.         0.       ]\n",
            "  [ 0.         0.         0.        ...  0.         0.         0.       ]\n",
            "  [ 0.         0.         0.        ...  0.         0.         0.       ]]\n",
            "\n",
            " [[ 0.         0.         0.        ...  0.         0.         0.       ]\n",
            "  [ 0.         0.         0.        ...  0.         0.         0.       ]\n",
            "  [ 0.         0.         0.        ...  0.         0.         0.       ]\n",
            "  ...\n",
            "  [ 0.         0.        10.478312  ...  0.         0.         0.       ]\n",
            "  [ 0.         0.         0.        ...  0.         0.         0.       ]\n",
            "  [ 0.         0.         0.        ...  0.         0.         0.       ]]\n",
            "\n",
            " [[ 0.         0.         0.        ...  0.         0.         0.       ]\n",
            "  [ 0.         0.         0.        ...  0.         0.         0.       ]\n",
            "  [ 0.         0.         0.5725757 ...  0.         0.         0.       ]\n",
            "  ...\n",
            "  [ 0.         0.         0.        ...  0.         0.         0.       ]\n",
            "  [ 0.         0.         0.        ...  0.         0.         0.       ]\n",
            "  [ 0.         0.         0.        ...  0.         0.         0.       ]]]\n"
          ]
        }
      ],
      "source": [
        "# 任選一張圖片，例如大象側面照，取得圖檔的特徵向量\n",
        "img_path = './images_test/elephant.jpg'\n",
        "\n",
        "# 載入圖檔，並縮放寬高為 (224, 224)\n",
        "img = image.load_img(img_path, target_size=(224, 224))\n",
        "\n",
        "# 加一維，變成 (1, 224, 224)\n",
        "x = image.img_to_array(img)\n",
        "x = np.expand_dims(x, axis=0)\n",
        "x = preprocess_input(x)\n",
        "\n",
        "# 取得圖檔的特徵向量\n",
        "features = model.predict(x)\n",
        "print(features[0])"
      ]
    },
    {
      "cell_type": "code",
      "execution_count": 4,
      "metadata": {
        "id": "-t2rD1FHmcss",
        "outputId": "d8982c54-13e3-47fa-af84-2b938f0c8c13",
        "colab": {
          "base_uri": "https://localhost:8080/"
        }
      },
      "outputs": [
        {
          "output_type": "stream",
          "name": "stdout",
          "text": [
            "(1, 7, 7, 512)\n"
          ]
        }
      ],
      "source": [
        "print(features.shape)"
      ]
    },
    {
      "cell_type": "markdown",
      "metadata": {
        "id": "y40nev78mcst"
      },
      "source": [
        "# 使用 cosine_similarity 比較特徵向量"
      ]
    },
    {
      "cell_type": "markdown",
      "metadata": {
        "id": "JeHab8QMmcst"
      },
      "source": [
        "### 步驟 1. 取得 images_test 目錄下所有 .jpg 檔案名稱"
      ]
    },
    {
      "cell_type": "code",
      "execution_count": 5,
      "metadata": {
        "id": "RZOvUQx0mcsu",
        "outputId": "9f4c5749-035a-4c2f-f836-a867833508f5",
        "colab": {
          "base_uri": "https://localhost:8080/"
        }
      },
      "outputs": [
        {
          "output_type": "execute_result",
          "data": {
            "text/plain": [
              "array(['daisy1.jpg', 'tiger2.jpg', 'bird.jpg', 'tiger1.jpg', 'daisy2.jpg',\n",
              "       'lion2.jpg', 'elephant2.jpg', 'deer.jpg', 'lion1.jpg',\n",
              "       'elephant.jpg', 'panda1.jpg', 'bird2.jpg', 'panda2.jpg',\n",
              "       'panda3.jpg', 'tiger3.jpg', 'rose2.jpg'], dtype='<U13')"
            ]
          },
          "metadata": {},
          "execution_count": 5
        }
      ],
      "source": [
        "from os import listdir\n",
        "from os.path import isfile, join\n",
        "\n",
        "# 取得 images_test 目錄下所有 .jpg 檔案名稱\n",
        "img_path = './images_test/'\n",
        "image_files = np.array([f for f in listdir(img_path)\n",
        "        if isfile(join(img_path, f)) and f[-3:] == 'jpg'])\n",
        "image_files"
      ]
    },
    {
      "cell_type": "markdown",
      "metadata": {
        "id": "HPh6Q_Ifmcsu"
      },
      "source": [
        "### 步驟 2. 取得 images_test 目錄下所有 .jpg 檔案的像素"
      ]
    },
    {
      "cell_type": "code",
      "execution_count": 6,
      "metadata": {
        "id": "7nP1bZr5mcsv"
      },
      "outputs": [],
      "source": [
        "import numpy as np\n",
        "\n",
        "# 合併所有圖檔的像素\n",
        "X = np.array([])\n",
        "for f in image_files:\n",
        "    image_file = join(img_path, f)\n",
        "    # 載入圖檔，並縮放寬高為 (224, 224)\n",
        "    img = image.load_img(image_file, target_size=(224, 224))\n",
        "    img2 = image.img_to_array(img)\n",
        "    img2 = np.expand_dims(img2, axis=0)\n",
        "    if len(X.shape) == 1:\n",
        "        X = img2\n",
        "    else:\n",
        "        X = np.concatenate((X, img2), axis=0)\n",
        "\n",
        "X = preprocess_input(X)"
      ]
    },
    {
      "cell_type": "markdown",
      "metadata": {
        "id": "oEh9Df9emcsv"
      },
      "source": [
        "### 步驟 3. 取得所有圖檔的特徵向量"
      ]
    },
    {
      "cell_type": "code",
      "execution_count": 7,
      "metadata": {
        "scrolled": true,
        "id": "Ej53-IRqmcsv",
        "outputId": "efb755bd-ab63-433e-99ef-44e64d14a375",
        "colab": {
          "base_uri": "https://localhost:8080/"
        }
      },
      "outputs": [
        {
          "output_type": "stream",
          "name": "stdout",
          "text": [
            "1/1 [==============================] - 10s 10s/step\n"
          ]
        },
        {
          "output_type": "execute_result",
          "data": {
            "text/plain": [
              "((16, 7, 7, 512), (16, 224, 224, 3))"
            ]
          },
          "metadata": {},
          "execution_count": 7
        }
      ],
      "source": [
        "# 取得所有圖檔的特徵向量\n",
        "features = model.predict(X)\n",
        "\n",
        "features.shape, X.shape"
      ]
    },
    {
      "cell_type": "markdown",
      "metadata": {
        "id": "ECI6_Gwimcsv"
      },
      "source": [
        "### 步驟 4. 使用 cosine_similarity 函數比較特徵向量"
      ]
    },
    {
      "cell_type": "code",
      "execution_count": 8,
      "metadata": {
        "id": "rthZAx27mcsw",
        "outputId": "0be1133a-044f-4ae7-ef15-dfe3bbdfe383",
        "colab": {
          "base_uri": "https://localhost:8080/"
        }
      },
      "outputs": [
        {
          "output_type": "stream",
          "name": "stdout",
          "text": [
            "tiger3.jpg\n",
            "[0.31442717 0.2666164  0.15673114 0.11975335 0.09697845 0.09630291\n",
            " 0.09111855 0.08640812 0.07170606 0.06052469 0.05851331 0.0534065\n",
            " 0.04204471 0.03196231 0.02107605]\n"
          ]
        },
        {
          "output_type": "execute_result",
          "data": {
            "text/plain": [
              "array(['tiger1.jpg', 'tiger2.jpg', 'lion2.jpg', 'panda2.jpg',\n",
              "       'elephant.jpg', 'lion1.jpg', 'panda1.jpg', 'panda3.jpg',\n",
              "       'elephant2.jpg', 'deer.jpg', 'bird.jpg', 'rose2.jpg', 'daisy2.jpg',\n",
              "       'bird2.jpg', 'daisy1.jpg'], dtype='<U13')"
            ]
          },
          "metadata": {},
          "execution_count": 8
        }
      ],
      "source": [
        "# 使用 cosine_similarity 比較特徵向量\n",
        "from sklearn.metrics.pairwise import cosine_similarity\n",
        "\n",
        "\n",
        "# 比較 Tiger2.jpg 與其他圖檔特徵向量\n",
        "no=-2\n",
        "print(image_files[no])\n",
        "\n",
        "# 轉為二維向量，類似扁平層(Flatten)\n",
        "features2 = features.reshape((features.shape[0], -1))\n",
        "\n",
        "# 排除 Tiger2.jpg 的其他圖檔特徵向量\n",
        "other_features = np.concatenate((features2[:no], features2[no+1:]))\n",
        "\n",
        "# 使用 cosine_similarity 計算 Cosine 函數\n",
        "similar_list = cosine_similarity(features2[no:no+1], other_features,\n",
        "                                 dense_output=False)\n",
        "\n",
        "# 顯示相似度，由大排到小\n",
        "print(np.sort(similar_list[0])[::-1])\n",
        "\n",
        "# 依相似度，由大排到小，顯示檔名\n",
        "image_files2 = np.delete(image_files, no)\n",
        "image_files2[np.argsort(similar_list[0])[::-1]]"
      ]
    },
    {
      "cell_type": "markdown",
      "metadata": {
        "id": "IUPqfA_Fmcsw"
      },
      "source": [
        "### 其他圖檔比較"
      ]
    },
    {
      "cell_type": "code",
      "execution_count": 9,
      "metadata": {
        "id": "BN2H_ez1mcsw",
        "outputId": "c9fa9200-8b3a-4629-d41a-d092d3c04584",
        "colab": {
          "base_uri": "https://localhost:8080/"
        }
      },
      "outputs": [
        {
          "output_type": "stream",
          "name": "stdout",
          "text": [
            "daisy1.jpg\n",
            "[0.19530812 0.05174034 0.0346877  0.03127885 0.03121524 0.02680768\n",
            " 0.0259204  0.02443978 0.02309933 0.02197441 0.02107604 0.02004465\n",
            " 0.01990521 0.0191945  0.01629711]\n"
          ]
        },
        {
          "output_type": "execute_result",
          "data": {
            "text/plain": [
              "array(['daisy2.jpg', 'rose2.jpg', 'panda1.jpg', 'elephant2.jpg',\n",
              "       'tiger2.jpg', 'panda3.jpg', 'bird2.jpg', 'lion1.jpg', 'tiger1.jpg',\n",
              "       'elephant.jpg', 'tiger3.jpg', 'lion2.jpg', 'deer.jpg',\n",
              "       'panda2.jpg', 'bird.jpg'], dtype='<U13')"
            ]
          },
          "metadata": {},
          "execution_count": 9
        }
      ],
      "source": [
        "# 比較對象：bird.jpg\n",
        "no=0\n",
        "print(image_files[no])\n",
        "\n",
        "\n",
        "# 使用 cosine_similarity 計算 Cosine 函數\n",
        "other_features = np.concatenate((features2[:no], features2[no+1:]))\n",
        "similar_list = cosine_similarity(features2[no:no+1], other_features,\n",
        "                                 dense_output=False)\n",
        "\n",
        "# 顯示相似度，由大排到小\n",
        "print(np.sort(similar_list[0])[::-1])\n",
        "\n",
        "# 依相似度，由大排到小，顯示檔名\n",
        "image_files2 = np.delete(image_files, no)\n",
        "image_files2[np.argsort(similar_list[0])[::-1]]"
      ]
    },
    {
      "cell_type": "code",
      "execution_count": 9,
      "metadata": {
        "id": "yCiKiknSmcsx"
      },
      "outputs": [],
      "source": []
    }
  ],
  "metadata": {
    "kernelspec": {
      "display_name": "Python 3",
      "language": "python",
      "name": "python3"
    },
    "language_info": {
      "codemirror_mode": {
        "name": "ipython",
        "version": 3
      },
      "file_extension": ".py",
      "mimetype": "text/x-python",
      "name": "python",
      "nbconvert_exporter": "python",
      "pygments_lexer": "ipython3",
      "version": "3.8.3"
    },
    "colab": {
      "provenance": []
    }
  },
  "nbformat": 4,
  "nbformat_minor": 0
}