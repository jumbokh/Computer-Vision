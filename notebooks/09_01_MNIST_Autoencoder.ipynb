{
  "cells": [
    {
      "cell_type": "markdown",
      "metadata": {
        "id": "hNdO8rrS2PSN"
      },
      "source": [
        "# AutoEncoder 與去除雜訊"
      ]
    },
    {
      "cell_type": "code",
      "execution_count": 1,
      "metadata": {
        "id": "q2GxL8Wl2PSQ"
      },
      "outputs": [],
      "source": [
        "# 載入相關套件\n",
        "import numpy as np\n",
        "import tensorflow as tf\n",
        "import tensorflow.keras as K\n",
        "import matplotlib.pyplot as plt\n",
        "from tensorflow.keras.layers import Dense, Conv2D, MaxPooling2D, UpSampling2D"
      ]
    },
    {
      "cell_type": "markdown",
      "metadata": {
        "id": "Ix2PfdpL2PSR"
      },
      "source": [
        "## 超參數設定"
      ]
    },
    {
      "cell_type": "code",
      "execution_count": 2,
      "metadata": {
        "id": "6j8sVV4W2PSR"
      },
      "outputs": [],
      "source": [
        "# 超參數設定\n",
        "batch_size = 128     # 訓練批量\n",
        "max_epochs = 50      # 訓練執行週期\n",
        "filters = [32,32,16] # 三層卷積層的輸出個數"
      ]
    },
    {
      "cell_type": "markdown",
      "metadata": {
        "id": "ZejuqF882PSR"
      },
      "source": [
        "## 取得 MNIST 訓練資料"
      ]
    },
    {
      "cell_type": "code",
      "execution_count": 3,
      "metadata": {
        "id": "F2JxY6Qs2PSR",
        "outputId": "179aed7a-0241-4c7a-b5dc-3ad7788acc6b",
        "colab": {
          "base_uri": "https://localhost:8080/"
        }
      },
      "outputs": [
        {
          "output_type": "stream",
          "name": "stdout",
          "text": [
            "Downloading data from https://storage.googleapis.com/tensorflow/tf-keras-datasets/mnist.npz\n",
            "11490434/11490434 [==============================] - 0s 0us/step\n"
          ]
        }
      ],
      "source": [
        "# 只取 X ，不需 Y\n",
        "(x_train, _), (x_test, _) = K.datasets.mnist.load_data()\n",
        "\n",
        "# 常態化\n",
        "x_train = x_train / 255.\n",
        "x_test = x_test / 255.\n",
        "\n",
        "# 加一維：色彩\n",
        "x_train = np.reshape(x_train, (len(x_train),28, 28, 1))\n",
        "x_test = np.reshape(x_test, (len(x_test), 28, 28, 1))"
      ]
    },
    {
      "cell_type": "markdown",
      "metadata": {
        "id": "f6zcbHB92PSS"
      },
      "source": [
        "## 在既有圖像加雜訊"
      ]
    },
    {
      "cell_type": "code",
      "execution_count": 4,
      "metadata": {
        "id": "BlyARyXX2PSS"
      },
      "outputs": [],
      "source": [
        "# 在既有圖像加雜訊\n",
        "noise = 0.5\n",
        "\n",
        "# 固定隨機亂數\n",
        "np.random.seed(11)\n",
        "tf.random.set_seed(11)\n",
        "\n",
        "# 隨機加雜訊\n",
        "x_train_noisy = x_train + noise * np.random.normal(loc=0.0,\n",
        "                                         scale=1.0, size=x_train.shape)\n",
        "x_test_noisy = x_test + noise * np.random.normal(loc=0.0,\n",
        "                                         scale=1.0, size=x_test.shape)\n",
        "\n",
        "# 加完裁切數值，避免大於 1\n",
        "x_train_noisy = np.clip(x_train_noisy, 0, 1)\n",
        "x_test_noisy = np.clip(x_test_noisy, 0, 1)\n",
        "\n",
        "# 轉換為浮點數\n",
        "x_train_noisy = x_train_noisy.astype('float32')\n",
        "x_test_noisy = x_test_noisy.astype('float32')"
      ]
    },
    {
      "cell_type": "markdown",
      "metadata": {
        "id": "sXr0d1rG2PSS"
      },
      "source": [
        "## 建立編碼器(Encoder)、解碼器(Decoder) 模型"
      ]
    },
    {
      "cell_type": "code",
      "execution_count": 5,
      "metadata": {
        "id": "XkbWN4w62PSS"
      },
      "outputs": [],
      "source": [
        "# 編碼器(Encoder)\n",
        "class Encoder(K.layers.Layer):\n",
        "    def __init__(self, filters):\n",
        "        super(Encoder, self).__init__()\n",
        "        self.conv1 = Conv2D(filters=filters[0], kernel_size=3, strides=1,\n",
        "                            activation='relu', padding='same')\n",
        "        self.conv2 = Conv2D(filters=filters[1], kernel_size=3, strides=1,\n",
        "                            activation='relu', padding='same')\n",
        "        self.conv3 = Conv2D(filters=filters[2], kernel_size=3, strides=1,\n",
        "                            activation='relu', padding='same')\n",
        "        self.pool = MaxPooling2D((2, 2), padding='same')\n",
        "\n",
        "\n",
        "    def call(self, input_features):\n",
        "        x = self.conv1(input_features)\n",
        "        #print(\"Ex1\", x.shape)\n",
        "        x = self.pool(x)\n",
        "        #print(\"Ex2\", x.shape)\n",
        "        x = self.conv2(x)\n",
        "        x = self.pool(x)\n",
        "        x = self.conv3(x)\n",
        "        x = self.pool(x)\n",
        "        return x"
      ]
    },
    {
      "cell_type": "code",
      "execution_count": 6,
      "metadata": {
        "id": "Z8K5eswP2PST"
      },
      "outputs": [],
      "source": [
        "# 解碼器(Decoder)\n",
        "class Decoder(K.layers.Layer):\n",
        "    def __init__(self, filters):\n",
        "        super(Decoder, self).__init__()\n",
        "        self.conv1 = Conv2D(filters=filters[2], kernel_size=3, strides=1,\n",
        "                            activation='relu', padding='same')\n",
        "        self.conv2 = Conv2D(filters=filters[1], kernel_size=3, strides=1,\n",
        "                            activation='relu', padding='same')\n",
        "        self.conv3 = Conv2D(filters=filters[0], kernel_size=3, strides=1,\n",
        "                            activation='relu', padding='valid')\n",
        "        self.conv4 = Conv2D(1, 3, 1, activation='sigmoid', padding='same')\n",
        "        self.upsample = UpSampling2D((2, 2))\n",
        "\n",
        "    def call(self, encoded):\n",
        "        x = self.conv1(encoded)\n",
        "        # 上採樣\n",
        "        x = self.upsample(x)\n",
        "\n",
        "        x = self.conv2(x)\n",
        "        x = self.upsample(x)\n",
        "\n",
        "        x = self.conv3(x)\n",
        "        x = self.upsample(x)\n",
        "\n",
        "        return self.conv4(x)"
      ]
    },
    {
      "cell_type": "markdown",
      "metadata": {
        "id": "FZ5WobzW2PST"
      },
      "source": [
        "## 建立 Autoencoder 模型，結合編碼器(Encoder)、解碼器(Decoder)"
      ]
    },
    {
      "cell_type": "code",
      "execution_count": 7,
      "metadata": {
        "id": "7Swi3Qgl2PST"
      },
      "outputs": [],
      "source": [
        "# 建立 Autoencoder 模型\n",
        "class Autoencoder(K.Model):\n",
        "    def __init__(self, filters):\n",
        "        super(Autoencoder, self).__init__()\n",
        "        self.loss = []\n",
        "        self.encoder = Encoder(filters)\n",
        "        self.decoder = Decoder(filters)\n",
        "\n",
        "    def call(self, input_features):\n",
        "        #print(input_features.shape)\n",
        "        encoded = self.encoder(input_features)\n",
        "        #print(encoded.shape)\n",
        "        reconstructed = self.decoder(encoded)\n",
        "        #print(reconstructed.shape)\n",
        "        return reconstructed"
      ]
    },
    {
      "cell_type": "markdown",
      "metadata": {
        "id": "AbNwETlV2PST"
      },
      "source": [
        "## 訓練模型"
      ]
    },
    {
      "cell_type": "code",
      "execution_count": 8,
      "metadata": {
        "scrolled": true,
        "id": "HKxWLo_d2PST",
        "outputId": "6d8a1a75-1d7d-420f-e41b-0fc8cc6a777f",
        "colab": {
          "base_uri": "https://localhost:8080/"
        }
      },
      "outputs": [
        {
          "output_type": "stream",
          "name": "stdout",
          "text": [
            "Epoch 1/50\n",
            "469/469 [==============================] - 134s 278ms/step - loss: 0.2089 - val_loss: 0.1542\n",
            "Epoch 2/50\n",
            "469/469 [==============================] - 134s 286ms/step - loss: 0.1449 - val_loss: 0.1368\n",
            "Epoch 3/50\n",
            "469/469 [==============================] - 136s 290ms/step - loss: 0.1329 - val_loss: 0.1281\n",
            "Epoch 4/50\n",
            "469/469 [==============================] - 135s 288ms/step - loss: 0.1264 - val_loss: 0.1226\n",
            "Epoch 5/50\n",
            "469/469 [==============================] - 139s 296ms/step - loss: 0.1220 - val_loss: 0.1190\n",
            "Epoch 6/50\n",
            "469/469 [==============================] - 127s 271ms/step - loss: 0.1188 - val_loss: 0.1160\n",
            "Epoch 7/50\n",
            "469/469 [==============================] - 117s 249ms/step - loss: 0.1162 - val_loss: 0.1136\n",
            "Epoch 8/50\n",
            "469/469 [==============================] - 122s 260ms/step - loss: 0.1142 - val_loss: 0.1139\n",
            "Epoch 9/50\n",
            "469/469 [==============================] - 121s 258ms/step - loss: 0.1127 - val_loss: 0.1112\n",
            "Epoch 10/50\n",
            "469/469 [==============================] - 121s 259ms/step - loss: 0.1112 - val_loss: 0.1096\n",
            "Epoch 11/50\n",
            "469/469 [==============================] - 122s 260ms/step - loss: 0.1101 - val_loss: 0.1085\n",
            "Epoch 12/50\n",
            "469/469 [==============================] - 121s 259ms/step - loss: 0.1093 - val_loss: 0.1083\n",
            "Epoch 13/50\n",
            "469/469 [==============================] - 122s 260ms/step - loss: 0.1084 - val_loss: 0.1070\n",
            "Epoch 14/50\n",
            "469/469 [==============================] - 125s 267ms/step - loss: 0.1079 - val_loss: 0.1063\n",
            "Epoch 15/50\n",
            "469/469 [==============================] - 122s 260ms/step - loss: 0.1072 - val_loss: 0.1065\n",
            "Epoch 16/50\n",
            "469/469 [==============================] - 123s 261ms/step - loss: 0.1067 - val_loss: 0.1052\n",
            "Epoch 17/50\n",
            "469/469 [==============================] - 121s 259ms/step - loss: 0.1061 - val_loss: 0.1059\n",
            "Epoch 18/50\n",
            "469/469 [==============================] - 122s 259ms/step - loss: 0.1057 - val_loss: 0.1046\n",
            "Epoch 19/50\n",
            "469/469 [==============================] - 123s 261ms/step - loss: 0.1054 - val_loss: 0.1042\n",
            "Epoch 20/50\n",
            "469/469 [==============================] - 131s 279ms/step - loss: 0.1050 - val_loss: 0.1043\n",
            "Epoch 21/50\n",
            "469/469 [==============================] - 132s 281ms/step - loss: 0.1047 - val_loss: 0.1037\n",
            "Epoch 22/50\n",
            "469/469 [==============================] - 132s 282ms/step - loss: 0.1044 - val_loss: 0.1033\n",
            "Epoch 23/50\n",
            "469/469 [==============================] - 130s 277ms/step - loss: 0.1041 - val_loss: 0.1030\n",
            "Epoch 24/50\n",
            "469/469 [==============================] - 133s 284ms/step - loss: 0.1037 - val_loss: 0.1030\n",
            "Epoch 25/50\n",
            "469/469 [==============================] - 133s 284ms/step - loss: 0.1036 - val_loss: 0.1031\n",
            "Epoch 26/50\n",
            "469/469 [==============================] - 133s 284ms/step - loss: 0.1034 - val_loss: 0.1027\n",
            "Epoch 27/50\n",
            "469/469 [==============================] - 126s 268ms/step - loss: 0.1030 - val_loss: 0.1022\n",
            "Epoch 28/50\n",
            "469/469 [==============================] - 118s 251ms/step - loss: 0.1029 - val_loss: 0.1034\n",
            "Epoch 29/50\n",
            "469/469 [==============================] - 116s 247ms/step - loss: 0.1027 - val_loss: 0.1020\n",
            "Epoch 30/50\n",
            "469/469 [==============================] - 116s 248ms/step - loss: 0.1025 - val_loss: 0.1019\n",
            "Epoch 31/50\n",
            "469/469 [==============================] - 118s 252ms/step - loss: 0.1024 - val_loss: 0.1024\n",
            "Epoch 32/50\n",
            "469/469 [==============================] - 117s 249ms/step - loss: 0.1022 - val_loss: 0.1013\n",
            "Epoch 33/50\n",
            "469/469 [==============================] - 126s 268ms/step - loss: 0.1020 - val_loss: 0.1017\n",
            "Epoch 34/50\n",
            "469/469 [==============================] - 117s 249ms/step - loss: 0.1019 - val_loss: 0.1014\n",
            "Epoch 35/50\n",
            "469/469 [==============================] - 114s 243ms/step - loss: 0.1018 - val_loss: 0.1012\n",
            "Epoch 36/50\n",
            "469/469 [==============================] - 114s 243ms/step - loss: 0.1017 - val_loss: 0.1011\n",
            "Epoch 37/50\n",
            "469/469 [==============================] - 109s 233ms/step - loss: 0.1015 - val_loss: 0.1007\n",
            "Epoch 38/50\n",
            "469/469 [==============================] - 111s 237ms/step - loss: 0.1014 - val_loss: 0.1005\n",
            "Epoch 39/50\n",
            "469/469 [==============================] - 111s 237ms/step - loss: 0.1012 - val_loss: 0.1005\n",
            "Epoch 40/50\n",
            "469/469 [==============================] - 111s 236ms/step - loss: 0.1011 - val_loss: 0.1003\n",
            "Epoch 41/50\n",
            "469/469 [==============================] - 111s 237ms/step - loss: 0.1011 - val_loss: 0.1017\n",
            "Epoch 42/50\n",
            "469/469 [==============================] - 111s 237ms/step - loss: 0.1010 - val_loss: 0.1004\n",
            "Epoch 43/50\n",
            "469/469 [==============================] - 111s 237ms/step - loss: 0.1008 - val_loss: 0.1005\n",
            "Epoch 44/50\n",
            "469/469 [==============================] - 110s 235ms/step - loss: 0.1008 - val_loss: 0.1002\n",
            "Epoch 45/50\n",
            "469/469 [==============================] - 112s 239ms/step - loss: 0.1007 - val_loss: 0.1007\n",
            "Epoch 46/50\n",
            "469/469 [==============================] - 111s 236ms/step - loss: 0.1007 - val_loss: 0.1003\n",
            "Epoch 47/50\n",
            "469/469 [==============================] - 112s 238ms/step - loss: 0.1006 - val_loss: 0.1002\n",
            "Epoch 48/50\n",
            "469/469 [==============================] - 110s 235ms/step - loss: 0.1004 - val_loss: 0.1001\n",
            "Epoch 49/50\n",
            "469/469 [==============================] - 111s 237ms/step - loss: 0.1004 - val_loss: 0.1000\n",
            "Epoch 50/50\n",
            "469/469 [==============================] - 112s 239ms/step - loss: 0.1004 - val_loss: 0.1001\n"
          ]
        }
      ],
      "source": [
        "model = Autoencoder(filters)\n",
        "\n",
        "model.compile(loss='binary_crossentropy', optimizer='adam')\n",
        "\n",
        "loss = model.fit(x_train_noisy,\n",
        "                x_train,\n",
        "                validation_data=(x_test_noisy, x_test),\n",
        "                epochs=max_epochs,\n",
        "                batch_size=batch_size)"
      ]
    },
    {
      "cell_type": "code",
      "execution_count": 9,
      "metadata": {
        "id": "cUYoC3ab2PSU",
        "outputId": "5ac1c99d-55a7-4bb5-b525-a4dab4a0c3e6",
        "colab": {
          "base_uri": "https://localhost:8080/"
        }
      },
      "outputs": [
        {
          "output_type": "stream",
          "name": "stdout",
          "text": [
            "Model: \"autoencoder\"\n",
            "_________________________________________________________________\n",
            " Layer (type)                Output Shape              Param #   \n",
            "=================================================================\n",
            " encoder (Encoder)           multiple                  14192     \n",
            "                                                                 \n",
            " decoder (Decoder)           multiple                  16497     \n",
            "                                                                 \n",
            "=================================================================\n",
            "Total params: 30689 (119.88 KB)\n",
            "Trainable params: 30689 (119.88 KB)\n",
            "Non-trainable params: 0 (0.00 Byte)\n",
            "_________________________________________________________________\n"
          ]
        }
      ],
      "source": [
        "model.summary()"
      ]
    },
    {
      "cell_type": "code",
      "execution_count": 10,
      "metadata": {
        "id": "8ZICFMHR2PSU",
        "outputId": "6fd95c87-c1ea-4e3b-ebaf-65a256b0b880",
        "colab": {
          "base_uri": "https://localhost:8080/"
        }
      },
      "outputs": [
        {
          "output_type": "execute_result",
          "data": {
            "text/plain": [
              "['encoder', 'decoder']"
            ]
          },
          "metadata": {},
          "execution_count": 10
        }
      ],
      "source": [
        "[x.name for x in model.layers]"
      ]
    },
    {
      "cell_type": "code",
      "execution_count": 11,
      "metadata": {
        "scrolled": true,
        "id": "LA-hX-sb2PSU",
        "outputId": "3025ed28-0f04-4dc9-f1a3-44febf2c8b41",
        "colab": {
          "base_uri": "https://localhost:8080/",
          "height": 77
        }
      },
      "outputs": [
        {
          "output_type": "execute_result",
          "data": {
            "image/png": "[encoded data removed]",
            "text/plain": [
              "<IPython.core.display.Image object>"
            ]
          },
          "metadata": {},
          "execution_count": 11
        }
      ],
      "source": [
        "tf.keras.utils.plot_model(model, to_file='model.png')"
      ]
    },
    {
      "cell_type": "markdown",
      "metadata": {
        "id": "83K4w9Nh2PSU"
      },
      "source": [
        "## 繪製損失函數"
      ]
    },
    {
      "cell_type": "code",
      "execution_count": 12,
      "metadata": {
        "scrolled": true,
        "id": "fDE0OUJj2PSU",
        "outputId": "74ed2ef9-aa73-454c-8460-f0bcfc3c0e61",
        "colab": {
          "base_uri": "https://localhost:8080/",
          "height": 449
        }
      },
      "outputs": [
        {
          "output_type": "display_data",
          "data": {
            "text/plain": [
              "<Figure size 640x480 with 1 Axes>"
            ],
            "image/png": "[encoded data removed]"
          },
          "metadata": {}
        }
      ],
      "source": [
        "# 繪製損失函數\n",
        "plt.plot(range(max_epochs), loss.history['loss'])\n",
        "plt.xlabel('Epochs')\n",
        "plt.ylabel('Loss')\n",
        "plt.show()"
      ]
    },
    {
      "cell_type": "markdown",
      "metadata": {
        "id": "t7v5JXXw2PSU"
      },
      "source": [
        "## 比較加了雜訊的圖像與訓練後的圖像"
      ]
    },
    {
      "cell_type": "code",
      "execution_count": 13,
      "metadata": {
        "scrolled": true,
        "id": "5f3HixR12PSU",
        "outputId": "aa1a0061-9b1a-4b87-d4c8-312ac214f8a9",
        "colab": {
          "base_uri": "https://localhost:8080/",
          "height": 243
        }
      },
      "outputs": [
        {
          "output_type": "display_data",
          "data": {
            "text/plain": [
              "<Figure size 2000x400 with 20 Axes>"
            ],
            "image/png": "[encoded data removed]"
          },
          "metadata": {}
        }
      ],
      "source": [
        "number = 10  # how many digits we will display\n",
        "plt.figure(figsize=(20, 4))\n",
        "for index in range(number):\n",
        "    # 加了雜訊的圖像\n",
        "    ax = plt.subplot(2, number, index + 1)\n",
        "    plt.imshow(x_test_noisy[index].reshape(28, 28), cmap='gray')\n",
        "    ax.get_xaxis().set_visible(False)\n",
        "    ax.get_yaxis().set_visible(False)\n",
        "\n",
        "    # 重建的圖像\n",
        "    ax = plt.subplot(2, number, index + 1 + number)\n",
        "    plt.imshow(tf.reshape(model(x_test_noisy[index:index+1]), (28, 28)), cmap='gray')\n",
        "    ax.get_xaxis().set_visible(False)\n",
        "    ax.get_yaxis().set_visible(False)\n",
        "plt.show()"
      ]
    },
    {
      "cell_type": "code",
      "execution_count": 14,
      "metadata": {
        "id": "eoP7GMdu2PSU"
      },
      "outputs": [],
      "source": [
        "model.save('ae.hp5')"
      ]
    },
    {
      "cell_type": "code",
      "source": [],
      "metadata": {
        "id": "FFVe3vvmNunB"
      },
      "execution_count": null,
      "outputs": []
    },
    {
      "cell_type": "code",
      "source": [
        "from google.colab import drive\n",
        "drive.mount('/content/drive')"
      ],
      "metadata": {
        "id": "srodtJ6_N2qS",
        "outputId": "8338ec46-60b4-4edb-e605-7004c1017dfa",
        "colab": {
          "base_uri": "https://localhost:8080/"
        }
      },
      "execution_count": 15,
      "outputs": [
        {
          "output_type": "stream",
          "name": "stdout",
          "text": [
            "Mounted at /content/drive\n"
          ]
        }
      ]
    },
    {
      "cell_type": "code",
      "source": [
        "%cd /content\n",
        "!ls"
      ],
      "metadata": {
        "id": "sjrSML42N9h0",
        "outputId": "9489d8f2-b98a-4901-b53c-239a5bb053c4",
        "colab": {
          "base_uri": "https://localhost:8080/"
        }
      },
      "execution_count": 16,
      "outputs": [
        {
          "output_type": "stream",
          "name": "stdout",
          "text": [
            "/content\n",
            "ae.hp5\tdrive  model.png  sample_data\n"
          ]
        }
      ]
    },
    {
      "cell_type": "code",
      "source": [
        "!tar cvfz ae.taz ae.hp5"
      ],
      "metadata": {
        "id": "YHryb8CCOA1a",
        "outputId": "90e271f2-d46a-49e0-a813-8f92b76057d8",
        "colab": {
          "base_uri": "https://localhost:8080/"
        }
      },
      "execution_count": 17,
      "outputs": [
        {
          "output_type": "stream",
          "name": "stdout",
          "text": [
            "ae.hp5/\n",
            "ae.hp5/assets/\n",
            "ae.hp5/keras_metadata.pb\n",
            "ae.hp5/fingerprint.pb\n",
            "ae.hp5/saved_model.pb\n",
            "ae.hp5/variables/\n",
            "ae.hp5/variables/variables.data-00000-of-00001\n",
            "ae.hp5/variables/variables.index\n"
          ]
        }
      ]
    },
    {
      "cell_type": "code",
      "source": [
        "!ls /content/drive/MyDrive"
      ],
      "metadata": {
        "id": "Tq1N2ZfKOJPS",
        "outputId": "60c369a1-b987-48b3-a8d7-9ba7fa66b355",
        "colab": {
          "base_uri": "https://localhost:8080/"
        }
      },
      "execution_count": 19,
      "outputs": [
        {
          "output_type": "stream",
          "name": "stdout",
          "text": [
            " 2020-02-11~15明新科大2020AI研習錄影\t    Python智慧量化交易.txt\n",
            "'2020 明新AI暑假研習0803_0806'\t\t    Takeout\n",
            "'2022 06 22 MicroBit線迷宮自走車 組裝.md'   train_yolo_with_custom_dataset_on_colab_101\n",
            "'chatGPT API.gdoc'\t\t\t    word\n",
            "'Colab Notebooks'\t\t\t    yolov5\n",
            " DM1921書附程式碼及圖檔.zip\t\t    數值分析\n",
            "'GIS專案 — 轉換自傳統版協作平台.gsite'\t    第二梯\n",
            "'LINE Bot 開發入門實作課程.gslides'\t    簡歷-謝坤達.docx\n"
          ]
        }
      ]
    },
    {
      "cell_type": "code",
      "source": [
        "!cp ae.taz /content/drive/MyDrive"
      ],
      "metadata": {
        "id": "bRofXTZoOOmt"
      },
      "execution_count": 20,
      "outputs": []
    },
    {
      "cell_type": "code",
      "source": [
        "!cp model.png /content/drive/MyDrive"
      ],
      "metadata": {
        "id": "4RUxbWkIOXw_"
      },
      "execution_count": 21,
      "outputs": []
    },
    {
      "cell_type": "code",
      "source": [],
      "metadata": {
        "id": "-LI483a_Od-s"
      },
      "execution_count": null,
      "outputs": []
    }
  ],
  "metadata": {
    "kernelspec": {
      "display_name": "Python 3",
      "language": "python",
      "name": "python3"
    },
    "language_info": {
      "codemirror_mode": {
        "name": "ipython",
        "version": 3
      },
      "file_extension": ".py",
      "mimetype": "text/x-python",
      "name": "python",
      "nbconvert_exporter": "python",
      "pygments_lexer": "ipython3",
      "version": "3.8.8"
    },
    "colab": {
      "provenance": []
    }
  },
  "nbformat": 4,
  "nbformat_minor": 0
}