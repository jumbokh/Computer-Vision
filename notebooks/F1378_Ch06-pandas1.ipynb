{
  "nbformat": 4,
  "nbformat_minor": 0,
  "metadata": {
    "colab": {
      "provenance": [],
      "include_colab_link": true
    },
    "kernelspec": {
      "name": "python3",
      "display_name": "Python 3"
    }
  },
  "cells": [
    {
      "cell_type": "markdown",
      "metadata": {
        "id": "view-in-github",
        "colab_type": "text"
      },
      "source": [
        "<a href=\"https://colab.research.google.com/github/jumbokh/Computer-Vision/blob/main/notebooks/F1378_Ch06-pandas1.ipynb\" target=\"_parent\"><img src=\"https://colab.research.google.com/assets/colab-badge.svg\" alt=\"Open In Colab\"/></a>"
      ]
    },
    {
      "cell_type": "markdown",
      "metadata": {
        "id": "Y5g6RJRZq_wq"
      },
      "source": [
        "#6-2-1\t 建立 Series 物件"
      ]
    },
    {
      "cell_type": "code",
      "metadata": {
        "colab": {
          "base_uri": "https://localhost:8080/"
        },
        "id": "KNauGX6VuBvp",
        "outputId": "5cf28285-e4e9-4563-fe64-d2a45e8a15d1"
      },
      "source": [
        "import pandas as pd\n",
        "idx = [\"apple\", \"orange\", \"banana\", \"strawberry\", \"kiwifruit\"]\n",
        "data = [1, 4, 5, 6, 3]\n",
        "series = pd.Series(data, index=idx)\n",
        "print(series)\n"
      ],
      "execution_count": 1,
      "outputs": [
        {
          "output_type": "stream",
          "name": "stdout",
          "text": [
            "apple         1\n",
            "orange        4\n",
            "banana        5\n",
            "strawberry    6\n",
            "kiwifruit     3\n",
            "dtype: int64\n"
          ]
        }
      ]
    },
    {
      "cell_type": "code",
      "metadata": {
        "colab": {
          "base_uri": "https://localhost:8080/"
        },
        "id": "jMKMokciuD8q",
        "outputId": "701819e5-2d43-4e3e-900c-acf0f3831826"
      },
      "source": [
        "series.shape"
      ],
      "execution_count": 2,
      "outputs": [
        {
          "output_type": "execute_result",
          "data": {
            "text/plain": [
              "(5,)"
            ]
          },
          "metadata": {},
          "execution_count": 2
        }
      ]
    },
    {
      "cell_type": "code",
      "metadata": {
        "colab": {
          "base_uri": "https://localhost:8080/"
        },
        "id": "91Fy01DJuIpI",
        "outputId": "d1a24541-47e6-483c-e7ba-a1b8b736e33e"
      },
      "source": [
        "import pandas as pd\n",
        "data = [1, 4, 5, 6, 3]\n",
        "series = pd.Series(data)\n",
        "print(series)"
      ],
      "execution_count": 3,
      "outputs": [
        {
          "output_type": "stream",
          "name": "stdout",
          "text": [
            "0    1\n",
            "1    4\n",
            "2    5\n",
            "3    6\n",
            "4    3\n",
            "dtype: int64\n"
          ]
        }
      ]
    },
    {
      "cell_type": "code",
      "metadata": {
        "colab": {
          "base_uri": "https://localhost:8080/"
        },
        "id": "3UxmmHDvuKJY",
        "outputId": "cf17d036-3f7e-4200-81fd-657d4d686543"
      },
      "source": [
        "import pandas as pd\n",
        "fruits = {\"orange\": 2, \"banana\": 3}\n",
        "print(pd.Series(fruits))"
      ],
      "execution_count": 4,
      "outputs": [
        {
          "output_type": "stream",
          "name": "stdout",
          "text": [
            "orange    2\n",
            "banana    3\n",
            "dtype: int64\n"
          ]
        }
      ]
    },
    {
      "cell_type": "markdown",
      "metadata": {
        "id": "CA2YYJK7uOQB"
      },
      "source": [
        "#6-2-2\t 取出 Series 當中的元素"
      ]
    },
    {
      "cell_type": "code",
      "metadata": {
        "colab": {
          "base_uri": "https://localhost:8080/"
        },
        "id": "4HdEnO3DuMOo",
        "outputId": "8dda6522-2300-4134-e5cf-cce2068c20b1"
      },
      "source": [
        "import pandas as pd\n",
        "fruits = {\"banana\": 3, \"orange\": 4, \"grape\": 1, \"peach\": 5}\n",
        "series = pd.Series(fruits)\n",
        "print(series[0:2])"
      ],
      "execution_count": 5,
      "outputs": [
        {
          "output_type": "stream",
          "name": "stdout",
          "text": [
            "banana    3\n",
            "orange    4\n",
            "dtype: int64\n"
          ]
        }
      ]
    },
    {
      "cell_type": "code",
      "metadata": {
        "colab": {
          "base_uri": "https://localhost:8080/"
        },
        "id": "bv1QHyypuQ1I",
        "outputId": "ff4dd103-eee6-43b6-e910-46a308f6fd57"
      },
      "source": [
        "print(series[[\"orange\", \"peach\"]])"
      ],
      "execution_count": 6,
      "outputs": [
        {
          "output_type": "stream",
          "name": "stdout",
          "text": [
            "orange    4\n",
            "peach     5\n",
            "dtype: int64\n"
          ]
        }
      ]
    },
    {
      "cell_type": "markdown",
      "metadata": {
        "id": "_VtRQwKvuWnY"
      },
      "source": [
        "#6-2-3\t 單取出「索引值」或者「內容值」-.index、.values"
      ]
    },
    {
      "cell_type": "code",
      "metadata": {
        "colab": {
          "base_uri": "https://localhost:8080/"
        },
        "id": "qBcRksdYuU6o",
        "outputId": "09fa66ac-139c-49fa-f485-719244eaa996"
      },
      "source": [
        "import pandas as pd\n",
        "index = [\"apple\", \"orange\", \"banana\", \"strawberry\", \"kiwifruit\"]\n",
        "data = [10, 5, 8, 12, 3]\n",
        "series = pd.Series(data, index=index)\n",
        "print(series)"
      ],
      "execution_count": 7,
      "outputs": [
        {
          "output_type": "stream",
          "name": "stdout",
          "text": [
            "apple         10\n",
            "orange         5\n",
            "banana         8\n",
            "strawberry    12\n",
            "kiwifruit      3\n",
            "dtype: int64\n"
          ]
        }
      ]
    },
    {
      "cell_type": "code",
      "metadata": {
        "colab": {
          "base_uri": "https://localhost:8080/"
        },
        "id": "Xk9KeohgubgI",
        "outputId": "44c9615d-69d5-49c8-cb3c-4688beebcf4d"
      },
      "source": [
        "series_index = series.index\n",
        "series_values = series.values\n",
        "print(series_index)\n",
        "print(series_values)"
      ],
      "execution_count": 8,
      "outputs": [
        {
          "output_type": "stream",
          "name": "stdout",
          "text": [
            "Index(['apple', 'orange', 'banana', 'strawberry', 'kiwifruit'], dtype='object')\n",
            "[10  5  8 12  3]\n"
          ]
        }
      ]
    },
    {
      "cell_type": "markdown",
      "metadata": {
        "id": "PI1C6sFKugvo"
      },
      "source": [
        "#6-2-4\t 新增 Series 物件的元素 – append()"
      ]
    },
    {
      "cell_type": "code",
      "metadata": {
        "colab": {
          "base_uri": "https://localhost:8080/"
        },
        "id": "MJRzEkJVudP4",
        "outputId": "43d63e1e-3490-4380-cbb7-6273efed75b5"
      },
      "source": [
        "import pandas as pd\n",
        "idx = [\"apple\", \"orange\", \"banana\", \"strawberry\", \"kiwifruit\"]\n",
        "data = [10, 5, 8, 12, 3]\n",
        "series = pd.Series(data, index=idx)\n",
        "print(series)"
      ],
      "execution_count": 9,
      "outputs": [
        {
          "output_type": "stream",
          "name": "stdout",
          "text": [
            "apple         10\n",
            "orange         5\n",
            "banana         8\n",
            "strawberry    12\n",
            "kiwifruit      3\n",
            "dtype: int64\n"
          ]
        }
      ]
    },
    {
      "cell_type": "code",
      "metadata": {
        "colab": {
          "base_uri": "https://localhost:8080/"
        },
        "id": "fMrX3RRaujoY",
        "outputId": "bd6df875-ab08-4567-8584-5dc75346d44c"
      },
      "source": [
        "pineapple = pd.Series([12], index=[\"pineapple\"])\n",
        "# pineapple = pd.Series( {\"pineapple\":12})\n",
        "series = series.append(pineapple)\n",
        "print(series)"
      ],
      "execution_count": 10,
      "outputs": [
        {
          "output_type": "stream",
          "name": "stdout",
          "text": [
            "apple         10\n",
            "orange         5\n",
            "banana         8\n",
            "strawberry    12\n",
            "kiwifruit      3\n",
            "pineapple     12\n",
            "dtype: int64\n"
          ]
        },
        {
          "output_type": "stream",
          "name": "stderr",
          "text": [
            "<ipython-input-10-f97e348c26c5>:3: FutureWarning: The series.append method is deprecated and will be removed from pandas in a future version. Use pandas.concat instead.\n",
            "  series = series.append(pineapple)\n"
          ]
        }
      ]
    },
    {
      "cell_type": "markdown",
      "metadata": {
        "id": "wGYviim1un_C"
      },
      "source": [
        "#6-2-5\t 刪除 Series 物件的元素 – drop()"
      ]
    },
    {
      "cell_type": "code",
      "metadata": {
        "colab": {
          "base_uri": "https://localhost:8080/"
        },
        "id": "J2LSSnXrumEZ",
        "outputId": "2cf2f720-8c05-4e55-f6a4-0f8efa48eb06"
      },
      "source": [
        "import pandas as pd\n",
        "index = [\"apple\", \"orange\", \"banana\", \"strawberry\", \"kiwifruit\"]\n",
        "data = [10, 5, 8, 12, 3]\n",
        "series = pd.Series(data, index=index)\n",
        "print(series)"
      ],
      "execution_count": 11,
      "outputs": [
        {
          "output_type": "stream",
          "name": "stdout",
          "text": [
            "apple         10\n",
            "orange         5\n",
            "banana         8\n",
            "strawberry    12\n",
            "kiwifruit      3\n",
            "dtype: int64\n"
          ]
        }
      ]
    },
    {
      "cell_type": "code",
      "metadata": {
        "colab": {
          "base_uri": "https://localhost:8080/"
        },
        "id": "WMnksmd2usg4",
        "outputId": "922d4a2a-dfd4-4220-d757-cd794c3f8120"
      },
      "source": [
        "series = series.drop(\"strawberry\")\n",
        "print(series)"
      ],
      "execution_count": 12,
      "outputs": [
        {
          "output_type": "stream",
          "name": "stdout",
          "text": [
            "apple        10\n",
            "orange        5\n",
            "banana        8\n",
            "kiwifruit     3\n",
            "dtype: int64\n"
          ]
        }
      ]
    },
    {
      "cell_type": "markdown",
      "metadata": {
        "id": "LwFeNRUUu0my"
      },
      "source": [
        "#6-2-6\t 從 Series 物件篩選出想要的元素"
      ]
    },
    {
      "cell_type": "code",
      "metadata": {
        "colab": {
          "base_uri": "https://localhost:8080/"
        },
        "id": "gaYuwZypux04",
        "outputId": "45d50ca3-8f2e-48d4-e07b-1a50e696c626"
      },
      "source": [
        "import pandas as pd\n",
        "index = [\"apple\", \"orange\", \"banana\", \"strawberry\", \"kiwifruit\"]\n",
        "data = [10, 5, 8, 12, 3]\n",
        "series = pd.Series(data, index=index)\n",
        "print(series)"
      ],
      "execution_count": 13,
      "outputs": [
        {
          "output_type": "stream",
          "name": "stdout",
          "text": [
            "apple         10\n",
            "orange         5\n",
            "banana         8\n",
            "strawberry    12\n",
            "kiwifruit      3\n",
            "dtype: int64\n"
          ]
        }
      ]
    },
    {
      "cell_type": "code",
      "metadata": {
        "colab": {
          "base_uri": "https://localhost:8080/"
        },
        "id": "AGgOY-55u3g4",
        "outputId": "19ae63c6-823f-426d-e75c-4e14ff216e6d"
      },
      "source": [
        "conditions = [True, True, False, False, False]\n",
        "print(series[conditions])"
      ],
      "execution_count": 14,
      "outputs": [
        {
          "output_type": "stream",
          "name": "stdout",
          "text": [
            "apple     10\n",
            "orange     5\n",
            "dtype: int64\n"
          ]
        }
      ]
    },
    {
      "cell_type": "code",
      "metadata": {
        "colab": {
          "base_uri": "https://localhost:8080/"
        },
        "id": "Xih5OH3_u5UI",
        "outputId": "1c492d9d-15ab-4379-e116-855120f712d6"
      },
      "source": [
        "import pandas as pd\n",
        "index = [\"apple\", \"orange\", \"banana\", \"strawberry\", \"kiwifruit\"]\n",
        "data = [10, 5, 8, 12, 3]\n",
        "series = pd.Series(data, index=index)\n",
        "print(series[series >= 5])"
      ],
      "execution_count": 15,
      "outputs": [
        {
          "output_type": "stream",
          "name": "stdout",
          "text": [
            "apple         10\n",
            "orange         5\n",
            "banana         8\n",
            "strawberry    12\n",
            "dtype: int64\n"
          ]
        }
      ]
    },
    {
      "cell_type": "code",
      "metadata": {
        "colab": {
          "base_uri": "https://localhost:8080/"
        },
        "id": "KSHTDcUYu7p4",
        "outputId": "cc49b9af-f283-452f-f255-3b682baff979"
      },
      "source": [
        "series = series[series >= 5][series < 10]\n",
        "print(series)"
      ],
      "execution_count": 16,
      "outputs": [
        {
          "output_type": "stream",
          "name": "stdout",
          "text": [
            "orange    5\n",
            "banana    8\n",
            "dtype: int64\n"
          ]
        }
      ]
    },
    {
      "cell_type": "markdown",
      "metadata": {
        "id": "YDkrkWhCu_jT"
      },
      "source": [
        "#6-2-7\t 將 Series 的元素排序 – sort_index()、sort_values()"
      ]
    },
    {
      "cell_type": "code",
      "metadata": {
        "colab": {
          "base_uri": "https://localhost:8080/"
        },
        "id": "a-WvCr59u9dZ",
        "outputId": "09456c76-c83b-458c-a9b4-8f3030259436"
      },
      "source": [
        "import pandas as pd\n",
        "index = [\"apple\", \"orange\", \"banana\", \"strawberry\", \"kiwifruit\"]\n",
        "data = [10, 5, 8, 12, 3]\n",
        "series = pd.Series(data, index=index)\n",
        "print(series)"
      ],
      "execution_count": 17,
      "outputs": [
        {
          "output_type": "stream",
          "name": "stdout",
          "text": [
            "apple         10\n",
            "orange         5\n",
            "banana         8\n",
            "strawberry    12\n",
            "kiwifruit      3\n",
            "dtype: int64\n"
          ]
        }
      ]
    },
    {
      "cell_type": "code",
      "metadata": {
        "colab": {
          "base_uri": "https://localhost:8080/"
        },
        "id": "A98k3qeSvC_4",
        "outputId": "8fd23287-2227-42f4-badd-fcf365675bf1"
      },
      "source": [
        "items1 = series.sort_index()\n",
        "items2 = series.sort_values()\n",
        "print(items1)\n",
        "print()\n",
        "print(items2)"
      ],
      "execution_count": 18,
      "outputs": [
        {
          "output_type": "stream",
          "name": "stdout",
          "text": [
            "apple         10\n",
            "banana         8\n",
            "kiwifruit      3\n",
            "orange         5\n",
            "strawberry    12\n",
            "dtype: int64\n",
            "\n",
            "kiwifruit      3\n",
            "orange         5\n",
            "banana         8\n",
            "apple         10\n",
            "strawberry    12\n",
            "dtype: int64\n"
          ]
        }
      ]
    },
    {
      "cell_type": "markdown",
      "metadata": {
        "id": "rQxM_VuevJSt"
      },
      "source": [
        "#6-3-1\t 建立 DataFrame 物件 – pd.DataFrame()"
      ]
    },
    {
      "cell_type": "code",
      "metadata": {
        "colab": {
          "base_uri": "https://localhost:8080/"
        },
        "id": "4nM3KpTIvFfY",
        "outputId": "58ced637-518b-42e2-b870-7e536e8023c7"
      },
      "source": [
        "import pandas as pd\n",
        "index = [\"apple\", \"orange\", \"banana\", \"strawberry\", \"kiwifruit\"]\n",
        "data1 = [10, 5, 8, 12, 3]\n",
        "data2 = [30, 25, 12, 10, 8]\n",
        "series1 = pd.Series(data1, index=index)\n",
        "series2 = pd.Series(data2, index=index)\n",
        "df = pd.DataFrame([series1, series2])\n",
        "print(df)"
      ],
      "execution_count": 19,
      "outputs": [
        {
          "output_type": "stream",
          "name": "stdout",
          "text": [
            "   apple  orange  banana  strawberry  kiwifruit\n",
            "0     10       5       8          12          3\n",
            "1     30      25      12          10          8\n"
          ]
        }
      ]
    },
    {
      "cell_type": "code",
      "metadata": {
        "colab": {
          "base_uri": "https://localhost:8080/"
        },
        "id": "KGFqRHL6vRY4",
        "outputId": "1fc8c6b1-a9eb-470d-e215-545057f34dd3"
      },
      "source": [
        "import pandas as pd\n",
        "data = {\"fruits\": [\"apple\", \"orange\", \"banana\", \"strawberry\",\"kiwifruit\"],\n",
        "        \"time\": [1, 4, 5, 6, 3],\n",
        "        \"year\": [2001, 2002, 2001, 2008, 2006]}\n",
        "df = pd.DataFrame(data)\n",
        "print(df)"
      ],
      "execution_count": 20,
      "outputs": [
        {
          "output_type": "stream",
          "name": "stdout",
          "text": [
            "       fruits  time  year\n",
            "0       apple     1  2001\n",
            "1      orange     4  2002\n",
            "2      banana     5  2001\n",
            "3  strawberry     6  2008\n",
            "4   kiwifruit     3  2006\n"
          ]
        }
      ]
    },
    {
      "cell_type": "code",
      "metadata": {
        "colab": {
          "base_uri": "https://localhost:8080/"
        },
        "id": "8Fz6LsTcvVEY",
        "outputId": "a9f6ee23-4766-419b-ce2e-2aeb269c335f"
      },
      "source": [
        "import pandas as pd\n",
        "order_df = pd.DataFrame( [[1000, 2546, 103],\n",
        "                [1001, 4352, 101],\n",
        "                [1002, 342, 101]],\n",
        "columns=[\"id\", \"item_id\", \"customer_id\"])\n",
        "print(order_df)"
      ],
      "execution_count": 21,
      "outputs": [
        {
          "output_type": "stream",
          "name": "stdout",
          "text": [
            "     id  item_id  customer_id\n",
            "0  1000     2546          103\n",
            "1  1001     4352          101\n",
            "2  1002      342          101\n"
          ]
        }
      ]
    },
    {
      "cell_type": "markdown",
      "metadata": {
        "id": "TzWFnXM7vywb"
      },
      "source": [
        "#6-3-2\t 修改 index 和 column 的名稱 –.index、.column"
      ]
    },
    {
      "cell_type": "code",
      "metadata": {
        "colab": {
          "base_uri": "https://localhost:8080/"
        },
        "id": "YTX_JeN8vs-Z",
        "outputId": "30bec268-c863-4d8a-8805-b74d95ed4771"
      },
      "source": [
        "import pandas as pd\n",
        "index = [\"apple\", \"orange\", \"banana\", \"strawberry\", \"kiwifruit\"]\n",
        "data1 = [10, 5, 8, 12, 3]\n",
        "data2 = [30, 25, 12, 10, 8]\n",
        "series1 = pd.Series(data1, index=index)\n",
        "series2 = pd.Series(data2, index=index)\n",
        "df = pd.DataFrame([series1, series2])\n",
        "df.index = [1, 2]\n",
        "print(df)"
      ],
      "execution_count": 22,
      "outputs": [
        {
          "output_type": "stream",
          "name": "stdout",
          "text": [
            "   apple  orange  banana  strawberry  kiwifruit\n",
            "1     10       5       8          12          3\n",
            "2     30      25      12          10          8\n"
          ]
        }
      ]
    },
    {
      "cell_type": "markdown",
      "metadata": {
        "id": "ePI7mtn5v4Ub"
      },
      "source": [
        "#6-3-4\t 加入新的資料列 – append()"
      ]
    },
    {
      "cell_type": "code",
      "metadata": {
        "colab": {
          "base_uri": "https://localhost:8080/"
        },
        "id": "lLvnvuHIv2fo",
        "outputId": "37afd35c-88bd-41ad-c756-82de99f2618e"
      },
      "source": [
        "import pandas as pd\n",
        "data = {\"fruits\": [\"apple\", \"orange\", \"banana\", \"strawberry\",\n",
        "    \"kiwifruit\"],\n",
        "     \"year\": [2001, 2002, 2001, 2008, 2006],\n",
        "    \"time\": [1, 4, 5, 6, 3]}\n",
        "df = pd.DataFrame(data)\n",
        "series = pd.Series([\"mango\", 2008, 7], index=[\"fruits\", \"year\", \"time\"])\n",
        "\n",
        "df = df.append(series, ignore_index=True)\n",
        "print(df)"
      ],
      "execution_count": 23,
      "outputs": [
        {
          "output_type": "stream",
          "name": "stdout",
          "text": [
            "       fruits  year  time\n",
            "0       apple  2001     1\n",
            "1      orange  2002     4\n",
            "2      banana  2001     5\n",
            "3  strawberry  2008     6\n",
            "4   kiwifruit  2006     3\n",
            "5       mango  2008     7\n"
          ]
        },
        {
          "output_type": "stream",
          "name": "stderr",
          "text": [
            "<ipython-input-23-093ec10c8cd9>:9: FutureWarning: The frame.append method is deprecated and will be removed from pandas in a future version. Use pandas.concat instead.\n",
            "  df = df.append(series, ignore_index=True)\n"
          ]
        }
      ]
    },
    {
      "cell_type": "code",
      "metadata": {
        "colab": {
          "base_uri": "https://localhost:8080/"
        },
        "id": "4cGrxjXxv785",
        "outputId": "1e7726fd-4708-4945-ec9a-f46da38aff53"
      },
      "source": [
        "import pandas as pd\n",
        "index = [\"apple\", \"orange\", \"banana\", \"strawberry\", \"kiwifruit\"]\n",
        "data1 = [10, 5, 8, 12, 3]\n",
        "data2 = [30, 25, 12, 10, 8]\n",
        "data3 = [30, 12, 10, 8, 25, 3]\n",
        "\n",
        "series1 = pd.Series(data1, index=index)\n",
        "series2 = pd.Series(data2, index=index)\n",
        "\n",
        "df = pd.DataFrame([series1, series2])\n",
        "\n",
        "index.append(\"pineapple\")\n",
        "\n",
        "series3 = pd.Series(data3, index=index)\n",
        "df = df.append(series3, ignore_index=True)\n",
        "print(df)"
      ],
      "execution_count": 24,
      "outputs": [
        {
          "output_type": "stream",
          "name": "stdout",
          "text": [
            "   apple  orange  banana  strawberry  kiwifruit  pineapple\n",
            "0     10       5       8          12          3        NaN\n",
            "1     30      25      12          10          8        NaN\n",
            "2     30      12      10           8         25        3.0\n"
          ]
        },
        {
          "output_type": "stream",
          "name": "stderr",
          "text": [
            "<ipython-input-24-6122e45fa3c7>:15: FutureWarning: The frame.append method is deprecated and will be removed from pandas in a future version. Use pandas.concat instead.\n",
            "  df = df.append(series3, ignore_index=True)\n"
          ]
        }
      ]
    },
    {
      "cell_type": "markdown",
      "metadata": {
        "id": "zYm9qiZkwGgE"
      },
      "source": [
        "#6-3-4\t 加入新的欄位"
      ]
    },
    {
      "cell_type": "code",
      "metadata": {
        "colab": {
          "base_uri": "https://localhost:8080/"
        },
        "id": "kaGmZdUAwD_I",
        "outputId": "284fc913-7dff-4411-c6a2-ddeee705a1e2"
      },
      "source": [
        "import pandas as pd\n",
        "data = {\"fruits\": [\"apple\", \"orange\", \"banana\", \"strawberry\",\n",
        "  \"kiwifruit\"],\n",
        "  \"year\": [2001, 2002, 2001, 2008, 2006],\n",
        "  \"time\": [1, 4, 5, 6, 3]}\n",
        "df = pd.DataFrame(data)\n",
        "df[\"price\"] = [150, 120, 100, 300, 150]\n",
        "print(df)"
      ],
      "execution_count": 25,
      "outputs": [
        {
          "output_type": "stream",
          "name": "stdout",
          "text": [
            "       fruits  year  time  price\n",
            "0       apple  2001     1    150\n",
            "1      orange  2002     4    120\n",
            "2      banana  2001     5    100\n",
            "3  strawberry  2008     6    300\n",
            "4   kiwifruit  2006     3    150\n"
          ]
        }
      ]
    },
    {
      "cell_type": "code",
      "metadata": {
        "colab": {
          "base_uri": "https://localhost:8080/"
        },
        "id": "vMlHdGemwI3I",
        "outputId": "e8c56e88-c232-44b0-da63-6d635ccea0da"
      },
      "source": [
        "import pandas as pd\n",
        "\n",
        "index = [\"apple\", \"orange\", \"banana\", \"strawberry\", \"kiwifruit\"]\n",
        "data1 = [10, 5, 8, 12, 3]\n",
        "data2 = [30, 25, 12, 10, 8]\n",
        "series1 = pd.Series(data1, index=index)\n",
        "series2 = pd.Series(data2, index=index)\n",
        "\n",
        "df = pd.DataFrame([series1, series2])\n",
        "\n",
        "new_column = pd.Series([15, 7], index=[0, 1])\n",
        "\n",
        "df[\"mango\"] = new_column\n",
        "print(df)"
      ],
      "execution_count": 26,
      "outputs": [
        {
          "output_type": "stream",
          "name": "stdout",
          "text": [
            "   apple  orange  banana  strawberry  kiwifruit  mango\n",
            "0     10       5       8          12          3     15\n",
            "1     30      25      12          10          8      7\n"
          ]
        }
      ]
    },
    {
      "cell_type": "markdown",
      "metadata": {
        "id": "syp-3yL2w1Uj"
      },
      "source": [
        "#6-3-5\t 取出 DataFrame 當中的元素 –df.loc[]、df.iloc[]"
      ]
    },
    {
      "cell_type": "code",
      "metadata": {
        "colab": {
          "base_uri": "https://localhost:8080/"
        },
        "id": "rXu9HAFtwtRI",
        "outputId": "3caa0bf6-ac3c-4846-d6f4-8f6919fc390b"
      },
      "source": [
        "data = {\"fruits\": [\"apple\", \"orange\", \"banana\", \"strawberry\",\n",
        "  \"kiwifruit\"],\n",
        "  \"year\": [2001, 2002, 2001, 2008, 2006],\n",
        "  \"time\": [1, 4, 5, 6, 3]}\n",
        "df = pd.DataFrame(data)\n",
        "print(df)"
      ],
      "execution_count": 27,
      "outputs": [
        {
          "output_type": "stream",
          "name": "stdout",
          "text": [
            "       fruits  year  time\n",
            "0       apple  2001     1\n",
            "1      orange  2002     4\n",
            "2      banana  2001     5\n",
            "3  strawberry  2008     6\n",
            "4   kiwifruit  2006     3\n"
          ]
        }
      ]
    },
    {
      "cell_type": "code",
      "metadata": {
        "colab": {
          "base_uri": "https://localhost:8080/"
        },
        "id": "a2t6PZfWw466",
        "outputId": "e4ec60bc-38ad-47c7-ec81-9479b0f7ceaa"
      },
      "source": [
        "df = df.loc[[1,2],[\"time\",\"year\"]]\n",
        "print(df)"
      ],
      "execution_count": 28,
      "outputs": [
        {
          "output_type": "stream",
          "name": "stdout",
          "text": [
            "   time  year\n",
            "1     4  2002\n",
            "2     5  2001\n"
          ]
        }
      ]
    },
    {
      "cell_type": "code",
      "metadata": {
        "colab": {
          "base_uri": "https://localhost:8080/"
        },
        "id": "cFtzRKHDw75I",
        "outputId": "763488dc-5785-406c-a2f2-39191b447ce6"
      },
      "source": [
        "import numpy as np\n",
        "import pandas as pd\n",
        "np.random.seed(0)\n",
        "\n",
        "df = pd.DataFrame()\n",
        "\n",
        "columns = [\"apple\", \"orange\", \"banana\", \"strawberry\", \"kiwifruit\"]\n",
        "for column in columns:\n",
        "  df[column] = np.random.choice(range(1, 11), 10)\n",
        "print(df)\n"
      ],
      "execution_count": 29,
      "outputs": [
        {
          "output_type": "stream",
          "name": "stdout",
          "text": [
            "   apple  orange  banana  strawberry  kiwifruit\n",
            "0      6       8       6           3         10\n",
            "1      1       7      10           4         10\n",
            "2      4       9       9           9          1\n",
            "3      4       9      10           2          5\n",
            "4      8       2       5           4          8\n",
            "5     10       7       4           4          4\n",
            "6      4       8       1           4          3\n",
            "7      6       8       4           8          8\n",
            "8      3       9       6           1          3\n",
            "9      5       2       1           2          1\n"
          ]
        }
      ]
    },
    {
      "cell_type": "code",
      "metadata": {
        "colab": {
          "base_uri": "https://localhost:8080/"
        },
        "id": "rYpIV5PmxFvo",
        "outputId": "78e99f1a-ed8e-43d6-9bfd-53e9bdaa9ca8"
      },
      "source": [
        "df = df.loc[range(2,6),[\"banana\",\"kiwifruit\"]]\n",
        "print(df)"
      ],
      "execution_count": 30,
      "outputs": [
        {
          "output_type": "stream",
          "name": "stdout",
          "text": [
            "   banana  kiwifruit\n",
            "2       9          1\n",
            "3      10          5\n",
            "4       5          8\n",
            "5       4          4\n"
          ]
        }
      ]
    },
    {
      "cell_type": "code",
      "metadata": {
        "colab": {
          "base_uri": "https://localhost:8080/"
        },
        "id": "tYU7VGKnxJ4j",
        "outputId": "51f2a984-1248-44c9-e1f3-413a1f287002"
      },
      "source": [
        "import pandas as pd\n",
        "data = {\"fruits\": [\"apple\", \"orange\", \"banana\", \"strawberry\",\n",
        "\"kiwifruit\"],\n",
        "\"time\": [1, 4, 5, 6, 3],\n",
        "\"year\": [2001, 2002, 2001, 2008, 2006] }\n",
        "df = pd.DataFrame(data)\n",
        "print(df)"
      ],
      "execution_count": 31,
      "outputs": [
        {
          "output_type": "stream",
          "name": "stdout",
          "text": [
            "       fruits  time  year\n",
            "0       apple     1  2001\n",
            "1      orange     4  2002\n",
            "2      banana     5  2001\n",
            "3  strawberry     6  2008\n",
            "4   kiwifruit     3  2006\n"
          ]
        }
      ]
    },
    {
      "cell_type": "code",
      "metadata": {
        "colab": {
          "base_uri": "https://localhost:8080/"
        },
        "id": "My4jZ8lFxPFJ",
        "outputId": "a6a958c0-0a1d-4615-c331-f0cc486dee8a"
      },
      "source": [
        "df = df.iloc[[1, 3], [0, 2]]\n",
        "print(df)"
      ],
      "execution_count": 32,
      "outputs": [
        {
          "output_type": "stream",
          "name": "stdout",
          "text": [
            "       fruits  year\n",
            "1      orange  2002\n",
            "3  strawberry  2008\n"
          ]
        }
      ]
    },
    {
      "cell_type": "markdown",
      "metadata": {
        "id": "wU-wEv1XxSRR"
      },
      "source": [
        "#6-3-6\t 刪除 df 物件的列或行 – drop()"
      ]
    },
    {
      "cell_type": "code",
      "metadata": {
        "colab": {
          "base_uri": "https://localhost:8080/"
        },
        "id": "xqEGZYf7xQnY",
        "outputId": "ba5bafe1-3583-4592-ff54-7c849f5e6b21"
      },
      "source": [
        "import pandas as pd\n",
        "data = {\"fruits\": [\"apple\", \"orange\", \"banana\", \"strawberry\",\n",
        "\"kiwifruit\"],\n",
        "\"time\": [1, 4, 5, 6, 3] ,\n",
        "\"year\": [2001, 2002, 2001, 2008, 2006]}\n",
        "df = pd.DataFrame(data)\n",
        "print(df)"
      ],
      "execution_count": 33,
      "outputs": [
        {
          "output_type": "stream",
          "name": "stdout",
          "text": [
            "       fruits  time  year\n",
            "0       apple     1  2001\n",
            "1      orange     4  2002\n",
            "2      banana     5  2001\n",
            "3  strawberry     6  2008\n",
            "4   kiwifruit     3  2006\n"
          ]
        }
      ]
    },
    {
      "cell_type": "code",
      "metadata": {
        "colab": {
          "base_uri": "https://localhost:8080/"
        },
        "id": "qmGk9WrqxWb4",
        "outputId": "78e330c4-132f-437a-f2ef-971a9e69b27b"
      },
      "source": [
        "df_1 = df.drop([0,1])\n",
        "print(df_1)"
      ],
      "execution_count": 34,
      "outputs": [
        {
          "output_type": "stream",
          "name": "stdout",
          "text": [
            "       fruits  time  year\n",
            "2      banana     5  2001\n",
            "3  strawberry     6  2008\n",
            "4   kiwifruit     3  2006\n"
          ]
        }
      ]
    },
    {
      "cell_type": "code",
      "metadata": {
        "colab": {
          "base_uri": "https://localhost:8080/"
        },
        "id": "95sYb2aoxYUH",
        "outputId": "6ea8171a-7581-49f4-86aa-cf93a40e62cb"
      },
      "source": [
        "df_2 = df.drop(\"year\", axis=1)\n",
        "print(df_2)"
      ],
      "execution_count": 35,
      "outputs": [
        {
          "output_type": "stream",
          "name": "stdout",
          "text": [
            "       fruits  time\n",
            "0       apple     1\n",
            "1      orange     4\n",
            "2      banana     5\n",
            "3  strawberry     6\n",
            "4   kiwifruit     3\n"
          ]
        }
      ]
    },
    {
      "cell_type": "code",
      "metadata": {
        "colab": {
          "base_uri": "https://localhost:8080/"
        },
        "id": "EBXr8ikwxbFY",
        "outputId": "45d9731f-64b1-4a45-85f0-ce7bc16988bf"
      },
      "source": [
        "import numpy as np\n",
        "import pandas as pd\n",
        "np.random.seed(0)\n",
        "\n",
        "df = pd.DataFrame()\n",
        "columns = [\"apple\", \"orange\", \"banana\", \"strawberry\", \"kiwifruit\"]\n",
        "for column in columns:\n",
        "  df[column] = np.random.choice(range(1, 11), 10)\n",
        "print(df)\n"
      ],
      "execution_count": 36,
      "outputs": [
        {
          "output_type": "stream",
          "name": "stdout",
          "text": [
            "   apple  orange  banana  strawberry  kiwifruit\n",
            "0      6       8       6           3         10\n",
            "1      1       7      10           4         10\n",
            "2      4       9       9           9          1\n",
            "3      4       9      10           2          5\n",
            "4      8       2       5           4          8\n",
            "5     10       7       4           4          4\n",
            "6      4       8       1           4          3\n",
            "7      6       8       4           8          8\n",
            "8      3       9       6           1          3\n",
            "9      5       2       1           2          1\n"
          ]
        }
      ]
    },
    {
      "cell_type": "code",
      "metadata": {
        "colab": {
          "base_uri": "https://localhost:8080/"
        },
        "id": "jvjSlxxSxe-4",
        "outputId": "87ffd9c9-0a36-4ccb-f8a9-2f6e5324274c"
      },
      "source": [
        "df = df.drop(np.arange(0, 9, 2))\n",
        "df = df.drop(\"strawberry\", axis=1)\n",
        "print(df)"
      ],
      "execution_count": 37,
      "outputs": [
        {
          "output_type": "stream",
          "name": "stdout",
          "text": [
            "   apple  orange  banana  kiwifruit\n",
            "1      1       7      10         10\n",
            "3      4       9      10          5\n",
            "5     10       7       4          4\n",
            "7      6       8       4          8\n",
            "9      5       2       1          1\n"
          ]
        }
      ]
    },
    {
      "cell_type": "markdown",
      "metadata": {
        "id": "CvjEHWlTxuLK"
      },
      "source": [
        "#6-3-7\t 將欄位值依大小排序 – sort_values()"
      ]
    },
    {
      "cell_type": "code",
      "metadata": {
        "colab": {
          "base_uri": "https://localhost:8080/"
        },
        "id": "aLCmsSAwxsTI",
        "outputId": "6081864d-b60f-4e91-cd97-a0021d0b3a51"
      },
      "source": [
        "import pandas as pd\n",
        "data = {\"fruits\": [\"apple\", \"orange\", \"banana\", \"strawberry\",\n",
        "  \"kiwifruit\"],\n",
        "  \"time\": [1, 4, 3, 6, 3],\n",
        "  \"year\": [2001, 2002, 2001, 2008, 2006]}\n",
        "df = pd.DataFrame(data)\n",
        "print(df)"
      ],
      "execution_count": 38,
      "outputs": [
        {
          "output_type": "stream",
          "name": "stdout",
          "text": [
            "       fruits  time  year\n",
            "0       apple     1  2001\n",
            "1      orange     4  2002\n",
            "2      banana     3  2001\n",
            "3  strawberry     6  2008\n",
            "4   kiwifruit     3  2006\n"
          ]
        }
      ]
    },
    {
      "cell_type": "code",
      "metadata": {
        "colab": {
          "base_uri": "https://localhost:8080/"
        },
        "id": "ILi_WzELxwf5",
        "outputId": "e7839e3d-7a8b-4e26-ecf4-8164b6d0b6c4"
      },
      "source": [
        "df = df.sort_values(by=\"year\", ascending = True)\n",
        "print(df)"
      ],
      "execution_count": 39,
      "outputs": [
        {
          "output_type": "stream",
          "name": "stdout",
          "text": [
            "       fruits  time  year\n",
            "0       apple     1  2001\n",
            "2      banana     3  2001\n",
            "1      orange     4  2002\n",
            "4   kiwifruit     3  2006\n",
            "3  strawberry     6  2008\n"
          ]
        }
      ]
    },
    {
      "cell_type": "code",
      "metadata": {
        "colab": {
          "base_uri": "https://localhost:8080/"
        },
        "id": "5ogRTl66x0fo",
        "outputId": "f9dc5708-b214-4c65-ead7-bc355adb91ae"
      },
      "source": [
        "df = df.sort_values(by=[\"time\", \"year\"] , ascending = True)\n",
        "print(df)"
      ],
      "execution_count": 40,
      "outputs": [
        {
          "output_type": "stream",
          "name": "stdout",
          "text": [
            "       fruits  time  year\n",
            "0       apple     1  2001\n",
            "2      banana     3  2001\n",
            "4   kiwifruit     3  2006\n",
            "1      orange     4  2002\n",
            "3  strawberry     6  2008\n"
          ]
        }
      ]
    },
    {
      "cell_type": "markdown",
      "metadata": {
        "id": "uiRuIdoyx48x"
      },
      "source": [
        "#6-3-8\t 從 df 物件篩選出想要的資料"
      ]
    },
    {
      "cell_type": "code",
      "metadata": {
        "colab": {
          "base_uri": "https://localhost:8080/"
        },
        "id": "t27eFPtCx23p",
        "outputId": "75472f0f-b8db-4835-b829-46c86bbce77c"
      },
      "source": [
        "import pandas as pd\n",
        "data = {\"fruits\": [\"apple\", \"orange\", \"banana\", \"strawberry\",\n",
        "  \"kiwifruit\"],\n",
        "  \"time\": [1, 4, 5, 6, 3] ,\n",
        "  \"year\": [2001, 2002, 2001, 2008, 2006] }\n",
        "df = pd.DataFrame(data)\n",
        "print(df)"
      ],
      "execution_count": 41,
      "outputs": [
        {
          "output_type": "stream",
          "name": "stdout",
          "text": [
            "       fruits  time  year\n",
            "0       apple     1  2001\n",
            "1      orange     4  2002\n",
            "2      banana     5  2001\n",
            "3  strawberry     6  2008\n",
            "4   kiwifruit     3  2006\n"
          ]
        }
      ]
    },
    {
      "cell_type": "code",
      "metadata": {
        "colab": {
          "base_uri": "https://localhost:8080/"
        },
        "id": "rp51MEeXx8vY",
        "outputId": "cc86dcf3-0169-437a-9b9b-a448b594a44f"
      },
      "source": [
        "print(df.index % 2 == 0)\n",
        "print(df[df.index % 2 == 0])\n"
      ],
      "execution_count": 42,
      "outputs": [
        {
          "output_type": "stream",
          "name": "stdout",
          "text": [
            "[ True False  True False  True]\n",
            "      fruits  time  year\n",
            "0      apple     1  2001\n",
            "2     banana     5  2001\n",
            "4  kiwifruit     3  2006\n"
          ]
        }
      ]
    },
    {
      "cell_type": "code",
      "metadata": {
        "colab": {
          "base_uri": "https://localhost:8080/"
        },
        "id": "vxSZs5SKyDj4",
        "outputId": "036bce22-0ea0-479c-bb3c-fc1b04966ac1"
      },
      "source": [
        "import numpy as np\n",
        "import pandas as pd\n",
        "np.random.seed(0)\n",
        "df = pd.DataFrame()\n",
        "columns = [\"apple\", \"orange\", \"banana\", \"strawberry\", \"kiwifruit\"]\n",
        "for column in columns:\n",
        "  df[column] = np.random.choice(range(1, 11), 10)\n",
        "print(df)"
      ],
      "execution_count": 43,
      "outputs": [
        {
          "output_type": "stream",
          "name": "stdout",
          "text": [
            "   apple  orange  banana  strawberry  kiwifruit\n",
            "0      6       8       6           3         10\n",
            "1      1       7      10           4         10\n",
            "2      4       9       9           9          1\n",
            "3      4       9      10           2          5\n",
            "4      8       2       5           4          8\n",
            "5     10       7       4           4          4\n",
            "6      4       8       1           4          3\n",
            "7      6       8       4           8          8\n",
            "8      3       9       6           1          3\n",
            "9      5       2       1           2          1\n"
          ]
        }
      ]
    },
    {
      "cell_type": "code",
      "metadata": {
        "colab": {
          "base_uri": "https://localhost:8080/"
        },
        "id": "zc5ZAiY_yGtY",
        "outputId": "f51bb03b-ceef-4818-deb6-6b7b3c9f731d"
      },
      "source": [
        "df = df[df[\"apple\"] >= 5]\n",
        "df = df[df[\"kiwifruit\"] >= 5]\n",
        "\n",
        "# df = df.loc[df[\"apple\"] >= 5][df[\"kiwifruit\"] >= 5]\n",
        "print(df)\n"
      ],
      "execution_count": 44,
      "outputs": [
        {
          "output_type": "stream",
          "name": "stdout",
          "text": [
            "   apple  orange  banana  strawberry  kiwifruit\n",
            "0      6       8       6           3         10\n",
            "4      8       2       5           4          8\n",
            "7      6       8       4           8          8\n"
          ]
        }
      ]
    },
    {
      "cell_type": "code",
      "metadata": {
        "id": "3jOqtNJ4yNk4"
      },
      "source": [],
      "execution_count": null,
      "outputs": []
    }
  ]
}