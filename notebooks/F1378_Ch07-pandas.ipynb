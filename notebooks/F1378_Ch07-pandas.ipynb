{
  "nbformat": 4,
  "nbformat_minor": 0,
  "metadata": {
    "colab": {
      "provenance": [],
      "include_colab_link": true
    },
    "kernelspec": {
      "name": "python3",
      "display_name": "Python 3"
    }
  },
  "cells": [
    {
      "cell_type": "markdown",
      "metadata": {
        "id": "view-in-github",
        "colab_type": "text"
      },
      "source": [
        "<a href=\"https://colab.research.google.com/github/jumbokh/Computer-Vision/blob/main/notebooks/F1378_Ch07-pandas.ipynb\" target=\"_parent\"><img src=\"https://colab.research.google.com/assets/colab-badge.svg\" alt=\"Open In Colab\"/></a>"
      ]
    },
    {
      "cell_type": "markdown",
      "metadata": {
        "id": "rbxWmjA9_Usu"
      },
      "source": [
        "#7-2-1\t 索引、欄位內容「一致」時的串接做法"
      ]
    },
    {
      "cell_type": "code",
      "metadata": {
        "colab": {
          "base_uri": "https://localhost:8080/"
        },
        "id": "TfFUt0MW_XeG",
        "outputId": "4d271e3e-969a-4127-e4af-6dcc03eb2472"
      },
      "source": [
        "import numpy as np\n",
        "import pandas as pd\n",
        "def make_random_df(index, columns, seed):\n",
        "  np.random.seed(seed)\n",
        "  df = pd.DataFrame()\n",
        "  for column in columns:\n",
        "    df[column] = np.random.choice(range(1, 101), len(index))\n",
        "  df.index = index\n",
        "  return df\n",
        "columns = [\"apple\", \"orange\", \"banana\"]\n",
        "df_data1 = make_random_df(range(1, 5), columns, 0)\n",
        "df_data2 = make_random_df(range(1, 5), columns, 1)\n",
        "print(df_data1)\n",
        "print(df_data2)"
      ],
      "execution_count": 1,
      "outputs": [
        {
          "output_type": "stream",
          "name": "stdout",
          "text": [
            "   apple  orange  banana\n",
            "1     45      68      37\n",
            "2     48      10      88\n",
            "3     65      84      71\n",
            "4     68      22      89\n",
            "   apple  orange  banana\n",
            "1     38      76      17\n",
            "2     13       6       2\n",
            "3     73      80      77\n",
            "4     10      65      72\n"
          ]
        }
      ]
    },
    {
      "cell_type": "code",
      "metadata": {
        "colab": {
          "base_uri": "https://localhost:8080/"
        },
        "id": "bS7x4K4W_Zzn",
        "outputId": "d4265af5-28ca-4b64-c4a4-8c579ef7fd7f"
      },
      "source": [
        "df1 = pd.concat( [df_data1, df_data2], axis=0)\n",
        "print(df1)"
      ],
      "execution_count": 2,
      "outputs": [
        {
          "output_type": "stream",
          "name": "stdout",
          "text": [
            "   apple  orange  banana\n",
            "1     45      68      37\n",
            "2     48      10      88\n",
            "3     65      84      71\n",
            "4     68      22      89\n",
            "1     38      76      17\n",
            "2     13       6       2\n",
            "3     73      80      77\n",
            "4     10      65      72\n"
          ]
        }
      ]
    },
    {
      "cell_type": "code",
      "metadata": {
        "colab": {
          "base_uri": "https://localhost:8080/"
        },
        "id": "a3sLCmHZ_gV2",
        "outputId": "44baf6ed-5032-468d-e280-8a78580e66ed"
      },
      "source": [
        "df2 = pd.concat([df_data1, df_data2], axis=1)\n",
        "print(df2)"
      ],
      "execution_count": 3,
      "outputs": [
        {
          "output_type": "stream",
          "name": "stdout",
          "text": [
            "   apple  orange  banana  apple  orange  banana\n",
            "1     45      68      37     38      76      17\n",
            "2     48      10      88     13       6       2\n",
            "3     65      84      71     73      80      77\n",
            "4     68      22      89     10      65      72\n"
          ]
        }
      ]
    },
    {
      "cell_type": "markdown",
      "metadata": {
        "id": "MtUY5azx_kE6"
      },
      "source": [
        "#7-2-2\t 索引、欄位內容「不一致」時的串接做法"
      ]
    },
    {
      "cell_type": "code",
      "metadata": {
        "colab": {
          "base_uri": "https://localhost:8080/"
        },
        "id": "fzelQeXQ_iPV",
        "outputId": "86545cf4-ef1f-46de-faf9-882646e264b3"
      },
      "source": [
        "import numpy as np\n",
        "import pandas as pd\n",
        "\n",
        "def make_random_df(index, columns, seed):\n",
        "  np.random.seed(seed)\n",
        "  df = pd.DataFrame()\n",
        "  for column in columns:\n",
        "    df[column] = np.random.choice(range(1, 101), len(index))\n",
        "  df.index = index\n",
        "  return df\n",
        "\n",
        "columns1 = [\"apple\", \"orange\", \"banana\"]\n",
        "columns2 = [\"orange\", \"kiwifruit\", \"banana\"]\n",
        "df_data1 = make_random_df(range(1, 5), columns1, 0)\n",
        "df_data2 = make_random_df(np.arange(1, 8, 2), columns2, 1)\n",
        "\n",
        "print(df_data1)\n",
        "print(df_data2)"
      ],
      "execution_count": 4,
      "outputs": [
        {
          "output_type": "stream",
          "name": "stdout",
          "text": [
            "   apple  orange  banana\n",
            "1     45      68      37\n",
            "2     48      10      88\n",
            "3     65      84      71\n",
            "4     68      22      89\n",
            "   orange  kiwifruit  banana\n",
            "1      38         76      17\n",
            "3      13          6       2\n",
            "5      73         80      77\n",
            "7      10         65      72\n"
          ]
        }
      ]
    },
    {
      "cell_type": "code",
      "metadata": {
        "colab": {
          "base_uri": "https://localhost:8080/"
        },
        "id": "2m7ar9XY_qzX",
        "outputId": "e9c5ab8e-0d9e-4bdb-e2be-41d68aa1cd5c"
      },
      "source": [
        "df1 = pd.concat([df_data1, df_data2], axis=0)\n",
        "print(df1)"
      ],
      "execution_count": 5,
      "outputs": [
        {
          "output_type": "stream",
          "name": "stdout",
          "text": [
            "   apple  orange  banana  kiwifruit\n",
            "1   45.0      68      37        NaN\n",
            "2   48.0      10      88        NaN\n",
            "3   65.0      84      71        NaN\n",
            "4   68.0      22      89        NaN\n",
            "1    NaN      38      17       76.0\n",
            "3    NaN      13       2        6.0\n",
            "5    NaN      73      77       80.0\n",
            "7    NaN      10      72       65.0\n"
          ]
        }
      ]
    },
    {
      "cell_type": "code",
      "metadata": {
        "colab": {
          "base_uri": "https://localhost:8080/"
        },
        "id": "aSttnKTR_tWn",
        "outputId": "f0e2acd1-003d-403d-9988-548a18c7cc3b"
      },
      "source": [
        "df2 = pd.concat([df_data1, df_data2], axis=1)\n",
        "print(df2)"
      ],
      "execution_count": 6,
      "outputs": [
        {
          "output_type": "stream",
          "name": "stdout",
          "text": [
            "   apple  orange  banana  orange  kiwifruit  banana\n",
            "1   45.0    68.0    37.0    38.0       76.0    17.0\n",
            "2   48.0    10.0    88.0     NaN        NaN     NaN\n",
            "3   65.0    84.0    71.0    13.0        6.0     2.0\n",
            "4   68.0    22.0    89.0     NaN        NaN     NaN\n",
            "5    NaN     NaN     NaN    73.0       80.0    77.0\n",
            "7    NaN     NaN     NaN    10.0       65.0    72.0\n"
          ]
        }
      ]
    },
    {
      "cell_type": "markdown",
      "metadata": {
        "id": "9K6BV-k4_xAx"
      },
      "source": [
        "#7-2-3\t 於橫向串接時增列上一層的欄位"
      ]
    },
    {
      "cell_type": "code",
      "metadata": {
        "colab": {
          "base_uri": "https://localhost:8080/"
        },
        "id": "aQc7Xg2g_vR2",
        "outputId": "92623105-d1f4-49d3-994b-f02982ce9caa"
      },
      "source": [
        "import numpy as np\n",
        "import pandas as pd\n",
        "\n",
        "def make_random_df(index, columns, seed):\n",
        "  np.random.seed(seed)\n",
        "  df = pd.DataFrame()\n",
        "  for column in columns:\n",
        "    df[column] = np.random.choice(range(1, 101), len(index))\n",
        "  df.index = index\n",
        "  return df\n",
        "\n",
        "columns = [\"apple\", \"orange\", \"banana\"]\n",
        "df_data1 = make_random_df(range(1, 5), columns, 0)\n",
        "df_data2 = make_random_df(range(1, 5), columns, 1)\n",
        "\n",
        "print(df_data1)\n",
        "print(df_data2)\n"
      ],
      "execution_count": 7,
      "outputs": [
        {
          "output_type": "stream",
          "name": "stdout",
          "text": [
            "   apple  orange  banana\n",
            "1     45      68      37\n",
            "2     48      10      88\n",
            "3     65      84      71\n",
            "4     68      22      89\n",
            "   apple  orange  banana\n",
            "1     38      76      17\n",
            "2     13       6       2\n",
            "3     73      80      77\n",
            "4     10      65      72\n"
          ]
        }
      ]
    },
    {
      "cell_type": "code",
      "metadata": {
        "colab": {
          "base_uri": "https://localhost:8080/"
        },
        "id": "2W2cbcw3_5V1",
        "outputId": "0e0f844e-7022-4b73-88d8-871256bbe132"
      },
      "source": [
        "df = pd.concat([df_data1, df_data2], axis=1, keys=[\"X\", \"Y\"])\n",
        "print(df)"
      ],
      "execution_count": 8,
      "outputs": [
        {
          "output_type": "stream",
          "name": "stdout",
          "text": [
            "      X                   Y              \n",
            "  apple orange banana apple orange banana\n",
            "1    45     68     37    38     76     17\n",
            "2    48     10     88    13      6      2\n",
            "3    65     84     71    73     80     77\n",
            "4    68     22     89    10     65     72\n"
          ]
        }
      ]
    },
    {
      "cell_type": "code",
      "metadata": {
        "colab": {
          "base_uri": "https://localhost:8080/"
        },
        "id": "NFAQI3QH_7tW",
        "outputId": "74acdd97-5523-4efb-8ee4-236fc2cf5552"
      },
      "source": [
        "Y_banana = df[\"Y\", \"banana\"]\n",
        "print(Y_banana)"
      ],
      "execution_count": 9,
      "outputs": [
        {
          "output_type": "stream",
          "name": "stdout",
          "text": [
            "1    17\n",
            "2     2\n",
            "3    77\n",
            "4    72\n",
            "Name: (Y, banana), dtype: int64\n"
          ]
        }
      ]
    },
    {
      "cell_type": "markdown",
      "metadata": {
        "id": "KMkKBRE1ABve"
      },
      "source": [
        "#7-3-2\t 用 merge() 做 DataFrame 的交集合併"
      ]
    },
    {
      "cell_type": "code",
      "metadata": {
        "colab": {
          "base_uri": "https://localhost:8080/"
        },
        "id": "zUfXSBCM_-FV",
        "outputId": "e27a5567-c1e3-4707-e370-47860b3425b2"
      },
      "source": [
        "import pandas as pd\n",
        "data1 = {\"fruits\": [\"apple\", \"orange\", \"banana\", \"strawberry\",\n",
        "  \"kiwifruit\"],\n",
        "  \"year\": [2001, 2002, 2001, 2008, 2006],\n",
        "  \"amount\": [1, 4, 5, 6, 3]}\n",
        "df1 = pd.DataFrame(data1)\n",
        "\n",
        "data2 = {\"fruits\": [\"apple\", \"orange\", \"banana\", \"strawberry\",\n",
        "  \"mango\"],\n",
        "  \"year\": [2001, 2002, 2001, 2008, 2007],\n",
        "  \"price\": [150, 120, 100, 250, 3000]}\n",
        "df2 = pd.DataFrame(data2)\n",
        "\n",
        "print('---- df1 ----\\n', df1)\n",
        "print('---- df2 ----\\n', df2)"
      ],
      "execution_count": 10,
      "outputs": [
        {
          "output_type": "stream",
          "name": "stdout",
          "text": [
            "---- df1 ----\n",
            "        fruits  year  amount\n",
            "0       apple  2001       1\n",
            "1      orange  2002       4\n",
            "2      banana  2001       5\n",
            "3  strawberry  2008       6\n",
            "4   kiwifruit  2006       3\n",
            "---- df2 ----\n",
            "        fruits  year  price\n",
            "0       apple  2001    150\n",
            "1      orange  2002    120\n",
            "2      banana  2001    100\n",
            "3  strawberry  2008    250\n",
            "4       mango  2007   3000\n"
          ]
        }
      ]
    },
    {
      "cell_type": "code",
      "metadata": {
        "colab": {
          "base_uri": "https://localhost:8080/"
        },
        "id": "zXuVDIoEAHEW",
        "outputId": "619c6f94-86c7-40a1-d6f1-26b3d654e53f"
      },
      "source": [
        "df3 = pd.merge(df1, df2, on=\"fruits\", how=\"inner\")\n",
        "print('---- df3 ----\\n', df3)"
      ],
      "execution_count": 11,
      "outputs": [
        {
          "output_type": "stream",
          "name": "stdout",
          "text": [
            "---- df3 ----\n",
            "        fruits  year_x  amount  year_y  price\n",
            "0       apple    2001       1    2001    150\n",
            "1      orange    2002       4    2002    120\n",
            "2      banana    2001       5    2001    100\n",
            "3  strawberry    2008       6    2008    250\n"
          ]
        }
      ]
    },
    {
      "cell_type": "markdown",
      "metadata": {
        "id": "GkHavr9MAOIH"
      },
      "source": [
        "#7-3-3\t 用 merge() 做 DataFrame 的聯集合併"
      ]
    },
    {
      "cell_type": "code",
      "metadata": {
        "colab": {
          "base_uri": "https://localhost:8080/"
        },
        "id": "ZfjboHT4AK3l",
        "outputId": "518c6740-f746-484c-d448-9d3dce2cf2bb"
      },
      "source": [
        "df3 = pd.merge(df1, df2, on=\"fruits\", how=\"outer\")\n",
        "print('---- df3 ----\\n', df3)"
      ],
      "execution_count": 12,
      "outputs": [
        {
          "output_type": "stream",
          "name": "stdout",
          "text": [
            "---- df3 ----\n",
            "        fruits  year_x  amount  year_y   price\n",
            "0       apple  2001.0     1.0  2001.0   150.0\n",
            "1      orange  2002.0     4.0  2002.0   120.0\n",
            "2      banana  2001.0     5.0  2001.0   100.0\n",
            "3  strawberry  2008.0     6.0  2008.0   250.0\n",
            "4   kiwifruit  2006.0     3.0     NaN     NaN\n",
            "5       mango     NaN     NaN  2007.0  3000.0\n"
          ]
        }
      ]
    },
    {
      "cell_type": "markdown",
      "metadata": {
        "id": "p8qD9LtmAULX"
      },
      "source": [
        "#7-3-4\t 透過「具關聯性的欄位」合併多個 DataFrame(一)"
      ]
    },
    {
      "cell_type": "code",
      "metadata": {
        "colab": {
          "base_uri": "https://localhost:8080/"
        },
        "id": "ioijx349ARdX",
        "outputId": "82921ac9-77a1-41c3-96a5-532c8a63b08f"
      },
      "source": [
        "import pandas as pd\n",
        "order_df = pd.DataFrame([[1000, 2546, 103],\n",
        "  [1001, 4352, 101],\n",
        "  [1002, 342, 101]],\n",
        "  columns=[\"id\", \"item_id\", \"customer_id\"])\n",
        "print('-----order_df-----')\n",
        "print(order_df)\n",
        "\n",
        "customer_df = pd.DataFrame([[101, \"Tanaka\"],\n",
        "  [102, \"Suzuki\"],\n",
        "  [103, \"Kato\"]],\n",
        "  columns=[\"id\", \"name\"])\n",
        "print('-----customer_df-----')\n",
        "print(customer_df)"
      ],
      "execution_count": 13,
      "outputs": [
        {
          "output_type": "stream",
          "name": "stdout",
          "text": [
            "-----order_df-----\n",
            "     id  item_id  customer_id\n",
            "0  1000     2546          103\n",
            "1  1001     4352          101\n",
            "2  1002      342          101\n",
            "-----customer_df-----\n",
            "    id    name\n",
            "0  101  Tanaka\n",
            "1  102  Suzuki\n",
            "2  103    Kato\n"
          ]
        }
      ]
    },
    {
      "cell_type": "code",
      "metadata": {
        "colab": {
          "base_uri": "https://localhost:8080/"
        },
        "id": "rIS7LI6PAcfF",
        "outputId": "c8ea7aab-dc07-4c05-e2c3-fbb56aea0814"
      },
      "source": [
        "order_df = pd.merge(order_df, customer_df, left_on=\"customer_id\",\n",
        "right_on=\"id\", how=\"inner\")\n",
        "print('-----交集合併-----')\n",
        "print(order_df)"
      ],
      "execution_count": 14,
      "outputs": [
        {
          "output_type": "stream",
          "name": "stdout",
          "text": [
            "-----交集合併-----\n",
            "   id_x  item_id  customer_id  id_y    name\n",
            "0  1000     2546          103   103    Kato\n",
            "1  1001     4352          101   101  Tanaka\n",
            "2  1002      342          101   101  Tanaka\n"
          ]
        }
      ]
    },
    {
      "cell_type": "markdown",
      "metadata": {
        "id": "ahW4HJTRAqi9"
      },
      "source": [
        "#7-3-5\t 透過「具關聯性的欄位」合併多個DataFrame (二)"
      ]
    },
    {
      "cell_type": "code",
      "metadata": {
        "colab": {
          "base_uri": "https://localhost:8080/"
        },
        "id": "6jA9E1HxAsaG",
        "outputId": "479a08e7-93b9-4770-f357-e878d9f03644"
      },
      "source": [
        "import pandas as pd\n",
        "order_df = pd.DataFrame([[1000, 2546, 103],\n",
        "  [1001, 4352, 101],\n",
        "  [1002, 342, 101]],\n",
        "  columns=[\"id\", \"item_id\", \"customer_id\"])\n",
        "print('----訂貨紀錄----\\n', order_df)\n",
        "\n",
        "customer_df = pd.DataFrame([[\"Tanaka\"],\n",
        "  [\"Suzuki\"],\n",
        "  [\"Kato\"]],\n",
        "  columns=[\"name\"])\n",
        "\n",
        "customer_df.index = [101, 102, 103]\n",
        "print('----客戶資訊----\\n', customer_df)"
      ],
      "execution_count": 15,
      "outputs": [
        {
          "output_type": "stream",
          "name": "stdout",
          "text": [
            "----訂貨紀錄----\n",
            "      id  item_id  customer_id\n",
            "0  1000     2546          103\n",
            "1  1001     4352          101\n",
            "2  1002      342          101\n",
            "----客戶資訊----\n",
            "        name\n",
            "101  Tanaka\n",
            "102  Suzuki\n",
            "103    Kato\n"
          ]
        }
      ]
    },
    {
      "cell_type": "code",
      "metadata": {
        "colab": {
          "base_uri": "https://localhost:8080/"
        },
        "id": "y6oO4TQJCRN4",
        "outputId": "846203fc-ef97-4379-d721-90faf1506efa"
      },
      "source": [
        "order_df = pd.merge(order_df, customer_df, left_on=\"customer_id\",\n",
        "                    right_index=True, how=\"inner\")\n",
        "print('----order_df----\\n', order_df)"
      ],
      "execution_count": 16,
      "outputs": [
        {
          "output_type": "stream",
          "name": "stdout",
          "text": [
            "----order_df----\n",
            "      id  item_id  customer_id    name\n",
            "0  1000     2546          103    Kato\n",
            "1  1001     4352          101  Tanaka\n",
            "2  1002      342          101  Tanaka\n"
          ]
        }
      ]
    },
    {
      "cell_type": "code",
      "metadata": {
        "id": "qyqEDHXKCT5V"
      },
      "source": [],
      "execution_count": null,
      "outputs": []
    }
  ]
}