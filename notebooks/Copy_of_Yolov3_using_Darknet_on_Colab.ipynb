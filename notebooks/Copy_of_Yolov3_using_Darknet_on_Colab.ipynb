{
  "nbformat": 4,
  "nbformat_minor": 0,
  "metadata": {
    "colab": {
      "provenance": []
    },
    "kernelspec": {
      "name": "python3",
      "display_name": "Python 3"
    },
    "accelerator": "GPU"
  },
  "cells": [
    {
      "cell_type": "markdown",
      "metadata": {
        "id": "Km4s1cPZ_wTt"
      },
      "source": [
        "# 如何在 Colab 安裝 Darknet 框架訓練 YOLO v3 物件辨識並且最佳化 Colab 的訓練流程\n",
        "\n",
        "此範例程式碼為文章「如何在 Colab 安裝 Darknet 框架訓練 YOLO v3 物件辨識並且最佳化 Colab 的訓練流程」的範例程式碼。\n",
        "\n",
        "這篇文章會教你：\n",
        "* 利用 Colab 128G RAM GPU 來訓練你的 Yolo3 模型\n",
        "* 將 Colab 設定成可以運用在實際專案的訓練環境\n",
        "* 快速掛載本機電腦上的檔案到 Colab 環境中\n",
        "* 事先編譯所有需要的檔案，每次開啟 Colab 後即可立刻進行訓練\n",
        "* 將訓練好的 weight 檔案自動同步回本機電腦，避免檔案遺失"
      ]
    },
    {
      "cell_type": "markdown",
      "metadata": {
        "id": "sMsN0ZqNAITs"
      },
      "source": [
        "## Step 2：連接你的 Google Drive"
      ]
    },
    {
      "cell_type": "code",
      "metadata": {
        "id": "sOdyQTEK_by5",
        "outputId": "fbb88f40-0adc-48b2-aa15-acbd47183283",
        "colab": {
          "base_uri": "https://localhost:8080/"
        }
      },
      "source": [
        "from google.colab import drive\n",
        "drive.mount('/content/gdrive') # 請點擊網址，選擇 Google 帳號登入，然後將授權碼貼回輸入框中"
      ],
      "execution_count": null,
      "outputs": [
        {
          "output_type": "stream",
          "name": "stdout",
          "text": [
            "Drive already mounted at /content/gdrive; to attempt to forcibly remount, call drive.mount(\"/content/gdrive\", force_remount=True).\n"
          ]
        }
      ]
    },
    {
      "cell_type": "code",
      "metadata": {
        "id": "1l27GuQS_tUl",
        "colab": {
          "base_uri": "https://localhost:8080/"
        },
        "outputId": "79466a27-1f88-402c-fa34-8cee187eecfe"
      },
      "source": [
        "!ln -fs /content/gdrive/My\\ Drive /app"
      ],
      "execution_count": null,
      "outputs": [
        {
          "output_type": "stream",
          "name": "stdout",
          "text": [
            "ln: failed to create symbolic link '/app/My Drive': Input/output error\n"
          ]
        }
      ]
    },
    {
      "cell_type": "markdown",
      "metadata": {
        "id": "QGaLkiqAAYhR"
      },
      "source": [
        "## 步驟 4：下載並編譯 Darknet（只需要執行一次）\n",
        "\n",
        "這個步驟只需要執行一次，執行過程我們會把執行檔複製到 Google Drive。之後要跑程式時，只要把執行檔複製回 Colab 環境就可以使用了。"
      ]
    },
    {
      "cell_type": "markdown",
      "metadata": {
        "id": "pOCRr9LtBVbG"
      },
      "source": [
        "### 4.1 下載 cuDNN 檔案\n",
        "\n",
        "1. 申請 Nvidia 帳號，申請網址為 http://bit.ly/2qfpOPj\n",
        "2. 下載 `cudnn-10.0-linux-x64-v7.5.0.56.tgz`，下載網址為\n",
        "下載 cuDNN 檔案。下載網址為：http://bit.ly/2qfpOPj\n",
        "3. 將下載的檔案 `cudnn-10.0-linux-x64-v7.5.0.56.tgz` 放到 google drive 的 `darknet/cuDNN/` 目錄下。"
      ]
    },
    {
      "cell_type": "code",
      "metadata": {
        "id": "VaSrSsBHAlLg",
        "outputId": "a613d472-ea3b-448d-838e-92dca47321b0",
        "colab": {
          "base_uri": "https://localhost:8080/"
        }
      },
      "source": [
        "!tar -Jxvf /app/cudnn/cudnn-linux-x86_64-8.9.1.23_cuda11-archive.tar.xz -C /usr/local/\n",
        "#!dpkg -i /app/cudnn/cudnn-local-repo-ubuntu2004-8.9.1.23_1.0-1_amd64.deb\n",
        "!chmod a+r /usr/local/cuda/include/cudnn.h\n",
        "\n",
        "# 檢查是否安裝成功\n",
        "!cat /usr/include/cudnn.h | grep CUDNN_MAJOR -A 2"
      ],
      "execution_count": null,
      "outputs": [
        {
          "output_type": "stream",
          "name": "stdout",
          "text": [
            "cudnn-linux-x86_64-8.9.1.23_cuda11-archive/\n",
            "cudnn-linux-x86_64-8.9.1.23_cuda11-archive/lib/\n",
            "cudnn-linux-x86_64-8.9.1.23_cuda11-archive/lib/libcudnn_adv_infer_static.a\n",
            "cudnn-linux-x86_64-8.9.1.23_cuda11-archive/lib/libcudnn_adv_infer_static_v8.a\n",
            "cudnn-linux-x86_64-8.9.1.23_cuda11-archive/lib/libcudnn_adv_train_static.a\n",
            "cudnn-linux-x86_64-8.9.1.23_cuda11-archive/lib/libcudnn_adv_train_static_v8.a\n",
            "cudnn-linux-x86_64-8.9.1.23_cuda11-archive/lib/libcudnn_cnn_infer_static.a\n",
            "cudnn-linux-x86_64-8.9.1.23_cuda11-archive/lib/libcudnn_cnn_infer_static_v8.a\n",
            "cudnn-linux-x86_64-8.9.1.23_cuda11-archive/lib/libcudnn_cnn_train_static.a\n",
            "cudnn-linux-x86_64-8.9.1.23_cuda11-archive/lib/libcudnn_cnn_train_static_v8.a\n",
            "cudnn-linux-x86_64-8.9.1.23_cuda11-archive/lib/libcudnn_ops_infer_static.a\n",
            "cudnn-linux-x86_64-8.9.1.23_cuda11-archive/lib/libcudnn_ops_infer_static_v8.a\n",
            "cudnn-linux-x86_64-8.9.1.23_cuda11-archive/lib/libcudnn_ops_train_static.a\n",
            "cudnn-linux-x86_64-8.9.1.23_cuda11-archive/lib/libcudnn_ops_train_static_v8.a\n",
            "cudnn-linux-x86_64-8.9.1.23_cuda11-archive/lib/libcudnn.so.8\n",
            "cudnn-linux-x86_64-8.9.1.23_cuda11-archive/lib/libcudnn.so.8.9.1\n",
            "cudnn-linux-x86_64-8.9.1.23_cuda11-archive/lib/libcudnn.so\n",
            "cudnn-linux-x86_64-8.9.1.23_cuda11-archive/lib/libcudnn_adv_infer.so.8.9.1\n",
            "cudnn-linux-x86_64-8.9.1.23_cuda11-archive/lib/libcudnn_adv_infer.so\n",
            "cudnn-linux-x86_64-8.9.1.23_cuda11-archive/lib/libcudnn_adv_infer.so.8\n",
            "cudnn-linux-x86_64-8.9.1.23_cuda11-archive/lib/libcudnn_adv_train.so\n",
            "cudnn-linux-x86_64-8.9.1.23_cuda11-archive/lib/libcudnn_adv_train.so.8\n",
            "cudnn-linux-x86_64-8.9.1.23_cuda11-archive/lib/libcudnn_adv_train.so.8.9.1\n",
            "cudnn-linux-x86_64-8.9.1.23_cuda11-archive/lib/libcudnn_cnn_infer.so.8\n",
            "cudnn-linux-x86_64-8.9.1.23_cuda11-archive/lib/libcudnn_cnn_infer.so\n",
            "cudnn-linux-x86_64-8.9.1.23_cuda11-archive/lib/libcudnn_cnn_infer.so.8.9.1\n",
            "cudnn-linux-x86_64-8.9.1.23_cuda11-archive/lib/libcudnn_cnn_train.so.8.9.1\n",
            "cudnn-linux-x86_64-8.9.1.23_cuda11-archive/lib/libcudnn_cnn_train.so\n",
            "cudnn-linux-x86_64-8.9.1.23_cuda11-archive/lib/libcudnn_cnn_train.so.8\n",
            "cudnn-linux-x86_64-8.9.1.23_cuda11-archive/lib/libcudnn_ops_infer.so\n",
            "cudnn-linux-x86_64-8.9.1.23_cuda11-archive/lib/libcudnn_ops_infer.so.8\n",
            "cudnn-linux-x86_64-8.9.1.23_cuda11-archive/lib/libcudnn_ops_infer.so.8.9.1\n",
            "cudnn-linux-x86_64-8.9.1.23_cuda11-archive/lib/libcudnn_ops_train.so\n",
            "cudnn-linux-x86_64-8.9.1.23_cuda11-archive/lib/libcudnn_ops_train.so.8.9.1\n",
            "cudnn-linux-x86_64-8.9.1.23_cuda11-archive/lib/libcudnn_ops_train.so.8\n",
            "cudnn-linux-x86_64-8.9.1.23_cuda11-archive/include/\n",
            "cudnn-linux-x86_64-8.9.1.23_cuda11-archive/include/cudnn_v8.h\n",
            "cudnn-linux-x86_64-8.9.1.23_cuda11-archive/include/cudnn_adv_infer_v8.h\n",
            "cudnn-linux-x86_64-8.9.1.23_cuda11-archive/include/cudnn_adv_train_v8.h\n",
            "cudnn-linux-x86_64-8.9.1.23_cuda11-archive/include/cudnn_backend_v8.h\n",
            "cudnn-linux-x86_64-8.9.1.23_cuda11-archive/include/cudnn_cnn_infer_v8.h\n",
            "cudnn-linux-x86_64-8.9.1.23_cuda11-archive/include/cudnn_cnn_train_v8.h\n",
            "cudnn-linux-x86_64-8.9.1.23_cuda11-archive/include/cudnn_ops_infer_v8.h\n",
            "cudnn-linux-x86_64-8.9.1.23_cuda11-archive/include/cudnn_ops_train_v8.h\n",
            "cudnn-linux-x86_64-8.9.1.23_cuda11-archive/include/cudnn_version_v8.h\n",
            "cudnn-linux-x86_64-8.9.1.23_cuda11-archive/include/cudnn.h\n",
            "cudnn-linux-x86_64-8.9.1.23_cuda11-archive/include/cudnn_adv_infer.h\n",
            "cudnn-linux-x86_64-8.9.1.23_cuda11-archive/include/cudnn_adv_train.h\n",
            "cudnn-linux-x86_64-8.9.1.23_cuda11-archive/include/cudnn_backend.h\n",
            "cudnn-linux-x86_64-8.9.1.23_cuda11-archive/include/cudnn_cnn_infer.h\n",
            "cudnn-linux-x86_64-8.9.1.23_cuda11-archive/include/cudnn_cnn_train.h\n",
            "cudnn-linux-x86_64-8.9.1.23_cuda11-archive/include/cudnn_ops_infer.h\n",
            "cudnn-linux-x86_64-8.9.1.23_cuda11-archive/include/cudnn_ops_train.h\n",
            "cudnn-linux-x86_64-8.9.1.23_cuda11-archive/include/cudnn_version.h\n",
            "cudnn-linux-x86_64-8.9.1.23_cuda11-archive/LICENSE\n",
            "chmod: cannot access '/usr/local/cuda/include/cudnn.h': No such file or directory\n"
          ]
        }
      ]
    },
    {
      "cell_type": "code",
      "source": [
        "#!find / -name cudnn.h -print\n",
        "#!cp /usr/include/cudnn_version.h /content\n",
        "!cat /usr/include/cudnn_version.h | grep CUDNN_MAJOR -A 2"
      ],
      "metadata": {
        "colab": {
          "base_uri": "https://localhost:8080/"
        },
        "id": "Gjdlz3vH8FDs",
        "outputId": "209bbf68-bb0c-4c91-8567-372e696ab556"
      },
      "execution_count": null,
      "outputs": [
        {
          "output_type": "stream",
          "name": "stdout",
          "text": [
            "#define CUDNN_MAJOR 8\n",
            "#define CUDNN_MINOR 7\n",
            "#define CUDNN_PATCHLEVEL 0\n",
            "--\n",
            "#define CUDNN_VERSION (CUDNN_MAJOR * 1000 + CUDNN_MINOR * 100 + CUDNN_PATCHLEVEL)\n",
            "\n",
            "/* cannot use constexpr here since this is a C-only file */\n"
          ]
        }
      ]
    },
    {
      "cell_type": "markdown",
      "metadata": {
        "id": "8DJfGrb9LO0s"
      },
      "source": [
        "### 4.2 下載並編譯 Darknet"
      ]
    },
    {
      "cell_type": "code",
      "source": [
        "!apt install libopencv-dev"
      ],
      "metadata": {
        "colab": {
          "base_uri": "https://localhost:8080/"
        },
        "id": "ucj21oBI96qD",
        "outputId": "c7097b0a-d30b-4a42-8b8b-5924552747d5"
      },
      "execution_count": null,
      "outputs": [
        {
          "output_type": "stream",
          "name": "stdout",
          "text": [
            "Reading package lists... Done\n",
            "Building dependency tree       \n",
            "Reading state information... Done\n",
            "libopencv-dev is already the newest version (4.2.0+dfsg-5+focal2).\n",
            "0 upgraded, 0 newly installed, 0 to remove and 24 not upgraded.\n"
          ]
        }
      ]
    },
    {
      "cell_type": "code",
      "source": [
        "!apt-get install g++\n",
        "#!pkg-config --modversion opencv\n",
        "#!pkg-config --cflags opencv\n",
        "#!find / -name opencv.pc -print"
      ],
      "metadata": {
        "colab": {
          "base_uri": "https://localhost:8080/"
        },
        "id": "hK-kZkv0-mQG",
        "outputId": "f7f32c9e-1091-478e-e357-c596721b28a9"
      },
      "execution_count": null,
      "outputs": [
        {
          "output_type": "stream",
          "name": "stdout",
          "text": [
            "Reading package lists... Done\n",
            "Building dependency tree       \n",
            "Reading state information... Done\n",
            "g++ is already the newest version (4:9.3.0-1ubuntu2).\n",
            "0 upgraded, 0 newly installed, 0 to remove and 24 not upgraded.\n"
          ]
        }
      ]
    },
    {
      "cell_type": "code",
      "metadata": {
        "id": "6TnZHWQ5K4Ef",
        "outputId": "1a3badf4-cedc-465d-9498-b0615c8d7e61",
        "colab": {
          "base_uri": "https://localhost:8080/"
        }
      },
      "source": [
        "%cd /content/\n",
        "!git clone https://github.com/kriyeng/darknet/ darknet_source\n",
        "%cd darknet_source\n",
        "!cp /app/cudnn/Makefile .\n",
        "# 修改 Darknet 設定，符合 Colab 環境\n",
        "!sed -i \"s/GPU=0/GPU=1/g\" Makefile\n",
        "!sed -i \"s/CUDNN=0/CUDNN=1/g\" Makefile\n",
        "!sed -i \"s/OPENCV=0/OPENCV=1/g\" Makefile\n",
        "\n",
        "# 編譯\n",
        "!make\n",
        "\n",
        "# 將編譯完成的執行檔複製回 Google Drive\n",
        "!cp ./darknet /app/darknet\n",
        "!cp ./darknet /content/darknet\n",
        "%cd /content"
      ],
      "execution_count": null,
      "outputs": [
        {
          "output_type": "stream",
          "name": "stdout",
          "text": [
            "/content\n",
            "fatal: destination path 'darknet_source' already exists and is not an empty directory.\n",
            "/content/darknet_source\n",
            "chmod +x *.sh\n",
            "g++ -std=c++11 -Iinclude/ -I3rdparty/stb/include -DOPENCV `pkg-config --cflags opencv4` -DGPU -I/usr/local/cuda/include/ -DCUDNN -Wall -Wfatal-errors -Wno-unused-result -Wno-unknown-pragmas -fPIC -Ofast -DOPENCV -DGPU -DCUDNN -I/usr/local/cudnn/include -c ./src/image_opencv.cpp -o obj/image_opencv.o\n",
            "\u001b[01m\u001b[K./src/image_opencv.cpp:\u001b[m\u001b[K In function ‘\u001b[01m\u001b[Kvoid draw_detections_cv_v3(mat_cv*, detection*, int, float, char**, image**, int, int)\u001b[m\u001b[K’:\n",
            "\u001b[01m\u001b[K./src/image_opencv.cpp:896:23:\u001b[m\u001b[K \u001b[01;35m\u001b[Kwarning: \u001b[m\u001b[Kvariable ‘\u001b[01m\u001b[Krgb\u001b[m\u001b[K’ set but not used [\u001b[01;35m\u001b[K-Wunused-but-set-variable\u001b[m\u001b[K]\n",
            "  896 |                 float \u001b[01;35m\u001b[Krgb\u001b[m\u001b[K[3];\n",
            "      |                       \u001b[01;35m\u001b[K^~~\u001b[m\u001b[K\n",
            "g++ -std=c++11 -Iinclude/ -I3rdparty/stb/include -DOPENCV `pkg-config --cflags opencv4` -DGPU -I/usr/local/cuda/include/ -DCUDNN -Wall -Wfatal-errors -Wno-unused-result -Wno-unknown-pragmas -fPIC -Ofast -DOPENCV -DGPU -DCUDNN -I/usr/local/cudnn/include -c ./src/http_stream.cpp -o obj/http_stream.o\n",
            "\u001b[01m\u001b[K./src/http_stream.cpp:\u001b[m\u001b[K In member function ‘\u001b[01m\u001b[Kbool JSON_sender::write(const char*)\u001b[m\u001b[K’:\n",
            "\u001b[01m\u001b[K./src/http_stream.cpp:228:21:\u001b[m\u001b[K \u001b[01;35m\u001b[Kwarning: \u001b[m\u001b[Kunused variable ‘\u001b[01m\u001b[Kn\u001b[m\u001b[K’ [\u001b[01;35m\u001b[K-Wunused-variable\u001b[m\u001b[K]\n",
            "  228 |                 int \u001b[01;35m\u001b[Kn\u001b[m\u001b[K = _write(client, outputbuf, outlen);\n",
            "      |                     \u001b[01;35m\u001b[K^\u001b[m\u001b[K\n",
            "\u001b[01m\u001b[K./src/http_stream.cpp:\u001b[m\u001b[K In member function ‘\u001b[01m\u001b[Kbool MJPG_sender::write(const cv::Mat&)\u001b[m\u001b[K’:\n",
            "\u001b[01m\u001b[K./src/http_stream.cpp:475:23:\u001b[m\u001b[K \u001b[01;35m\u001b[Kwarning: \u001b[m\u001b[Kcomparison of integer expressions of different signedness: ‘\u001b[01m\u001b[Kint\u001b[m\u001b[K’ and ‘\u001b[01m\u001b[Ksize_t\u001b[m\u001b[K’ {aka ‘\u001b[01m\u001b[Klong unsigned int\u001b[m\u001b[K’} [\u001b[01;35m\u001b[K-Wsign-compare\u001b[m\u001b[K]\n",
            "  475 |                 if (\u001b[01;35m\u001b[Kn < outlen\u001b[m\u001b[K)\n",
            "      |                     \u001b[01;35m\u001b[K~~^~~~~~~~\u001b[m\u001b[K\n",
            "gcc -Iinclude/ -I3rdparty/stb/include -DOPENCV `pkg-config --cflags opencv4` -DGPU -I/usr/local/cuda/include/ -DCUDNN -Wall -Wfatal-errors -Wno-unused-result -Wno-unknown-pragmas -fPIC -Ofast -DOPENCV -DGPU -DCUDNN -I/usr/local/cudnn/include -c ./src/gemm.c -o obj/gemm.o\n",
            "\u001b[01m\u001b[K./src/gemm.c:\u001b[m\u001b[K In function ‘\u001b[01m\u001b[Kconvolution_2d\u001b[m\u001b[K’:\n",
            "\u001b[01m\u001b[K./src/gemm.c:2016:15:\u001b[m\u001b[K \u001b[01;35m\u001b[Kwarning: \u001b[m\u001b[Kunused variable ‘\u001b[01m\u001b[Kout_w\u001b[m\u001b[K’ [\u001b[01;35m\u001b[K-Wunused-variable\u001b[m\u001b[K]\n",
            " 2016 |     const int \u001b[01;35m\u001b[Kout_w\u001b[m\u001b[K = (w + 2 * pad - ksize) / stride + 1;    // output_width=input_width for stride=1 and pad=1\n",
            "      |               \u001b[01;35m\u001b[K^~~~~\u001b[m\u001b[K\n",
            "\u001b[01m\u001b[K./src/gemm.c:2015:15:\u001b[m\u001b[K \u001b[01;35m\u001b[Kwarning: \u001b[m\u001b[Kunused variable ‘\u001b[01m\u001b[Kout_h\u001b[m\u001b[K’ [\u001b[01;35m\u001b[K-Wunused-variable\u001b[m\u001b[K]\n",
            " 2015 |     const int \u001b[01;35m\u001b[Kout_h\u001b[m\u001b[K = (h + 2 * pad - ksize) / stride + 1;    // output_height=input_height for stride=1 and pad=1\n",
            "      |               \u001b[01;35m\u001b[K^~~~~\u001b[m\u001b[K\n",
            "gcc -Iinclude/ -I3rdparty/stb/include -DOPENCV `pkg-config --cflags opencv4` -DGPU -I/usr/local/cuda/include/ -DCUDNN -Wall -Wfatal-errors -Wno-unused-result -Wno-unknown-pragmas -fPIC -Ofast -DOPENCV -DGPU -DCUDNN -I/usr/local/cudnn/include -c ./src/utils.c -o obj/utils.o\n",
            "In file included from \u001b[01m\u001b[K/usr/include/string.h:495\u001b[m\u001b[K,\n",
            "                 from \u001b[01m\u001b[Kinclude/darknet.h:14\u001b[m\u001b[K,\n",
            "                 from \u001b[01m\u001b[K./src/utils.h:3\u001b[m\u001b[K,\n",
            "                 from \u001b[01m\u001b[K./src/utils.c:1\u001b[m\u001b[K:\n",
            "In function ‘\u001b[01m\u001b[Kstrncpy\u001b[m\u001b[K’,\n",
            "    inlined from ‘\u001b[01m\u001b[Kcopy_string\u001b[m\u001b[K’ at \u001b[01m\u001b[K./src/utils.c:466:5\u001b[m\u001b[K:\n",
            "\u001b[01m\u001b[K/usr/include/x86_64-linux-gnu/bits/string_fortified.h:106:10:\u001b[m\u001b[K \u001b[01;35m\u001b[Kwarning: \u001b[m\u001b[K‘\u001b[01m\u001b[K__builtin_strncpy\u001b[m\u001b[K’ specified bound depends on the length of the source argument [\u001b[01;35m\u001b[K-Wstringop-overflow=\u001b[m\u001b[K]\n",
            "  106 |   return \u001b[01;35m\u001b[K__builtin___strncpy_chk (__dest, __src, __len, __bos (__dest))\u001b[m\u001b[K;\n",
            "      |          \u001b[01;35m\u001b[K^~~~~~~~~~~~~~~~~~~~~~~~~~~~~~~~~~~~~~~~~~~~~~~~~~~~~~~~~~~~~~\u001b[m\u001b[K\n",
            "\u001b[01m\u001b[K./src/utils.c:\u001b[m\u001b[K In function ‘\u001b[01m\u001b[Kcopy_string\u001b[m\u001b[K’:\n",
            "\u001b[01m\u001b[K./src/utils.c:466:22:\u001b[m\u001b[K \u001b[01;36m\u001b[Knote: \u001b[m\u001b[Klength computed here\n",
            "  466 |     strncpy(copy, s, \u001b[01;36m\u001b[Kstrlen(s)\u001b[m\u001b[K+1);\n",
            "      |                      \u001b[01;36m\u001b[K^~~~~~~~~\u001b[m\u001b[K\n",
            "gcc -Iinclude/ -I3rdparty/stb/include -DOPENCV `pkg-config --cflags opencv4` -DGPU -I/usr/local/cuda/include/ -DCUDNN -Wall -Wfatal-errors -Wno-unused-result -Wno-unknown-pragmas -fPIC -Ofast -DOPENCV -DGPU -DCUDNN -I/usr/local/cudnn/include -c ./src/dark_cuda.c -o obj/dark_cuda.o\n",
            "\u001b[01m\u001b[K./src/dark_cuda.c:\u001b[m\u001b[K In function ‘\u001b[01m\u001b[Kget_cuda_stream\u001b[m\u001b[K’:\n",
            "\u001b[01m\u001b[K./src/dark_cuda.c:120:18:\u001b[m\u001b[K \u001b[01;35m\u001b[Kwarning: \u001b[m\u001b[Kunused variable ‘\u001b[01m\u001b[Kbuffer\u001b[m\u001b[K’ [\u001b[01;35m\u001b[K-Wunused-variable\u001b[m\u001b[K]\n",
            "  120 |             char \u001b[01;35m\u001b[Kbuffer\u001b[m\u001b[K[256];\n",
            "      |                  \u001b[01;35m\u001b[K^~~~~~\u001b[m\u001b[K\n",
            "\u001b[01m\u001b[K./src/dark_cuda.c:\u001b[m\u001b[K In function ‘\u001b[01m\u001b[Kget_cuda_memcpy_stream\u001b[m\u001b[K’:\n",
            "\u001b[01m\u001b[K./src/dark_cuda.c:141:18:\u001b[m\u001b[K \u001b[01;35m\u001b[Kwarning: \u001b[m\u001b[Kunused variable ‘\u001b[01m\u001b[Kbuffer\u001b[m\u001b[K’ [\u001b[01;35m\u001b[K-Wunused-variable\u001b[m\u001b[K]\n",
            "  141 |             char \u001b[01;35m\u001b[Kbuffer\u001b[m\u001b[K[256];\n",
            "      |                  \u001b[01;35m\u001b[K^~~~~~\u001b[m\u001b[K\n",
            "\u001b[01m\u001b[K./src/dark_cuda.c:\u001b[m\u001b[K In function ‘\u001b[01m\u001b[Kcudnn_handle\u001b[m\u001b[K’:\n",
            "\u001b[01m\u001b[K./src/dark_cuda.c:161:23:\u001b[m\u001b[K \u001b[01;35m\u001b[Kwarning: \u001b[m\u001b[Kunused variable ‘\u001b[01m\u001b[Kstatus\u001b[m\u001b[K’ [\u001b[01;35m\u001b[K-Wunused-variable\u001b[m\u001b[K]\n",
            "  161 |         cudnnStatus_t \u001b[01;35m\u001b[Kstatus\u001b[m\u001b[K = cudnnSetStream(handle[i], get_cuda_stream());\n",
            "      |                       \u001b[01;35m\u001b[K^~~~~~\u001b[m\u001b[K\n",
            "gcc -Iinclude/ -I3rdparty/stb/include -DOPENCV `pkg-config --cflags opencv4` -DGPU -I/usr/local/cuda/include/ -DCUDNN -Wall -Wfatal-errors -Wno-unused-result -Wno-unknown-pragmas -fPIC -Ofast -DOPENCV -DGPU -DCUDNN -I/usr/local/cudnn/include -c ./src/convolutional_layer.c -o obj/convolutional_layer.o\n",
            "\u001b[01m\u001b[K./src/convolutional_layer.c:\u001b[m\u001b[K In function ‘\u001b[01m\u001b[Kcudnn_convolutional_setup\u001b[m\u001b[K’:\n",
            "\u001b[01m\u001b[K./src/convolutional_layer.c:277:24:\u001b[m\u001b[K \u001b[01;31m\u001b[Kerror: \u001b[m\u001b[K‘\u001b[01m\u001b[KCUDNN_CONVOLUTION_FWD_PREFER_FASTEST\u001b[m\u001b[K’ undeclared (first use in this function); did you mean ‘\u001b[01m\u001b[KCUDNN_CONVOLUTION_BWD_FILTER_ALGO_3\u001b[m\u001b[K’?\n",
            "  277 |     int forward_algo = \u001b[01;31m\u001b[KCUDNN_CONVOLUTION_FWD_PREFER_FASTEST\u001b[m\u001b[K;\n",
            "      |                        \u001b[01;31m\u001b[K^~~~~~~~~~~~~~~~~~~~~~~~~~~~~~~~~~~~\u001b[m\u001b[K\n",
            "      |                        \u001b[32m\u001b[KCUDNN_CONVOLUTION_BWD_FILTER_ALGO_3\u001b[m\u001b[K\n",
            "compilation terminated due to -Wfatal-errors.\n",
            "make: *** [Makefile:146: obj/convolutional_layer.o] Error 1\n",
            "cp: cannot stat './darknet': No such file or directory\n",
            "cp: cannot stat './darknet': No such file or directory\n",
            "/content\n"
          ]
        }
      ]
    },
    {
      "cell_type": "markdown",
      "metadata": {
        "id": "1EfxBXRRLVKs"
      },
      "source": [
        "# 測試 Darknet 是否正常安裝\n",
        "\n",
        "我們用 yolo 官方預先訓練好的模型來偵測範例圖片。"
      ]
    },
    {
      "cell_type": "code",
      "metadata": {
        "id": "ROp-MIykPD25",
        "outputId": "373d0e48-071a-42a3-f2d6-9c1b408e2325",
        "colab": {
          "base_uri": "https://localhost:8080/"
        }
      },
      "source": [
        "%cd /content/darknet_source\n",
        "!wget https://pjreddie.com/media/files/yolov3.weights\n",
        "!/content/darknet detect cfg/yolov3.cfg yolov3.weights data/person.jpg -dont-show\n",
        "\n"
      ],
      "execution_count": null,
      "outputs": [
        {
          "output_type": "stream",
          "name": "stdout",
          "text": [
            "/content/darknet_source\n",
            "--2023-05-11 13:54:00--  https://pjreddie.com/media/files/yolov3.weights\n",
            "Resolving pjreddie.com (pjreddie.com)... 128.208.4.108\n",
            "Connecting to pjreddie.com (pjreddie.com)|128.208.4.108|:443... connected.\n",
            "HTTP request sent, awaiting response... 200 OK\n",
            "Length: 248007048 (237M) [application/octet-stream]\n",
            "Saving to: ‘yolov3.weights.1’\n",
            "\n",
            "yolov3.weights.1    100%[===================>] 236.52M  20.9MB/s    in 12s     \n",
            "\n",
            "2023-05-11 13:54:13 (19.6 MB/s) - ‘yolov3.weights.1’ saved [248007048/248007048]\n",
            "\n",
            "/bin/bash: /content/darknet: No such file or directory\n"
          ]
        }
      ]
    },
    {
      "cell_type": "code",
      "metadata": {
        "id": "zdwfDwGMRiXv",
        "outputId": "f41a091f-35bf-4733-9243-6e2de74df30b",
        "colab": {
          "base_uri": "https://localhost:8080/",
          "height": 323
        }
      },
      "source": [
        "import cv2\n",
        "from google.colab.patches import cv2_imshow\n",
        "img = cv2.imread('predictions.jpg', cv2.IMREAD_UNCHANGED)\n",
        "cv2_imshow(img)"
      ],
      "execution_count": null,
      "outputs": [
        {
          "output_type": "error",
          "ename": "AttributeError",
          "evalue": "ignored",
          "traceback": [
            "\u001b[0;31m---------------------------------------------------------------------------\u001b[0m",
            "\u001b[0;31mAttributeError\u001b[0m                            Traceback (most recent call last)",
            "\u001b[0;32m<ipython-input-9-15d16023b24e>\u001b[0m in \u001b[0;36m<cell line: 4>\u001b[0;34m()\u001b[0m\n\u001b[1;32m      2\u001b[0m \u001b[0;32mfrom\u001b[0m \u001b[0mgoogle\u001b[0m\u001b[0;34m.\u001b[0m\u001b[0mcolab\u001b[0m\u001b[0;34m.\u001b[0m\u001b[0mpatches\u001b[0m \u001b[0;32mimport\u001b[0m \u001b[0mcv2_imshow\u001b[0m\u001b[0;34m\u001b[0m\u001b[0;34m\u001b[0m\u001b[0m\n\u001b[1;32m      3\u001b[0m \u001b[0mimg\u001b[0m \u001b[0;34m=\u001b[0m \u001b[0mcv2\u001b[0m\u001b[0;34m.\u001b[0m\u001b[0mimread\u001b[0m\u001b[0;34m(\u001b[0m\u001b[0;34m'predictions.jpg'\u001b[0m\u001b[0;34m,\u001b[0m \u001b[0mcv2\u001b[0m\u001b[0;34m.\u001b[0m\u001b[0mIMREAD_UNCHANGED\u001b[0m\u001b[0;34m)\u001b[0m\u001b[0;34m\u001b[0m\u001b[0;34m\u001b[0m\u001b[0m\n\u001b[0;32m----> 4\u001b[0;31m \u001b[0mcv2_imshow\u001b[0m\u001b[0;34m(\u001b[0m\u001b[0mimg\u001b[0m\u001b[0;34m)\u001b[0m\u001b[0;34m\u001b[0m\u001b[0;34m\u001b[0m\u001b[0m\n\u001b[0m",
            "\u001b[0;32m/usr/local/lib/python3.10/dist-packages/google/colab/patches/__init__.py\u001b[0m in \u001b[0;36mcv2_imshow\u001b[0;34m(a)\u001b[0m\n\u001b[1;32m     16\u001b[0m       \u001b[0;34m(\u001b[0m\u001b[0mN\u001b[0m\u001b[0;34m,\u001b[0m \u001b[0mM\u001b[0m\u001b[0;34m,\u001b[0m \u001b[0;36m4\u001b[0m\u001b[0;34m)\u001b[0m \u001b[0;32mis\u001b[0m \u001b[0man\u001b[0m \u001b[0mNxM\u001b[0m \u001b[0mBGRA\u001b[0m \u001b[0mcolor\u001b[0m \u001b[0mimage\u001b[0m\u001b[0;34m.\u001b[0m\u001b[0;34m\u001b[0m\u001b[0;34m\u001b[0m\u001b[0m\n\u001b[1;32m     17\u001b[0m   \"\"\"\n\u001b[0;32m---> 18\u001b[0;31m   \u001b[0ma\u001b[0m \u001b[0;34m=\u001b[0m \u001b[0ma\u001b[0m\u001b[0;34m.\u001b[0m\u001b[0mclip\u001b[0m\u001b[0;34m(\u001b[0m\u001b[0;36m0\u001b[0m\u001b[0;34m,\u001b[0m \u001b[0;36m255\u001b[0m\u001b[0;34m)\u001b[0m\u001b[0;34m.\u001b[0m\u001b[0mastype\u001b[0m\u001b[0;34m(\u001b[0m\u001b[0;34m'uint8'\u001b[0m\u001b[0;34m)\u001b[0m\u001b[0;34m\u001b[0m\u001b[0;34m\u001b[0m\u001b[0m\n\u001b[0m\u001b[1;32m     19\u001b[0m   \u001b[0;31m# cv2 stores colors as BGR; convert to RGB\u001b[0m\u001b[0;34m\u001b[0m\u001b[0;34m\u001b[0m\u001b[0m\n\u001b[1;32m     20\u001b[0m   \u001b[0;32mif\u001b[0m \u001b[0ma\u001b[0m\u001b[0;34m.\u001b[0m\u001b[0mndim\u001b[0m \u001b[0;34m==\u001b[0m \u001b[0;36m3\u001b[0m\u001b[0;34m:\u001b[0m\u001b[0;34m\u001b[0m\u001b[0;34m\u001b[0m\u001b[0m\n",
            "\u001b[0;31mAttributeError\u001b[0m: 'NoneType' object has no attribute 'clip'"
          ]
        }
      ]
    }
  ]
}