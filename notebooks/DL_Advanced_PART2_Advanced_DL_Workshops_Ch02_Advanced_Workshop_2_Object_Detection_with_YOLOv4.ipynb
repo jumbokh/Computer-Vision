{
  "cells": [
    {
      "cell_type": "markdown",
      "metadata": {
        "id": "view-in-github",
        "colab_type": "text"
      },
      "source": [
        "<a href=\"https://colab.research.google.com/github/jumbokh/Computer-Vision/blob/main/notebooks/DL_Advanced_PART2_Advanced_DL_Workshops_Ch02_Advanced_Workshop_2_Object_Detection_with_YOLOv4.ipynb\" target=\"_parent\"><img src=\"https://colab.research.google.com/assets/colab-badge.svg\" alt=\"Open In Colab\"/></a>"
      ]
    },
    {
      "cell_type": "markdown",
      "metadata": {
        "id": "QVNfG2y1AqnD"
      },
      "source": [
        "---------------------------------\n",
        "## < Deep Learning - Advanced Topics >\n",
        "#  PART 2 Advanced Deep Learning Workshops - Ch 2\n",
        "#   [Advanced Workshop 2] :  Object Detection with YOLOv4\n",
        "2021/11/01\n",
        "\n",
        "**[ Reference ]:**\n",
        "\n",
        "\n",
        "> 1. YouTube: TED - **`How computers learn to recognize objects instantly | Joseph Redmon`**, 2017/08/18. https://youtu.be/Cgxsv1riJhI\n",
        ">\n",
        ">   + [**Joseph Chet Redmon**](https://pjreddie.com/)\n",
        ">      + **`darknet`** - https://pjreddie.com/darknet/\n",
        ">      + **`YOLO: Real-Time Object Detection`** - https://pjreddie.com/darknet/yolo/\n",
        "\n",
        "\n",
        "+ **[YOLOv4] - Paper & News**\n",
        "\n",
        "> 2. Alexey Bochkovskiy, Chien-Yao Wang, and Hong-Yuan Mark Liao, **`YOLOv4: Optimal Speed and Accuracy of Object Detection`**, 2020/04/23. https://arxiv.org/abs/2004.10934\n",
        ">\n",
        "> 3. 中央研究院 - 研之有物 - **一眼揪出你有沒有超速！世界第一物件偵測技術： YOLOv4**,\n",
        "https://research.sinica.edu.tw/yolov4-hong-yuan-mark-liao/\n",
        ">\n",
        "> 4. 台灣人工智慧學校 - **YOLOv4 產業應用心得整理 - 張家銘**, 2021/06/05.\n",
        "https://aiacademy.tw/yolo-v4-intro/\n",
        "\n",
        "\n",
        "+ **[YOLOv4] - Darknet Neural Network Framework**\n",
        "\n",
        "> 5. **[Video]: YouTube - TheCodingBug - \"`Darknet YOLOv4 Object Detection Tutorial for Windows 10 on Images, Videos, and Webcams`\"**, 2020/09/23. https://youtu.be/FE2GBeKuqpc\n",
        ">   + Anaconda: https://www.anaconda.com/products/individual\n",
        ">   + Visual Studio (C++): https://visualstudio.microsoft.com/zh-hant/downloads/\n",
        ">   + CUDA:  https://developer.nvidia.com/cuda-toolkit-archive\n",
        ">   + cuDNN: https://developer.nvidia.com/rdp/cudnn-archive\n",
        ">   + OpenCV\n",
        ">   + YOLOv4: https://github.com/AlexeyAB/darknet\n",
        "\n",
        "\n",
        "+ **[yolo-v4-tf.keras - A simple tf.keras implementation of YOLOv4]**\n",
        "\n",
        "> 6. taipingeric/yolo-v4-tf.keras - **`yolo-v4-tf.keras`**\n",
        ">   + **[Code]:** https://github.com/taipingeric/yolo-v4-tf.keras\n",
        "----------------------------------"
      ]
    },
    {
      "cell_type": "markdown",
      "metadata": {
        "id": "omcOUZB-AqnM"
      },
      "source": [
        "## Run `tf.keras`-Pretrained `YOLOv4` Models"
      ]
    },
    {
      "cell_type": "markdown",
      "metadata": {
        "id": "6zTvLZtSAqnM"
      },
      "source": [
        "### STEP 1 :\n",
        "\n",
        "> Install **`TensorFlow 2.x`**:\n",
        ">\n",
        "> + In **`Anaconda Prompt`**: `pip install tensorflow`\n",
        ">\n",
        ">\n",
        "> + In **`VSCode Terminal`**: `pip install tensorflow`\n",
        "\n",
        "\n",
        "### STEP 2 :\n",
        "\n",
        "> **[ Code Download ]:** https://github.com/taipingeric/yolo-v4-tf.keras\n",
        "\n",
        "> **[Ref 6]:** taipingeric/yolo-v4-tf.keras - **`yolo-v4-tf.keras`**\n"
      ]
    }
  ],
  "metadata": {
    "interpreter": {
      "hash": "c0fed4716e896d7edfcd95b5506327dcbe632b2c277de6de327d0e99852b10f5"
    },
    "kernelspec": {
      "display_name": "Python 3",
      "language": "python",
      "name": "python3"
    },
    "language_info": {
      "codemirror_mode": {
        "name": "ipython",
        "version": 3
      },
      "file_extension": ".py",
      "mimetype": "text/x-python",
      "name": "python",
      "nbconvert_exporter": "python",
      "pygments_lexer": "ipython3",
      "version": "3.8.5"
    },
    "colab": {
      "provenance": [],
      "include_colab_link": true
    }
  },
  "nbformat": 4,
  "nbformat_minor": 0
}