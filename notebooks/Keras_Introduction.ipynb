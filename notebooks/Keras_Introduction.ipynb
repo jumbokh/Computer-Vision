{
  "nbformat": 4,
  "nbformat_minor": 0,
  "metadata": {
    "colab": {
      "provenance": [],
      "include_colab_link": true
    },
    "kernelspec": {
      "display_name": "Python 3",
      "language": "python",
      "name": "python3"
    }
  },
  "cells": [
    {
      "cell_type": "markdown",
      "metadata": {
        "id": "view-in-github",
        "colab_type": "text"
      },
      "source": [
        "<a href=\"https://colab.research.google.com/github/jumbokh/Computer-Vision/blob/main/notebooks/Keras_Introduction.ipynb\" target=\"_parent\"><img src=\"https://colab.research.google.com/assets/colab-badge.svg\" alt=\"Open In Colab\"/></a>"
      ]
    },
    {
      "metadata": {
        "id": "ggBJHZ3Z6E11"
      },
      "cell_type": "markdown",
      "source": [
        "<div id=\"1.1\" style=\"height:40px;width:1000px;opacity:0.8;display:inline-block;background-color:rgba(30,144,255,0.5);\"><h1>Summary</h1>\n",
        "\n",
        "Keras is a high-level neural networks API, written in Python and capable of running on top of either TensorFlow or Theano. It was developed with a focus on enabling fast experimentation. Being able to go from idea to result with the least possible delay is key to doing good research.\n",
        "\n",
        "If you’ve used scikit-learn then you should be on familiar ground as the library was developed with a similar philosophy.\n",
        "\n",
        "- Can use either theano or tensorflow as a back-end. For the most part, you just need to set it up and then interact with it using keras. Ordering of dimensions can be different though.\n",
        "- Models can be instantiated using the Sequential() class.\n",
        "- Neural networks are built up from bottom layer to top using the add() method.\n",
        "- Lots of recipes to follow and many examples for problems in natural language processing and image classification.\n",
        "\n",
        "To install, just use commands like:\n",
        "\n",
        "    pip install --user tensorflow\n",
        "    pip install --user keras"
      ]
    },
    {
      "metadata": {
        "id": "vAzCBQJn6E13"
      },
      "cell_type": "markdown",
      "source": [
        "<div id=\"1.1\" style=\"height:40px;width:1000px;opacity:0.8;display:inline-block;background-color:rgba(30,144,255,0.5);\"><h1>(2) Introduction to Keras</h1>"
      ]
    },
    {
      "metadata": {
        "id": "78H3fQ886E14"
      },
      "cell_type": "markdown",
      "source": [
        "Keras is an open source neural network library written in Python. It is capable of running on top of Deeplearning4j, Tensorflow or Theano.  It is designed to enable fast experimentation with deep neural networks, focusing on being minimal, modular and extensible. It was developed as part of the research effort of project ONEIROS (Open-ended Neuro-Electronic Intelligent Robot Operating System),and its primary author and maintainer is François Chollet, a Google engineer (taken from Wikipedia)\n"
      ]
    },
    {
      "metadata": {
        "id": "20BPq1HK6E14"
      },
      "cell_type": "code",
      "source": [
        "import theano\n",
        "from theano import tensor\n",
        "a = tensor.dscalar()\n",
        "b = tensor.dscalar()\n",
        "c = a + b\n",
        "f = theano.function([a,b], c)\n",
        "result = f(1.5, 2.5)\n",
        "print(result)"
      ],
      "execution_count": null,
      "outputs": []
    },
    {
      "metadata": {
        "id": "hDDIhD4Y6E1-"
      },
      "cell_type": "markdown",
      "source": [
        "\n",
        "\n",
        "### (2.2) Sidetrack:TensorFlow ###\n",
        "\n",
        "TensorFlow is a Python library for fast numerical computing created and released by Google.  It is Google Brain's second generation machine learning system, released as open source software on November 9, 2015. While the reference implementation runs on single devices, TensorFlow can run on multiple CPUs and GPUs (with optional CUDA extensions for general-purpose computing on graphics processing units).  TensorFlow is available on 64-bit Linux, macOS, and mobile computing platforms including Android and iOS (taken from Wikipedia).  Check out https://www.tensorflow.org/ for documentation and downloads for TensorFlow.\n",
        "\n",
        "TensorFlow computations are expressed as stateful dataflow graphs. The name TensorFlow derives from the operations which such neural networks perform on multidimensional data arrays. These multidimensional arrays are referred to as \"tensors\".  Computation is described in terms of data flow and operations in the structure of a directed graph.\n",
        "\n",
        "- Nodes: Nodes perform computation and have zero or more inputs and outputs. Data that moves between nodes are known as tensors, which are multi-dimensional arrays of real values.\n",
        "- Edges: The graph defines the flow of data, branching, looping and updates to state. Special edges can be used to synchronize behavior within the graph, for example waiting for computation on a number of inputs to complete.\n",
        "- Operations: An operation is a named abstract computation which can take input attributes and produce output attributes. For example, you could define an add or multiply operation.\n",
        "\n",
        "Let's take a look at a TensorFlow program:"
      ]
    },
    {
      "metadata": {
        "id": "G85MOHCv6E1-",
        "outputId": "e8337908-feb6-4d83-8600-f8ca2d2b7949"
      },
      "cell_type": "code",
      "source": [
        "import tensorflow as tf\n",
        "a = tf.placeholder(tf.float32)\n",
        "b = tf.placeholder(tf.float32)\n",
        "add = tf.add(a,b)\n",
        "session = tf.Session()\n",
        "c = session.run(add, feed_dict={a: 1.5, b: 2.5})\n",
        "print(c)"
      ],
      "execution_count": null,
      "outputs": [
        {
          "output_type": "stream",
          "text": [
            "4.0\n"
          ],
          "name": "stdout"
        }
      ]
    },
    {
      "metadata": {
        "id": "a7aNMRJ66E2C"
      },
      "cell_type": "markdown",
      "source": [
        "Looks a bit scary?  Well, this is where Keras comes in with its simple syntax.  Go to https://keras.io/ for documentation and downloads, so you can install Keras.\n",
        "\n",
        "\n",
        "### (2.3) What is Keras? ###\n",
        "\n",
        "The focus of Keras is the idea of a model. The main type of model is a sequence of layers called a Sequential which is a linear stack of layers. You create a Sequential and add layers to it in the order that you wish for the computation to be performed. Once defined, you compile the model which makes use of the underlying framework to optimize the computation to be performed by your model. In this you can specify the loss function and the optimizer to be used.\n",
        "Once compiled, the model must be fit to data. This can be done one batch of data at a time or by firing off the entire model training regime. This is where all the compute happens. Once trained, you can use your model to make predictions on new data. We can summarize the construction of deep learning models in Keras as follows:\n",
        "\n",
        "1. Define your model. Create a Sequential model and add configured layers.\n",
        "2. Compile your model. Specify loss function and optimizers and call the *compile()*\n",
        "function on the model.\n",
        "3. Fit your model. Train the model on a sample of data by calling the *fit()* function on the model.\n",
        "4. Make predictions. Use the model to generate predictions on new data by calling functions such as *evaluate()* or *predict()* on the model."
      ]
    },
    {
      "metadata": {
        "id": "SBh_jdXL6E2C"
      },
      "cell_type": "markdown",
      "source": [
        "<div id=\"1.1\" style=\"height:40px;width:1000px;opacity:0.8;display:inline-block;background-color:rgba(30,144,255,0.5);\"><h1>(3) Keras Example</h1>"
      ]
    },
    {
      "metadata": {
        "id": "NnLwv4Rp6E2D"
      },
      "cell_type": "markdown",
      "source": [
        "In this example (from https://machinelearningmastery.com/tutorial-first-neural-network-python-keras/), we are going to use the Pima Indians onset of diabetes dataset. This is a standard machine learning dataset from the UCI Machine Learning repository. It describes patient medical record data for Pima Indians and whether they had an onset of diabetes within five years. As such, it is a binary classification problem (onset of diabetes as 1 or not as 0). All of the input variables that describe each patient are numerical:\n",
        "\n",
        "1. Number of times pregnant.\n",
        "2. Plasma glucose concentration a 2 hours in an oral glucose tolerance test.\n",
        "3. Diastolic blood pressure (mm Hg).\n",
        "4. Triceps skin fold thickness (mm).\n",
        "5. 2-Hour serum insulin (mu U/ml).\n",
        "6. Body mass index.\n",
        "7. Diabetes pedigree function.\n",
        "8. Age (years).\n",
        "9. Class, onset of diabetes within five years.\n",
        "\n",
        "The data are already numerical, so it makes it easy to use the dataset directly with neural networks that expect numerical input and output values, and ideal for our first neural network in Keras.\n",
        "\n",
        "Before the next step in the notebook, download the Pima Indian dataset from the UCI Machine Learning repository and place it in your local working directory, the same as your python file (this Jupyter notebook). Save it with the file name: pima-indians-diabetes.csv.  You will also find a copy of this file in our Google Drive folder for Keras.\n",
        "\n",
        "You can now load the file directly using the NumPy function loadtxt(). There are eight input variables and one output variable (the last column). Once loaded we can split the dataset into input variables (X) and the output class variable (Y)."
      ]
    },
    {
      "metadata": {
        "id": "mHSaPzD1e3pB"
      },
      "cell_type": "code",
      "source": [
        "\n",
        "! pip install pydrive"
      ],
      "execution_count": null,
      "outputs": []
    },
    {
      "metadata": {
        "id": "36OdV3tCiqd2"
      },
      "cell_type": "code",
      "source": [
        "from pydrive.auth import GoogleAuth\n",
        "from pydrive.drive import GoogleDrive\n",
        "from google.colab import auth\n",
        "from oauth2client.client import GoogleCredentials\n",
        "\n",
        "# 1. Authenticate and create the PyDrive client.\n",
        "auth.authenticate_user()\n",
        "gauth = GoogleAuth()\n",
        "gauth.credentials = GoogleCredentials.get_application_default()\n",
        "drive = GoogleDrive(gauth)\n",
        "file_id = '1nF3h_IoeUpweV7-LGxd9dIfPkV89rf8q'\n",
        "downloaded = drive.CreateFile({'id': file_id})\n",
        "# allows you to temporarily load your file in the notebook VM\n",
        "\n",
        "# assume the file is called file.csv and it's located at the root of your drive\n",
        "downloaded.GetContentFile('pima-indians-diabetes.csv')"
      ],
      "execution_count": null,
      "outputs": []
    },
    {
      "metadata": {
        "id": "iM68fH1K6E2E"
      },
      "cell_type": "code",
      "source": [
        "import numpy as np\n",
        "dataset = np.loadtxt(\"pima-indians-diabetes.csv\", delimiter=\",\")\n",
        "# split into input (X) and output (Y) variables\n",
        "X = dataset[:,0:8]\n",
        "Y = dataset[:,8]"
      ],
      "execution_count": null,
      "outputs": []
    },
    {
      "metadata": {
        "id": "rv-O5eAC6E2F",
        "outputId": "d5c50a18-e8a2-439d-ad90-13da391af1d9",
        "colab": {
          "base_uri": "https://localhost:8080/",
          "height": 51
        }
      },
      "cell_type": "code",
      "source": [
        "dataset[1,:]"
      ],
      "execution_count": null,
      "outputs": [
        {
          "output_type": "execute_result",
          "data": {
            "text/plain": [
              "array([ 1.   , 85.   , 66.   , 29.   ,  0.   , 26.6  ,  0.351, 31.   ,\n",
              "        0.   ])"
            ]
          },
          "metadata": {
            "tags": []
          },
          "execution_count": 5
        }
      ]
    },
    {
      "metadata": {
        "id": "e2d-3AHS6E2J"
      },
      "cell_type": "markdown",
      "source": [
        "Models in Keras are defined as a sequence of layers. We create a Sequential model and add layers one at a time until we are happy with our network topology. The first thing to get right is to ensure the input layer has the right number of inputs. This can be specified when creating the first layer with the input dim argument and setting it to 8 for the 8 input variables.\n",
        "\n",
        "Fully connected layers are defined using the Dense class. We can specify the number of neurons in the layer as the first argument, the initialization method as the second argument as init and specify the activation function using the activation argument. In this case we initialize the network weights to a small random number generated from a\n",
        "uniform distribution, in this case between 0 and 0.05 because that is the default uniform weight initialization in Keras.\n",
        "\n",
        "We will use the rectifier (relu) activation function on the first two layers and the sigmoid activation function in the output layer. See https://en.wikipedia.org/wiki/Rectifier_(neural_networks) to learn more.\n",
        "\n",
        "So, the first hidden layer has 12 neurons and expects 8 input variables. The second hidden layer has 8 neurons and finally the output layer has 1 neuron to predict the class\n",
        "(onset of diabetes or not)."
      ]
    },
    {
      "metadata": {
        "id": "ka1kF0nq6E2J",
        "outputId": "c38ba6c5-43d1-4c57-9854-6c4bfca34a3f",
        "colab": {
          "base_uri": "https://localhost:8080/",
          "height": 34
        }
      },
      "cell_type": "code",
      "source": [
        "from keras.models import Sequential\n",
        "from keras.layers import Dense\n",
        "# create model\n",
        "model = Sequential()\n",
        "model.add(Dense(12, input_dim=8, activation='relu'))\n",
        "model.add(Dense(8, activation='relu'))\n",
        "model.add(Dense(1, activation='sigmoid'))"
      ],
      "execution_count": null,
      "outputs": [
        {
          "output_type": "stream",
          "text": [
            "Using TensorFlow backend.\n"
          ],
          "name": "stderr"
        }
      ]
    },
    {
      "metadata": {
        "id": "TMDGMo_r6E2L"
      },
      "cell_type": "markdown",
      "source": [
        "Now that the model is defined, we can compile it.  This is where the \"translation\" happens for Theano or Tensorflow, and you don't need to worry how it is implemented in these \"backend\" systems.  Nice!\n",
        "\n",
        "We're definining pretty standard loss functions (how you measure the \"goodness of fit\"), I am using Simple Gradient Descent (SGD) as the optimiser, and I want to report accuracy as we optimize"
      ]
    },
    {
      "metadata": {
        "id": "33uZCnth6E2N"
      },
      "cell_type": "code",
      "source": [
        "  model.compile(loss='binary_crossentropy', optimizer='sgd', metrics=['accuracy'])"
      ],
      "execution_count": null,
      "outputs": []
    },
    {
      "metadata": {
        "id": "V3FC7J6n6E2O"
      },
      "cell_type": "markdown",
      "source": [
        "Want to know more about the loss function?  Well, take a look at the following:\n",
        "\n",
        "https://stats.stackexchange.com/questions/260505/machine-learning-should-i-use-a-categorical-cross-entropy-or-binary-cross-entro#260537\n",
        "\n",
        "..and you'll see why we're not covering it in this talk.\n",
        "\n",
        "Now we are ready to train our model.  We'll run 20 times over the training dataset (20 \"epochs\") and we will update the weights inside the neural network not with every training example, but instead in batches of 10.  Batches like this make for more stable optimisations, as they average out \"strange\" training points with more \"normal\" ones.  If you don't want to see the output for each epoch,  put \"verbose=0\" in the command."
      ]
    },
    {
      "metadata": {
        "id": "AzsfdCGI6E2Q",
        "outputId": "03b0a943-2e01-47b1-e795-78f3afe51c7a",
        "colab": {
          "base_uri": "https://localhost:8080/",
          "height": 714
        }
      },
      "cell_type": "code",
      "source": [
        "model.fit(X, Y, epochs=20, batch_size=10)"
      ],
      "execution_count": null,
      "outputs": [
        {
          "output_type": "stream",
          "text": [
            "Epoch 1/20\n",
            "768/768 [==============================] - 0s 255us/step - loss: 10.3792 - acc: 0.3490\n",
            "Epoch 2/20\n",
            "768/768 [==============================] - 0s 124us/step - loss: 10.3792 - acc: 0.3490\n",
            "Epoch 3/20\n",
            "768/768 [==============================] - 0s 117us/step - loss: 10.3792 - acc: 0.3490\n",
            "Epoch 4/20\n",
            "768/768 [==============================] - 0s 112us/step - loss: 10.3792 - acc: 0.3490\n",
            "Epoch 5/20\n",
            "768/768 [==============================] - 0s 128us/step - loss: 10.3792 - acc: 0.3490\n",
            "Epoch 6/20\n",
            "768/768 [==============================] - 0s 115us/step - loss: 10.3792 - acc: 0.3490\n",
            "Epoch 7/20\n",
            "768/768 [==============================] - 0s 116us/step - loss: 10.3792 - acc: 0.3490\n",
            "Epoch 8/20\n",
            "768/768 [==============================] - 0s 126us/step - loss: 10.3792 - acc: 0.3490\n",
            "Epoch 9/20\n",
            "768/768 [==============================] - 0s 114us/step - loss: 10.3792 - acc: 0.3490\n",
            "Epoch 10/20\n",
            "768/768 [==============================] - 0s 125us/step - loss: 10.3792 - acc: 0.3490\n",
            "Epoch 11/20\n",
            "768/768 [==============================] - 0s 116us/step - loss: 10.3792 - acc: 0.3490\n",
            "Epoch 12/20\n",
            "768/768 [==============================] - 0s 117us/step - loss: 10.3792 - acc: 0.3490\n",
            "Epoch 13/20\n",
            "768/768 [==============================] - 0s 128us/step - loss: 10.3792 - acc: 0.3490\n",
            "Epoch 14/20\n",
            "768/768 [==============================] - 0s 115us/step - loss: 10.3792 - acc: 0.3490\n",
            "Epoch 15/20\n",
            "768/768 [==============================] - 0s 123us/step - loss: 10.3792 - acc: 0.3490\n",
            "Epoch 16/20\n",
            "768/768 [==============================] - 0s 120us/step - loss: 10.3792 - acc: 0.3490\n",
            "Epoch 17/20\n",
            "768/768 [==============================] - 0s 113us/step - loss: 10.3792 - acc: 0.3490\n",
            "Epoch 18/20\n",
            "768/768 [==============================] - 0s 126us/step - loss: 10.3792 - acc: 0.3490\n",
            "Epoch 19/20\n",
            "768/768 [==============================] - 0s 115us/step - loss: 10.3792 - acc: 0.3490\n",
            "Epoch 20/20\n",
            "768/768 [==============================] - 0s 124us/step - loss: 10.3792 - acc: 0.3490\n"
          ],
          "name": "stdout"
        },
        {
          "output_type": "execute_result",
          "data": {
            "text/plain": [
              "<keras.callbacks.History at 0x7f56e7843550>"
            ]
          },
          "metadata": {
            "tags": []
          },
          "execution_count": 8
        }
      ]
    },
    {
      "metadata": {
        "id": "J-TviFvs6E2S"
      },
      "cell_type": "markdown",
      "source": [
        "Normally we'd split the data set up into training and testing. Here we didn't, as this was just our first go at a neural network.  Depending on your run, you will end up with different accuracies each time for this example.  "
      ]
    },
    {
      "metadata": {
        "id": "vwsTKTe-6E2T",
        "outputId": "13916c80-5dd5-473c-81cd-e957806e0d09",
        "colab": {
          "base_uri": "https://localhost:8080/",
          "height": 68
        }
      },
      "cell_type": "code",
      "source": [
        "scores = model.evaluate(X, Y)\n",
        "print(\"\\n%s: %.2f%%\" % (model.metrics_names[1], scores[1]*100))"
      ],
      "execution_count": null,
      "outputs": [
        {
          "output_type": "stream",
          "text": [
            "768/768 [==============================] - 0s 62us/step\n",
            "\n",
            "acc: 34.90%\n"
          ],
          "name": "stdout"
        }
      ]
    },
    {
      "metadata": {
        "id": "0WFPlc4I6E2Y"
      },
      "cell_type": "markdown",
      "source": [
        "OK, let's redo this and build training/testing data sets (note that I do not need to rebuild the model, but I am going to so we can see the learning process in the charts below!).  Note also how I switch the history on:"
      ]
    },
    {
      "metadata": {
        "id": "7chsl3Vs6E2Z",
        "outputId": "2311d337-a7f6-4563-d6af-042b74335b8a",
        "colab": {
          "base_uri": "https://localhost:8080/",
          "height": 34
        }
      },
      "cell_type": "code",
      "source": [
        "from sklearn.model_selection import train_test_split\n",
        "from keras.callbacks import History\n",
        "history = History()\n",
        "\n",
        "model_new = Sequential()\n",
        "model_new.add(Dense(12, input_dim=8, activation='relu'))\n",
        "model_new.add(Dense(8, activation='relu'))\n",
        "model_new.add(Dense(1, activation='sigmoid'))\n",
        "model_new.compile(loss='binary_crossentropy', optimizer='sgd', metrics=['accuracy'])\n",
        "\n",
        "X_train, X_test, y_train, y_test = train_test_split(X, Y, test_size=0.20)\n",
        "model_new.fit(X_train, y_train, validation_data=(X_test,y_test), epochs=30, batch_size=10, verbose=0, callbacks=[history])\n",
        "scores = model_new.evaluate(X_test, y_test, verbose=0)\n",
        "print(\"%s: %.2f%%\" % (model_new.metrics_names[1], scores[1]*100))"
      ],
      "execution_count": null,
      "outputs": [
        {
          "output_type": "stream",
          "text": [
            "acc: 60.39%\n"
          ],
          "name": "stdout"
        }
      ]
    },
    {
      "metadata": {
        "id": "F-Vh23IF6E2c"
      },
      "cell_type": "markdown",
      "source": [
        "The accuracy you find on the test set should be a little worse than the one we calculated before when we used all the data for training (and evaluation)."
      ]
    },
    {
      "metadata": {
        "id": "84JcdqEP6E2d",
        "outputId": "9396b452-82c5-4135-e7ce-354281ff2ea2",
        "colab": {
          "base_uri": "https://localhost:8080/",
          "height": 34
        }
      },
      "cell_type": "code",
      "source": [
        "print(history.history.keys())"
      ],
      "execution_count": null,
      "outputs": [
        {
          "output_type": "stream",
          "text": [
            "dict_keys(['val_loss', 'val_acc', 'loss', 'acc'])\n"
          ],
          "name": "stdout"
        }
      ]
    },
    {
      "metadata": {
        "id": "QGzS0E3S6E2f",
        "outputId": "c0f29cb3-e2b0-4ec7-f8bf-39db12c8e71c",
        "colab": {
          "base_uri": "https://localhost:8080/",
          "height": 294
        }
      },
      "cell_type": "code",
      "source": [
        "%matplotlib inline\n",
        "# summarize history for accuracy\n",
        "import matplotlib.pyplot as plt\n",
        "plt.plot(history.history[\"acc\"], label='acc')\n",
        "plt.plot(history.history[\"val_acc\"], label='val_acc')\n",
        "plt.title(\"Model accuracy\")\n",
        "plt.ylabel(\"Accuracy\")\n",
        "plt.xlabel(\"Epoch\")\n",
        "plt.legend()\n",
        "plt.show()"
      ],
      "execution_count": null,
      "outputs": [
        {
          "output_type": "display_data",
          "data": {
            "image/png": "[encoded data removed]",
            "text/plain": [
              "<matplotlib.figure.Figure at 0x7f56fdf06748>"
            ]
          },
          "metadata": {
            "tags": []
          }
        }
      ]
    },
    {
      "metadata": {
        "id": "i8ZcDM_K6E2h"
      },
      "cell_type": "markdown",
      "source": [
        "<div id=\"1.1\" style=\"height:40px;width:1000px;opacity:0.8;display:inline-block;background-color:rgba(30,144,255,0.5);\"><h1>(4) Another Keras Example</h1>\n",
        "\n",
        "Here is another example, taken from https://sempwn.github.io/blog/2017/03/24/keras_basic_intro\n",
        "\n",
        "The data have a binary class (0 or 1), with two input dimensions x and y and is visualized above. In order to correctly classify the data the neural network will need to successfully separate out the zig-zag shape that intersects where the two classes meet."
      ]
    },
    {
      "metadata": {
        "id": "so06rKgv6E2i",
        "outputId": "cee671a2-6738-4877-b387-d959acb17304",
        "colab": {
          "base_uri": "https://localhost:8080/",
          "height": 311
        }
      },
      "cell_type": "code",
      "source": [
        "%pylab inline\n",
        "from sklearn.datasets import make_moons\n",
        "from sklearn.preprocessing import scale\n",
        "from sklearn.model_selection import train_test_split\n",
        "X, Y = make_moons(noise=0.2, random_state=0, n_samples=1000)\n",
        "X = scale(X)\n",
        "X_train, X_test, Y_train, Y_test = train_test_split(X, Y, test_size=.5)\n",
        "fig, ax = plt.subplots()\n",
        "ax.scatter(X[Y==0, 0], X[Y==0, 1], label='Class 0')\n",
        "ax.scatter(X[Y==1, 0], X[Y==1, 1], color='r', label='Class 1')\n",
        "ax.legend()\n",
        "ax.set(xlabel='X', ylabel='Y', title='Toy binary classification data set');"
      ],
      "execution_count": null,
      "outputs": [
        {
          "output_type": "stream",
          "text": [
            "Populating the interactive namespace from numpy and matplotlib\n"
          ],
          "name": "stdout"
        },
        {
          "output_type": "display_data",
          "data": {
            "image/png": "[encoded data removed]",
            "text/plain": [
              "<matplotlib.figure.Figure at 0x7f56d9b584a8>"
            ]
          },
          "metadata": {
            "tags": []
          }
        }
      ]
    },
    {
      "metadata": {
        "id": "EcobSrms6E2l"
      },
      "cell_type": "markdown",
      "source": [
        "We’ll create a simple multi-layer perceptron with one hidden layer. This is done in Keras by first defining a Sequential class object. Layers are then added from the initial layer, which includes the data, hence we need to specify the number of input dimensions using the keyword input_dim. We also define the activation of this layer to be a rectified linear unit or relu. Finally a densely connected layer is added with one output and a sigmoid activation corresponding to the binary class"
      ]
    },
    {
      "metadata": {
        "id": "AS657HxQ6E2m"
      },
      "cell_type": "code",
      "source": [
        "from keras.models import Sequential # Just incase you run from this cell and not using the previous example\n",
        "from keras.layers import Dense\n",
        "from keras.callbacks import History\n",
        "\n",
        "model = Sequential()\n",
        "model.add(Dense(32, input_dim=2,activation='relu')) #X,Y input dimensions. connecting to 32 neurons with relu activation\n",
        "model.add(Dense(1, activation='sigmoid')) #binary classification so one output\n",
        "model.compile(optimizer='AdaDelta', loss='binary_crossentropy', metrics=['accuracy'])"
      ],
      "execution_count": null,
      "outputs": []
    },
    {
      "metadata": {
        "id": "rZ9R-e7l6E2o",
        "outputId": "70346991-e1b1-4055-82aa-0a99fb5fe58e",
        "colab": {
          "base_uri": "https://localhost:8080/",
          "height": 204
        }
      },
      "cell_type": "code",
      "source": [
        "model.summary()"
      ],
      "execution_count": null,
      "outputs": [
        {
          "output_type": "stream",
          "text": [
            "_________________________________________________________________\n",
            "Layer (type)                 Output Shape              Param #   \n",
            "=================================================================\n",
            "dense_7 (Dense)              (None, 32)                96        \n",
            "_________________________________________________________________\n",
            "dense_8 (Dense)              (None, 1)                 33        \n",
            "=================================================================\n",
            "Total params: 129\n",
            "Trainable params: 129\n",
            "Non-trainable params: 0\n",
            "_________________________________________________________________\n"
          ],
          "name": "stdout"
        }
      ]
    },
    {
      "metadata": {
        "id": "6sGrF20y6E2r",
        "outputId": "cb2b666e-1c0d-4b17-9c79-fce55b4d47c3",
        "colab": {
          "base_uri": "https://localhost:8080/",
          "height": 34
        }
      },
      "cell_type": "code",
      "source": [
        "history = History()\n",
        "model.reset_states()\n",
        "model.fit(X_train, Y_train, batch_size=32, epochs=200, verbose=0, validation_data=(X_test, Y_test), callbacks=[history])"
      ],
      "execution_count": null,
      "outputs": [
        {
          "output_type": "execute_result",
          "data": {
            "text/plain": [
              "<keras.callbacks.History at 0x7f56d9150be0>"
            ]
          },
          "metadata": {
            "tags": []
          },
          "execution_count": 16
        }
      ]
    },
    {
      "metadata": {
        "id": "Pr6bUnDU6E2u",
        "outputId": "0f63b3ed-ba59-47d0-baaa-07bca38b7d03",
        "colab": {
          "base_uri": "https://localhost:8080/",
          "height": 297
        }
      },
      "cell_type": "code",
      "source": [
        "# plot loss function\n",
        "plt.subplot(211)\n",
        "plt.title(\"accuracy\")\n",
        "plt.plot(history.history[\"acc\"], color=\"r\", label=\"train\")\n",
        "plt.plot(history.history[\"val_acc\"], color=\"b\", label=\"validation\")\n",
        "plt.legend(loc=\"best\")\n",
        "\n",
        "plt.subplot(212)\n",
        "plt.title(\"loss\")\n",
        "plt.plot(history.history[\"loss\"], color=\"r\", label=\"train\")\n",
        "plt.plot(history.history[\"val_loss\"], color=\"b\", label=\"validation\")\n",
        "plt.legend(loc=\"best\")\n",
        "\n",
        "plt.tight_layout()\n",
        "plt.show()"
      ],
      "execution_count": null,
      "outputs": [
        {
          "output_type": "display_data",
          "data": {
            "image/png": "[encoded data removed]",
            "text/plain": [
              "<matplotlib.figure.Figure at 0x7f56dbe731d0>"
            ]
          },
          "metadata": {
            "tags": []
          }
        }
      ]
    },
    {
      "metadata": {
        "id": "z8kcv9GI6E2y"
      },
      "cell_type": "markdown",
      "source": [
        "We can create a grid of (x,y) values and then predict the class probability on each of these values using our fitted model. We’ll then plot the original data with the underlying probabilities to see what the classification looks like and how it compares to the data"
      ]
    },
    {
      "metadata": {
        "id": "6C_krwkW6E22",
        "outputId": "93639b7b-1dc2-4428-e060-1423ad476580",
        "colab": {
          "base_uri": "https://localhost:8080/",
          "height": 378
        }
      },
      "cell_type": "code",
      "source": [
        "grid = np.mgrid[-3:3:100j,-3:3:100j]\n",
        "grid_2d = grid.reshape(2, -1).T\n",
        "X, Y = grid\n",
        "prediction_probs = model.predict_proba(grid_2d, batch_size=32, verbose=0)\n",
        "fig, ax = plt.subplots(figsize=(10, 6))\n",
        "contour = ax.contourf(X, Y, prediction_probs.reshape(100, 100))\n",
        "ax.scatter(X_test[Y_test==0, 0], X_test[Y_test==0, 1])\n",
        "ax.scatter(X_test[Y_test==1, 0], X_test[Y_test==1, 1], color='r')\n",
        "cbar = plt.colorbar(contour, ax=ax)"
      ],
      "execution_count": null,
      "outputs": [
        {
          "output_type": "display_data",
          "data": {
            "image/png": "[encoded data removed]",
            "text/plain": [
              "<matplotlib.figure.Figure at 0x7f56e7836d30>"
            ]
          },
          "metadata": {
            "tags": []
          }
        }
      ]
    },
    {
      "metadata": {
        "id": "BIGjNqHN6E24"
      },
      "cell_type": "markdown",
      "source": [
        "Not too shabby!"
      ]
    },
    {
      "metadata": {
        "id": "pYORRedM6E29"
      },
      "cell_type": "markdown",
      "source": [
        "<div id=\"1.1\" style=\"height:40px;width:1000px;opacity:0.8;display:inline-block;background-color:rgba(30,144,255,0.5);\"><h1>(6) Next Steps</h1>\n",
        "\n",
        "To experiment more, load the MNIST database of handwritten digits and see if you can beat a standard scikit-learn classifier.  Try it yourself first, but if you get stuck, take a look at [this notebook](https://github.com/wxs/keras-mnist-tutorial/blob/master/MNIST%20in%20Keras.ipynb).\n",
        "\n",
        "Technical and engineering tutorials for your favourite language or library are easy to find, but if you're interested in some of the more conceptual and mathematical background, take a look at:\n",
        " - Introduction to CNN [\"http://cs231n.github.io/convolutional-networks/\"]\n",
        " - Michael Nielsen's online textbook \"[Neural Networks and Deep Learning]\n",
        " (http://neuralnetworksanddeeplearning.com/)\" (especially chapters 1, 2 and 3)\n",
        " - Weeks 4 and 5 of Andrew Ng's Coursera course \"[Machine Learning](https://www.coursera.org/learn/machine-learning)\" (you'll have to sign up for the course to access these materials)\n",
        " - \"[Deep Learning](http://www.nature.com/nature/journal/v521/n7553/abs/nature14539.html)\" by Yan Le Cun et al. in Nature (2015) (you can find a [PDF of this article on Google Scholar](https://scholar.google.com/scholar?cluster=5362332738201102290))\n",
        " - Chris Olah's [wonderful essays](http://colah.github.io/), particularly the ones on [back propagation](http://colah.github.io/posts/2015-08-Backprop/) (the algorithm with which neural networks are trained) and [recurrent neural networks](http://colah.github.io/posts/2015-08-Understanding-LSTMs/).\n",
        "\n",
        "\n",
        "Speaking of recurrent neural networks, Keras also has layers that allow you to build models with:\n",
        "\n",
        " - convolutional layers, which give state-of-the-art results for computer vsion problems;\n",
        " - recurrent layers, which are particularly well suited to modelling language and other sequence data.\n",
        "\n",
        "In fact, one key strength of neural networks (along with sheer predictive power) is their composability. Using a high-level library like Keras, it takes only a few seconds of work to create a very different network. Models can be built up like Lego. Have fun!\n"
      ]
    },
    {
      "metadata": {
        "id": "d2fMc2LgffyU"
      },
      "cell_type": "code",
      "source": [],
      "execution_count": null,
      "outputs": []
    }
  ]
}