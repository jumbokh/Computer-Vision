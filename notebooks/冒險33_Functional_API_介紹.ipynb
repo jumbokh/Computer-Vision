{
  "cells": [
    {
      "cell_type": "code",
      "execution_count": null,
      "metadata": {
        "id": "znASggsBQSPu"
      },
      "outputs": [],
      "source": [
        "from tensorflow.keras.models import Sequential\n",
        "from tensorflow.keras.layers import Dense"
      ]
    },
    {
      "cell_type": "markdown",
      "metadata": {
        "id": "qbesaJSZmyUn"
      },
      "source": [
        "### 1. 回顧Sequential API建置神經網路模型的方式"
      ]
    },
    {
      "cell_type": "code",
      "execution_count": null,
      "metadata": {
        "id": "TSJ32qu0m74Q"
      },
      "outputs": [],
      "source": [
        "model = Sequential()\n",
        "model.add(Dense(500, input_dim=784, activation='relu'))\n",
        "model.add(Dense(500, activation='relu'))\n",
        "model.add(Dense(10, activation='softmax'))"
      ]
    },
    {
      "cell_type": "code",
      "source": [
        "model.summary()"
      ],
      "metadata": {
        "colab": {
          "base_uri": "https://localhost:8080/"
        },
        "id": "iGl61FwtVf7J",
        "outputId": "37436014-e06b-403e-c44d-88f9cfa8ac41"
      },
      "execution_count": null,
      "outputs": [
        {
          "output_type": "stream",
          "name": "stdout",
          "text": [
            "Model: \"sequential\"\n",
            "_________________________________________________________________\n",
            " Layer (type)                Output Shape              Param #   \n",
            "=================================================================\n",
            " dense (Dense)               (None, 500)               392500    \n",
            "                                                                 \n",
            " dense_1 (Dense)             (None, 500)               250500    \n",
            "                                                                 \n",
            " dense_2 (Dense)             (None, 10)                5010      \n",
            "                                                                 \n",
            "=================================================================\n",
            "Total params: 648,010\n",
            "Trainable params: 648,010\n",
            "Non-trainable params: 0\n",
            "_________________________________________________________________\n"
          ]
        }
      ]
    },
    {
      "cell_type": "markdown",
      "source": [
        "### 2. 使用Functional API建置神經網路模型的方式"
      ],
      "metadata": {
        "id": "etqEifM1V28u"
      }
    },
    {
      "cell_type": "code",
      "source": [
        "from tensorflow.keras.models import Model\n",
        "from tensorflow.keras.layers import Input"
      ],
      "metadata": {
        "id": "tHvo5JogV3FQ"
      },
      "execution_count": null,
      "outputs": []
    },
    {
      "cell_type": "code",
      "source": [
        "f1 = Dense(500, activation='relu')\n",
        "f2 = Dense(500, activation='relu')\n",
        "f3 = Dense(10, activation='softmax')"
      ],
      "metadata": {
        "id": "RZiiWpyoVgAk"
      },
      "execution_count": null,
      "outputs": []
    },
    {
      "cell_type": "code",
      "source": [
        "x = Input(shape=(784,))"
      ],
      "metadata": {
        "id": "s6bLjyUsVgBc"
      },
      "execution_count": null,
      "outputs": []
    },
    {
      "cell_type": "code",
      "source": [
        "h1 = f1(x)"
      ],
      "metadata": {
        "id": "ywMtwZFhVgHM"
      },
      "execution_count": null,
      "outputs": []
    },
    {
      "cell_type": "code",
      "execution_count": null,
      "metadata": {
        "id": "Qgelk56xe1Ln"
      },
      "outputs": [],
      "source": [
        "h2 = f2(h1)"
      ]
    },
    {
      "cell_type": "code",
      "source": [
        "y = f3(h2)"
      ],
      "metadata": {
        "id": "PWB-8RbSWJkN"
      },
      "execution_count": null,
      "outputs": []
    },
    {
      "cell_type": "code",
      "source": [
        "new_model = Model(x, y)"
      ],
      "metadata": {
        "id": "IxIdJ8nEWJp5"
      },
      "execution_count": null,
      "outputs": []
    },
    {
      "cell_type": "code",
      "source": [
        "new_model.summary()"
      ],
      "metadata": {
        "colab": {
          "base_uri": "https://localhost:8080/"
        },
        "id": "Rj2pxA3nWJqv",
        "outputId": "fe72deef-3ee9-4da4-8a58-7a81c0dc95a5"
      },
      "execution_count": null,
      "outputs": [
        {
          "output_type": "stream",
          "name": "stdout",
          "text": [
            "Model: \"model\"\n",
            "_________________________________________________________________\n",
            " Layer (type)                Output Shape              Param #   \n",
            "=================================================================\n",
            " input_1 (InputLayer)        [(None, 784)]             0         \n",
            "                                                                 \n",
            " dense_3 (Dense)             (None, 500)               392500    \n",
            "                                                                 \n",
            " dense_4 (Dense)             (None, 500)               250500    \n",
            "                                                                 \n",
            " dense_5 (Dense)             (None, 10)                5010      \n",
            "                                                                 \n",
            "=================================================================\n",
            "Total params: 648,010\n",
            "Trainable params: 648,010\n",
            "Non-trainable params: 0\n",
            "_________________________________________________________________\n"
          ]
        }
      ]
    },
    {
      "cell_type": "markdown",
      "metadata": {
        "id": "moIoYhiJQSRQ"
      },
      "source": [
        "### 3. 隱藏層愛怎麼接就怎麼接"
      ]
    },
    {
      "cell_type": "code",
      "source": [
        "from tensorflow.keras.layers import concatenate"
      ],
      "metadata": {
        "id": "aTntb4-KWvXf"
      },
      "execution_count": null,
      "outputs": []
    },
    {
      "cell_type": "code",
      "execution_count": null,
      "metadata": {
        "id": "5FNywJMMQSRU"
      },
      "outputs": [],
      "source": [
        "f1 = Dense(500, activation='relu')\n",
        "f2 = Dense(500, activation='relu')\n",
        "f4 = Dense(500, activation='sigmoid')\n",
        "f3 = Dense(10, activation='softmax')"
      ]
    },
    {
      "cell_type": "code",
      "execution_count": null,
      "metadata": {
        "id": "jCKfUcTFQSRW"
      },
      "outputs": [],
      "source": [
        "h2 = f2(h1)\n",
        "z = f4(h1)"
      ]
    },
    {
      "cell_type": "code",
      "execution_count": null,
      "metadata": {
        "id": "xqHj8gufQSRh"
      },
      "outputs": [],
      "source": [
        "u = concatenate([h2, z])"
      ]
    },
    {
      "cell_type": "code",
      "source": [
        "y = f3(u)"
      ],
      "metadata": {
        "id": "PpxfkCijWzrZ"
      },
      "execution_count": null,
      "outputs": []
    },
    {
      "cell_type": "code",
      "source": [
        "branch_model = Model(x, y)"
      ],
      "metadata": {
        "id": "4CLX-urUW2qB"
      },
      "execution_count": null,
      "outputs": []
    },
    {
      "cell_type": "code",
      "execution_count": null,
      "metadata": {
        "colab": {
          "base_uri": "https://localhost:8080/"
        },
        "id": "aMn_XR_wQSRj",
        "outputId": "ef3b9485-594b-4cdd-dc6d-18f1dd57de38"
      },
      "outputs": [
        {
          "output_type": "stream",
          "name": "stdout",
          "text": [
            "Model: \"model_1\"\n",
            "__________________________________________________________________________________________________\n",
            " Layer (type)                   Output Shape         Param #     Connected to                     \n",
            "==================================================================================================\n",
            " input_1 (InputLayer)           [(None, 784)]        0           []                               \n",
            "                                                                                                  \n",
            " dense_3 (Dense)                (None, 500)          392500      ['input_1[0][0]']                \n",
            "                                                                                                  \n",
            " dense_7 (Dense)                (None, 500)          250500      ['dense_3[0][0]']                \n",
            "                                                                                                  \n",
            " dense_8 (Dense)                (None, 500)          250500      ['dense_3[0][0]']                \n",
            "                                                                                                  \n",
            " concatenate (Concatenate)      (None, 1000)         0           ['dense_7[0][0]',                \n",
            "                                                                  'dense_8[0][0]']                \n",
            "                                                                                                  \n",
            " dense_9 (Dense)                (None, 10)           10010       ['concatenate[0][0]']            \n",
            "                                                                                                  \n",
            "==================================================================================================\n",
            "Total params: 903,510\n",
            "Trainable params: 903,510\n",
            "Non-trainable params: 0\n",
            "__________________________________________________________________________________________________\n"
          ]
        }
      ],
      "source": [
        "branch_model.summary()"
      ]
    }
  ],
  "metadata": {
    "colab": {
      "name": "冒險33_Functional API 介紹.ipynb",
      "provenance": []
    },
    "kernelspec": {
      "display_name": "Python 3",
      "language": "python",
      "name": "python3"
    },
    "language_info": {
      "codemirror_mode": {
        "name": "ipython",
        "version": 3
      },
      "file_extension": ".py",
      "mimetype": "text/x-python",
      "name": "python",
      "nbconvert_exporter": "python",
      "pygments_lexer": "ipython3",
      "version": "3.7.3"
    }
  },
  "nbformat": 4,
  "nbformat_minor": 0
}