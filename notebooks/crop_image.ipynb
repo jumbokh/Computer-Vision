{
  "nbformat": 4,
  "nbformat_minor": 0,
  "metadata": {
    "colab": {
      "provenance": [],
      "authorship_tag": "ABX9TyNA6g9kNGJPJD163Qwtsf0I",
      "include_colab_link": true
    },
    "kernelspec": {
      "name": "python3",
      "display_name": "Python 3"
    },
    "language_info": {
      "name": "python"
    }
  },
  "cells": [
    {
      "cell_type": "markdown",
      "metadata": {
        "id": "view-in-github",
        "colab_type": "text"
      },
      "source": [
        "<a href=\"https://colab.research.google.com/github/jumbokh/Computer-Vision/blob/main/notebooks/crop_image.ipynb\" target=\"_parent\"><img src=\"https://colab.research.google.com/assets/colab-badge.svg\" alt=\"Open In Colab\"/></a>"
      ]
    },
    {
      "cell_type": "code",
      "execution_count": null,
      "metadata": {
        "id": "Gz6l21CRr7ko"
      },
      "outputs": [],
      "source": [
        "import cv2\n",
        "from google.colab.patches import cv2_imshow\n",
        "\n",
        "# 讀取圖檔\n",
        "img = cv2.imread(\"lena.jpg\")"
      ]
    },
    {
      "cell_type": "code",
      "source": [
        "# 裁切區域的 x 與 y 座標（左上角）\n",
        "x = 100\n",
        "y = 100\n",
        "\n",
        "# 裁切區域的長度與寬度\n",
        "w = 250\n",
        "h = 150\n",
        "\n",
        "# 裁切圖片\n",
        "crop_img = img[y:y+h, x:x+w]"
      ],
      "metadata": {
        "id": "9PXHyNMrr_Vs"
      },
      "execution_count": null,
      "outputs": []
    },
    {
      "cell_type": "code",
      "source": [
        "# 顯示圖片\n",
        "cv2_imshow(crop_img)\n",
        "#cv2.waitKey(0)"
      ],
      "metadata": {
        "id": "_MITxuAusCRT"
      },
      "execution_count": null,
      "outputs": []
    }
  ]
}