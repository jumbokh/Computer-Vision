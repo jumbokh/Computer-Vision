{
  "cells": [
    {
      "cell_type": "markdown",
      "metadata": {
        "id": "h3nihu10cd6h"
      },
      "source": [
        "# MNIST 模型強化"
      ]
    },
    {
      "cell_type": "markdown",
      "metadata": {
        "id": "KxVAAJd6cd6m"
      },
      "source": [
        "## 步驟1：載入 MNIST 手寫阿拉伯數字資料"
      ]
    },
    {
      "cell_type": "code",
      "execution_count": 1,
      "metadata": {
        "id": "rLTfBaAscd6n",
        "outputId": "40b6e505-180f-4e0f-d739-284f12eeccff",
        "colab": {
          "base_uri": "https://localhost:8080/"
        }
      },
      "outputs": [
        {
          "output_type": "stream",
          "name": "stdout",
          "text": [
            "Downloading data from https://storage.googleapis.com/tensorflow/tf-keras-datasets/mnist.npz\n",
            "11490434/11490434 [==============================] - 0s 0us/step\n"
          ]
        }
      ],
      "source": [
        "import tensorflow as tf\n",
        "mnist = tf.keras.datasets.mnist\n",
        "\n",
        "# 載入 MNIST 手寫阿拉伯數字資料\n",
        "(x_train, y_train),(x_test, y_test) = mnist.load_data()"
      ]
    },
    {
      "cell_type": "markdown",
      "metadata": {
        "id": "4ksmH3KDcd6o"
      },
      "source": [
        "## 步驟2：改用 CNN 模型"
      ]
    },
    {
      "cell_type": "code",
      "execution_count": 2,
      "metadata": {
        "id": "HOQHa6NOcd6p"
      },
      "outputs": [],
      "source": [
        "# 建立模型\n",
        "from tensorflow.keras import layers\n",
        "import numpy as np\n",
        "\n",
        "input_shape=(28, 28, 1)\n",
        "# 增加一維在最後面\n",
        "x_train = np.expand_dims(x_train, -1)\n",
        "x_test = np.expand_dims(x_test, -1)\n",
        "\n",
        "# CNN 模型\n",
        "model = tf.keras.Sequential(\n",
        "    [\n",
        "        tf.keras.Input(shape=input_shape),\n",
        "        layers.Conv2D(32, kernel_size=(3, 3), activation=\"relu\"),\n",
        "        layers.MaxPooling2D(pool_size=(2, 2)),\n",
        "        layers.Conv2D(64, kernel_size=(3, 3), activation=\"relu\"),\n",
        "        layers.MaxPooling2D(pool_size=(2, 2)),\n",
        "        layers.Flatten(),\n",
        "        layers.Dropout(0.5),\n",
        "        layers.Dense(10, activation=\"softmax\"),\n",
        "    ]\n",
        ")\n",
        "\n",
        "# 設定優化器(optimizer)、損失函數(loss)、效能衡量指標(metrics)的類別\n",
        "model.compile(optimizer='adam',\n",
        "              loss='sparse_categorical_crossentropy',\n",
        "              metrics=['accuracy'])"
      ]
    },
    {
      "cell_type": "markdown",
      "metadata": {
        "id": "xbbBDDcgcd6p"
      },
      "source": [
        "## 步驟3：資料增補(Data Augmentation)"
      ]
    },
    {
      "cell_type": "code",
      "execution_count": 3,
      "metadata": {
        "id": "EmEBYV99cd6q",
        "outputId": "3e35d81c-f56c-44b8-aa3d-fca3cd685332",
        "colab": {
          "base_uri": "https://localhost:8080/"
        }
      },
      "outputs": [
        {
          "output_type": "stream",
          "name": "stdout",
          "text": [
            "Epoch 1/5\n",
            "60/60 - 84s - loss: 1.4114 - accuracy: 0.5374 - val_loss: 0.6683 - val_accuracy: 0.7983 - 84s/epoch - 1s/step\n",
            "Epoch 2/5\n",
            "60/60 - 74s - loss: 0.5741 - accuracy: 0.8190 - val_loss: 0.3444 - val_accuracy: 0.9027 - 74s/epoch - 1s/step\n",
            "Epoch 3/5\n",
            "60/60 - 68s - loss: 0.3861 - accuracy: 0.8817 - val_loss: 0.2444 - val_accuracy: 0.9298 - 68s/epoch - 1s/step\n",
            "Epoch 4/5\n",
            "60/60 - 75s - loss: 0.3077 - accuracy: 0.9059 - val_loss: 0.1939 - val_accuracy: 0.9445 - 75s/epoch - 1s/step\n",
            "Epoch 5/5\n",
            "60/60 - 73s - loss: 0.2748 - accuracy: 0.9170 - val_loss: 0.1802 - val_accuracy: 0.9487 - 73s/epoch - 1s/step\n"
          ]
        }
      ],
      "source": [
        "# 參數設定\n",
        "batch_size = 1000\n",
        "epochs = 5\n",
        "\n",
        "# 資料增補定義\n",
        "datagen = tf.keras.preprocessing.image.ImageDataGenerator(\n",
        "        rescale=1./255,         # 特徵縮放\n",
        "        rotation_range=10,      # 旋轉 10 度\n",
        "        zoom_range=0.1,         # 拉遠/拉近 10%\n",
        "        width_shift_range=0.1,  # 寬度偏移  10%\n",
        "        height_shift_range=0.1) # 高度偏移  10%\n",
        "\n",
        "# 增補資料，進行模型訓練\n",
        "datagen.fit(x_train)\n",
        "history = model.fit(datagen.flow(x_train, y_train, batch_size=batch_size), epochs=epochs,\n",
        "          validation_data=datagen.flow(x_test, y_test, batch_size=batch_size), verbose=2,\n",
        "          steps_per_epoch=x_train.shape[0]//batch_size)"
      ]
    },
    {
      "cell_type": "code",
      "execution_count": 4,
      "metadata": {
        "id": "7I1OICYScd6r",
        "outputId": "6e771a80-a0f2-46c7-a277-74a524bbf80b",
        "colab": {
          "base_uri": "https://localhost:8080/"
        }
      },
      "outputs": [
        {
          "output_type": "stream",
          "name": "stdout",
          "text": [
            "loss: 9.8396\n",
            "accuracy: 0.9734\n"
          ]
        }
      ],
      "source": [
        "# 評分(Score Model)\n",
        "score=model.evaluate(x_test, y_test, verbose=0)\n",
        "\n",
        "for i, x in enumerate(score):\n",
        "    print(f'{model.metrics_names[i]}: {score[i]:.4f}')"
      ]
    },
    {
      "cell_type": "markdown",
      "metadata": {
        "id": "4pOC6Vducd6s"
      },
      "source": [
        "## 步驟4：測試自行繪製的數字"
      ]
    },
    {
      "cell_type": "code",
      "execution_count": 7,
      "metadata": {
        "id": "odMmkuzLcd6s",
        "outputId": "c26bbde0-1fce-42b1-b46d-1a161df71b10",
        "colab": {
          "base_uri": "https://localhost:8080/"
        }
      },
      "outputs": [
        {
          "output_type": "stream",
          "name": "stdout",
          "text": [
            "1/1 [==============================] - 0s 144ms/step\n",
            "[3]\n"
          ]
        }
      ],
      "source": [
        "# 使用小畫家，繪製 0~9，實際測試看看\n",
        "from skimage import io\n",
        "from skimage.transform import resize\n",
        "import numpy as np\n",
        "\n",
        "# 讀取影像並轉為單色\n",
        "uploaded_file = './3.jpg'\n",
        "image1 = io.imread(uploaded_file, as_gray=True)\n",
        "\n",
        "# 縮為 (28, 28) 大小的影像\n",
        "image_resized = resize(image1, (28, 28), anti_aliasing=True)\n",
        "X1 = image_resized.reshape(1,28, 28, 1) #/ 255\n",
        "\n",
        "# 反轉顏色，顏色0為白色，與 RGB 色碼不同，它的 0 為黑色\n",
        "X1 = np.abs(1-X1)\n",
        "\n",
        "# 預測\n",
        "predictions = np.argmax(model.predict(X1), axis=-1)\n",
        "print(predictions)"
      ]
    },
    {
      "cell_type": "code",
      "execution_count": null,
      "metadata": {
        "id": "JLXcs9B2cd6t"
      },
      "outputs": [],
      "source": []
    }
  ],
  "metadata": {
    "kernelspec": {
      "display_name": "Python 3",
      "language": "python",
      "name": "python3"
    },
    "language_info": {
      "codemirror_mode": {
        "name": "ipython",
        "version": 3
      },
      "file_extension": ".py",
      "mimetype": "text/x-python",
      "name": "python",
      "nbconvert_exporter": "python",
      "pygments_lexer": "ipython3",
      "version": "3.8.3"
    },
    "colab": {
      "provenance": []
    }
  },
  "nbformat": 4,
  "nbformat_minor": 0
}