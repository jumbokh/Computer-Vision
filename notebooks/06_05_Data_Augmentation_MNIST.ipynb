{
  "cells": [
    {
      "cell_type": "markdown",
      "metadata": {
        "id": "RJNcrJAHm4gm"
      },
      "source": [
        "# MNIST 模型強化"
      ]
    },
    {
      "cell_type": "markdown",
      "metadata": {
        "id": "P6ZA-Eagm4gp"
      },
      "source": [
        "## 步驟1：載入 MNIST 手寫阿拉伯數字資料"
      ]
    },
    {
      "cell_type": "code",
      "execution_count": 1,
      "metadata": {
        "id": "uvDKkWQwm4gp",
        "outputId": "8c40387d-b2fb-4791-c856-51c9cf6308af",
        "colab": {
          "base_uri": "https://localhost:8080/"
        }
      },
      "outputs": [
        {
          "output_type": "stream",
          "name": "stdout",
          "text": [
            "Downloading data from https://storage.googleapis.com/tensorflow/tf-keras-datasets/mnist.npz\n",
            "11490434/11490434 [==============================] - 0s 0us/step\n"
          ]
        }
      ],
      "source": [
        "import tensorflow as tf\n",
        "mnist = tf.keras.datasets.mnist\n",
        "\n",
        "# 載入 MNIST 手寫阿拉伯數字資料\n",
        "(x_train, y_train),(x_test, y_test) = mnist.load_data()"
      ]
    },
    {
      "cell_type": "markdown",
      "metadata": {
        "id": "g594bB15m4gq"
      },
      "source": [
        "## 步驟2：改用 CNN 模型"
      ]
    },
    {
      "cell_type": "code",
      "execution_count": 2,
      "metadata": {
        "id": "eRkStl7Mm4gq"
      },
      "outputs": [],
      "source": [
        "# 建立模型\n",
        "from tensorflow.keras import layers\n",
        "import numpy as np\n",
        "\n",
        "input_shape=(28, 28, 1)\n",
        "# 增加一維在最後面\n",
        "x_train = np.expand_dims(x_train, -1)\n",
        "x_test = np.expand_dims(x_test, -1)\n",
        "\n",
        "# CNN 模型\n",
        "model = tf.keras.Sequential(\n",
        "    [\n",
        "        tf.keras.Input(shape=input_shape),\n",
        "        layers.Conv2D(32, kernel_size=(3, 3), activation=\"relu\"),\n",
        "        layers.MaxPooling2D(pool_size=(2, 2)),\n",
        "        layers.Conv2D(64, kernel_size=(3, 3), activation=\"relu\"),\n",
        "        layers.MaxPooling2D(pool_size=(2, 2)),\n",
        "        layers.Flatten(),\n",
        "        layers.Dropout(0.5),\n",
        "        layers.Dense(10, activation=\"softmax\"),\n",
        "    ]\n",
        ")\n",
        "\n",
        "# 設定優化器(optimizer)、損失函數(loss)、效能衡量指標(metrics)的類別\n",
        "model.compile(optimizer='adam',\n",
        "              loss='sparse_categorical_crossentropy',\n",
        "              metrics=['accuracy'])"
      ]
    },
    {
      "cell_type": "markdown",
      "metadata": {
        "id": "k4mjf-UWm4gq"
      },
      "source": [
        "## 步驟3：資料增補(Data Augmentation)"
      ]
    },
    {
      "cell_type": "code",
      "execution_count": 3,
      "metadata": {
        "id": "tdORfZbAm4gr",
        "outputId": "2cd44519-4e0f-4df8-faf7-79c112379321",
        "colab": {
          "base_uri": "https://localhost:8080/"
        }
      },
      "outputs": [
        {
          "output_type": "stream",
          "name": "stdout",
          "text": [
            "Epoch 1/5\n",
            "60/60 - 33s - loss: 1.4791 - accuracy: 0.5265 - val_loss: 0.6750 - val_accuracy: 0.8075 - 33s/epoch - 549ms/step\n",
            "Epoch 2/5\n",
            "60/60 - 18s - loss: 0.5732 - accuracy: 0.8205 - val_loss: 0.3352 - val_accuracy: 0.9005 - 18s/epoch - 304ms/step\n",
            "Epoch 3/5\n",
            "60/60 - 19s - loss: 0.3810 - accuracy: 0.8842 - val_loss: 0.2401 - val_accuracy: 0.9333 - 19s/epoch - 319ms/step\n",
            "Epoch 4/5\n",
            "60/60 - 19s - loss: 0.3079 - accuracy: 0.9064 - val_loss: 0.1952 - val_accuracy: 0.9446 - 19s/epoch - 325ms/step\n",
            "Epoch 5/5\n",
            "60/60 - 18s - loss: 0.2714 - accuracy: 0.9179 - val_loss: 0.1685 - val_accuracy: 0.9486 - 18s/epoch - 304ms/step\n"
          ]
        }
      ],
      "source": [
        "# 參數設定\n",
        "batch_size = 1000\n",
        "epochs = 5\n",
        "\n",
        "# 資料增補定義\n",
        "datagen = tf.keras.preprocessing.image.ImageDataGenerator(\n",
        "        rescale=1./255,         # 特徵縮放\n",
        "        rotation_range=10,      # 旋轉 10 度\n",
        "        zoom_range=0.1,         # 拉遠/拉近 10%\n",
        "        width_shift_range=0.1,  # 寬度偏移  10%\n",
        "        height_shift_range=0.1) # 高度偏移  10%\n",
        "\n",
        "# 增補資料，進行模型訓練\n",
        "datagen.fit(x_train)\n",
        "history = model.fit(datagen.flow(x_train, y_train, batch_size=batch_size), epochs=epochs,\n",
        "          validation_data=datagen.flow(x_test, y_test, batch_size=batch_size), verbose=2,\n",
        "          steps_per_epoch=x_train.shape[0]//batch_size)"
      ]
    },
    {
      "cell_type": "code",
      "execution_count": 4,
      "metadata": {
        "id": "bl8vWXwlm4gr",
        "outputId": "c5439a82-8cfe-4fd6-909d-c0714ea061df",
        "colab": {
          "base_uri": "https://localhost:8080/"
        }
      },
      "outputs": [
        {
          "output_type": "stream",
          "name": "stdout",
          "text": [
            "loss: 13.6790\n",
            "accuracy: 0.9662\n"
          ]
        }
      ],
      "source": [
        "# 評分(Score Model)\n",
        "score=model.evaluate(x_test, y_test, verbose=0)\n",
        "\n",
        "for i, x in enumerate(score):\n",
        "    print(f'{model.metrics_names[i]}: {score[i]:.4f}')"
      ]
    },
    {
      "cell_type": "markdown",
      "metadata": {
        "id": "UWs0sWExm4gs"
      },
      "source": [
        "## 步驟4：測試自行繪製的數字"
      ]
    },
    {
      "cell_type": "code",
      "execution_count": 7,
      "metadata": {
        "id": "sAIQz6hrm4gs",
        "outputId": "63f2314e-f9bc-4ed1-e0ef-00e2a6a1caa5",
        "colab": {
          "base_uri": "https://localhost:8080/"
        }
      },
      "outputs": [
        {
          "output_type": "stream",
          "name": "stdout",
          "text": [
            "1/1 [==============================] - 0s 133ms/step\n",
            "[7]\n"
          ]
        }
      ],
      "source": [
        "# 使用小畫家，繪製 0~9，實際測試看看\n",
        "from skimage import io\n",
        "from skimage.transform import resize\n",
        "import numpy as np\n",
        "\n",
        "# 讀取影像並轉為單色\n",
        "uploaded_file = './9.png'\n",
        "image1 = io.imread(uploaded_file, as_gray=True)\n",
        "\n",
        "# 縮為 (28, 28) 大小的影像\n",
        "image_resized = resize(image1, (28, 28), anti_aliasing=True)\n",
        "X1 = image_resized.reshape(1,28, 28, 1) #/ 255\n",
        "\n",
        "# 反轉顏色，顏色0為白色，與 RGB 色碼不同，它的 0 為黑色\n",
        "X1 = np.abs(1-X1)\n",
        "\n",
        "# 預測\n",
        "predictions = np.argmax(model.predict(X1), axis=-1)\n",
        "print(predictions)"
      ]
    },
    {
      "cell_type": "code",
      "execution_count": null,
      "metadata": {
        "id": "ag6SZfopm4gs"
      },
      "outputs": [],
      "source": []
    }
  ],
  "metadata": {
    "kernelspec": {
      "display_name": "Python 3",
      "name": "python3"
    },
    "language_info": {
      "codemirror_mode": {
        "name": "ipython",
        "version": 3
      },
      "file_extension": ".py",
      "mimetype": "text/x-python",
      "name": "python",
      "nbconvert_exporter": "python",
      "pygments_lexer": "ipython3",
      "version": "3.8.3"
    },
    "colab": {
      "provenance": [],
      "gpuType": "T4"
    },
    "accelerator": "GPU"
  },
  "nbformat": 4,
  "nbformat_minor": 0
}