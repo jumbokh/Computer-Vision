{
  "cells": [
    {
      "cell_type": "markdown",
      "metadata": {
        "id": "view-in-github",
        "colab_type": "text"
      },
      "source": [
        "<a href=\"https://colab.research.google.com/github/jumbokh/Computer-Vision/blob/main/notebooks/HW1_Identify_Arabic_numerals_CNN_New_J1115116_ipynb.ipynb\" target=\"_parent\"><img src=\"https://colab.research.google.com/assets/colab-badge.svg\" alt=\"Open In Colab\"/></a>"
      ]
    },
    {
      "cell_type": "markdown",
      "id": "9d96b4cb",
      "metadata": {
        "id": "9d96b4cb"
      },
      "source": [
        "學校: 高雄大學  \n",
        "系所: 產業碩士專班秋季班_電機工程學系  \n",
        "年班: 111  \n",
        "課程: EEI514 電腦視覺與影像處理技術_謝坤達 教授  \n",
        "學號: J1115116  \n",
        "姓名: 鍾志煒  "
      ]
    },
    {
      "cell_type": "markdown",
      "id": "c90353cd",
      "metadata": {
        "id": "c90353cd"
      },
      "source": [
        "#### 1.卷積神經網絡(Convolutional Neural Network)簡稱CNN，CNN是所有深度學習課程、書籍必教的模型(Model)，CNN在影像識別方面的威力非常強大，許多影樣辨識的模型也都是以CNN的架構為基礎去做延伸。另外值得一提的是CNN模型也是少數參考人的大腦視覺組織來建立的深度學習模型，學會CNN之後，對於學習其他深度學習的模型也會很有幫助，\n",
        "#### 2.使用CNN來達成99%正確度的手寫數字辨識。"
      ]
    },
    {
      "cell_type": "code",
      "execution_count": null,
      "id": "42e0aeee",
      "metadata": {
        "id": "42e0aeee"
      },
      "outputs": [],
      "source": [
        "import numpy as np\n",
        "import pandas as pd\n",
        "from tensorflow import keras\n",
        "import tensorflow.keras.utils as np_utils"
      ]
    },
    {
      "cell_type": "code",
      "execution_count": null,
      "id": "781c47b6",
      "metadata": {
        "id": "781c47b6",
        "outputId": "36698c61-3e45-4880-a400-ae2c2eca6884"
      },
      "outputs": [
        {
          "data": {
            "text/plain": [
              "((array([[[0, 0, 0, ..., 0, 0, 0],\n",
              "          [0, 0, 0, ..., 0, 0, 0],\n",
              "          [0, 0, 0, ..., 0, 0, 0],\n",
              "          ...,\n",
              "          [0, 0, 0, ..., 0, 0, 0],\n",
              "          [0, 0, 0, ..., 0, 0, 0],\n",
              "          [0, 0, 0, ..., 0, 0, 0]],\n",
              "  \n",
              "         [[0, 0, 0, ..., 0, 0, 0],\n",
              "          [0, 0, 0, ..., 0, 0, 0],\n",
              "          [0, 0, 0, ..., 0, 0, 0],\n",
              "          ...,\n",
              "          [0, 0, 0, ..., 0, 0, 0],\n",
              "          [0, 0, 0, ..., 0, 0, 0],\n",
              "          [0, 0, 0, ..., 0, 0, 0]],\n",
              "  \n",
              "         [[0, 0, 0, ..., 0, 0, 0],\n",
              "          [0, 0, 0, ..., 0, 0, 0],\n",
              "          [0, 0, 0, ..., 0, 0, 0],\n",
              "          ...,\n",
              "          [0, 0, 0, ..., 0, 0, 0],\n",
              "          [0, 0, 0, ..., 0, 0, 0],\n",
              "          [0, 0, 0, ..., 0, 0, 0]],\n",
              "  \n",
              "         ...,\n",
              "  \n",
              "         [[0, 0, 0, ..., 0, 0, 0],\n",
              "          [0, 0, 0, ..., 0, 0, 0],\n",
              "          [0, 0, 0, ..., 0, 0, 0],\n",
              "          ...,\n",
              "          [0, 0, 0, ..., 0, 0, 0],\n",
              "          [0, 0, 0, ..., 0, 0, 0],\n",
              "          [0, 0, 0, ..., 0, 0, 0]],\n",
              "  \n",
              "         [[0, 0, 0, ..., 0, 0, 0],\n",
              "          [0, 0, 0, ..., 0, 0, 0],\n",
              "          [0, 0, 0, ..., 0, 0, 0],\n",
              "          ...,\n",
              "          [0, 0, 0, ..., 0, 0, 0],\n",
              "          [0, 0, 0, ..., 0, 0, 0],\n",
              "          [0, 0, 0, ..., 0, 0, 0]],\n",
              "  \n",
              "         [[0, 0, 0, ..., 0, 0, 0],\n",
              "          [0, 0, 0, ..., 0, 0, 0],\n",
              "          [0, 0, 0, ..., 0, 0, 0],\n",
              "          ...,\n",
              "          [0, 0, 0, ..., 0, 0, 0],\n",
              "          [0, 0, 0, ..., 0, 0, 0],\n",
              "          [0, 0, 0, ..., 0, 0, 0]]], dtype=uint8),\n",
              "  array([5, 0, 4, ..., 5, 6, 8], dtype=uint8)),\n",
              " (array([[[0, 0, 0, ..., 0, 0, 0],\n",
              "          [0, 0, 0, ..., 0, 0, 0],\n",
              "          [0, 0, 0, ..., 0, 0, 0],\n",
              "          ...,\n",
              "          [0, 0, 0, ..., 0, 0, 0],\n",
              "          [0, 0, 0, ..., 0, 0, 0],\n",
              "          [0, 0, 0, ..., 0, 0, 0]],\n",
              "  \n",
              "         [[0, 0, 0, ..., 0, 0, 0],\n",
              "          [0, 0, 0, ..., 0, 0, 0],\n",
              "          [0, 0, 0, ..., 0, 0, 0],\n",
              "          ...,\n",
              "          [0, 0, 0, ..., 0, 0, 0],\n",
              "          [0, 0, 0, ..., 0, 0, 0],\n",
              "          [0, 0, 0, ..., 0, 0, 0]],\n",
              "  \n",
              "         [[0, 0, 0, ..., 0, 0, 0],\n",
              "          [0, 0, 0, ..., 0, 0, 0],\n",
              "          [0, 0, 0, ..., 0, 0, 0],\n",
              "          ...,\n",
              "          [0, 0, 0, ..., 0, 0, 0],\n",
              "          [0, 0, 0, ..., 0, 0, 0],\n",
              "          [0, 0, 0, ..., 0, 0, 0]],\n",
              "  \n",
              "         ...,\n",
              "  \n",
              "         [[0, 0, 0, ..., 0, 0, 0],\n",
              "          [0, 0, 0, ..., 0, 0, 0],\n",
              "          [0, 0, 0, ..., 0, 0, 0],\n",
              "          ...,\n",
              "          [0, 0, 0, ..., 0, 0, 0],\n",
              "          [0, 0, 0, ..., 0, 0, 0],\n",
              "          [0, 0, 0, ..., 0, 0, 0]],\n",
              "  \n",
              "         [[0, 0, 0, ..., 0, 0, 0],\n",
              "          [0, 0, 0, ..., 0, 0, 0],\n",
              "          [0, 0, 0, ..., 0, 0, 0],\n",
              "          ...,\n",
              "          [0, 0, 0, ..., 0, 0, 0],\n",
              "          [0, 0, 0, ..., 0, 0, 0],\n",
              "          [0, 0, 0, ..., 0, 0, 0]],\n",
              "  \n",
              "         [[0, 0, 0, ..., 0, 0, 0],\n",
              "          [0, 0, 0, ..., 0, 0, 0],\n",
              "          [0, 0, 0, ..., 0, 0, 0],\n",
              "          ...,\n",
              "          [0, 0, 0, ..., 0, 0, 0],\n",
              "          [0, 0, 0, ..., 0, 0, 0],\n",
              "          [0, 0, 0, ..., 0, 0, 0]]], dtype=uint8),\n",
              "  array([7, 2, 1, ..., 4, 5, 6], dtype=uint8)))"
            ]
          },
          "execution_count": 2,
          "metadata": {},
          "output_type": "execute_result"
        }
      ],
      "source": [
        "#載入Mnist手寫辨識資料\n",
        "#Training的資料有60000筆而Testing的資料有10000筆都是28*28 pixel大小的手寫數字圖片\n",
        "keras.datasets.mnist.load_data()"
      ]
    },
    {
      "cell_type": "code",
      "execution_count": null,
      "id": "fda25436",
      "metadata": {
        "id": "fda25436"
      },
      "outputs": [],
      "source": [
        "(x_Train, y_Train), (x_Test, y_Test) = keras.datasets.mnist.load_data()"
      ]
    },
    {
      "cell_type": "code",
      "execution_count": null,
      "id": "a3ca5c6b",
      "metadata": {
        "id": "a3ca5c6b",
        "outputId": "f89c041d-f0ac-4317-917a-78c02e2b527c"
      },
      "outputs": [
        {
          "name": "stdout",
          "output_type": "stream",
          "text": [
            "x_train_image: (60000, 28, 28)\n",
            "y_train_label: (60000,)\n"
          ]
        }
      ],
      "source": [
        "print('x_train_image:',x_Train.shape)\n",
        "print('y_train_label:',y_Train.shape)"
      ]
    },
    {
      "cell_type": "code",
      "execution_count": null,
      "id": "018e7465",
      "metadata": {
        "id": "018e7465",
        "outputId": "f2ddaf36-a1b6-4eec-835f-5a2dc786c77b"
      },
      "outputs": [
        {
          "name": "stdout",
          "output_type": "stream",
          "text": [
            "x_test_image: (10000, 28, 28)\n",
            "y_test_label: (10000,)\n"
          ]
        }
      ],
      "source": [
        "print('x_test_image:',x_Test.shape)\n",
        "print('y_test_label:',y_Test.shape)"
      ]
    },
    {
      "cell_type": "code",
      "execution_count": null,
      "id": "2657b15c",
      "metadata": {
        "id": "2657b15c"
      },
      "outputs": [],
      "source": [
        "x_test_image: (10000, 28, 28)\n",
        "y_test_label: (10000,)"
      ]
    },
    {
      "cell_type": "code",
      "execution_count": null,
      "id": "aa6e68ec",
      "metadata": {
        "id": "aa6e68ec"
      },
      "outputs": [],
      "source": [
        "import matplotlib.pyplot as plt\n",
        "def plot_image(image):\n",
        "    fig = plt.gcf()\n",
        "    fig.set_size_inches(2, 2)\n",
        "    plt.imshow(image, cmap='binary')\n",
        "    plt.show()"
      ]
    },
    {
      "cell_type": "code",
      "execution_count": null,
      "id": "6b026fb9",
      "metadata": {
        "id": "6b026fb9",
        "outputId": "222e8076-b858-4527-9d11-dcd9006676f2"
      },
      "outputs": [
        {
          "data": {
            "text/plain": [
              "array([[  0,   0,   0,   0,   0,   0,   0,   0,   0,   0,   0,   0,   0,\n",
              "          0,   0,   0,   0,   0,   0,   0,   0,   0,   0,   0,   0,   0,\n",
              "          0,   0],\n",
              "       [  0,   0,   0,   0,   0,   0,   0,   0,   0,   0,   0,   0,   0,\n",
              "          0,   0,   0,   0,   0,   0,   0,   0,   0,   0,   0,   0,   0,\n",
              "          0,   0],\n",
              "       [  0,   0,   0,   0,   0,   0,   0,   0,   0,   0,   0,   0,   0,\n",
              "          0,   0,   0,   0,   0,   0,   0,   0,   0,   0,   0,   0,   0,\n",
              "          0,   0],\n",
              "       [  0,   0,   0,   0,   0,   0,   0,   0,   0,   0,   0,   0,   0,\n",
              "          0,   0,   0,   0,   0,   0,   0,   0,   0,   0,   0,   0,   0,\n",
              "          0,   0],\n",
              "       [  0,   0,   0,   0,   0,   0,   0,   0,   0,   0,   0,   0,   0,\n",
              "          0,   0,   0,   0,   0,   0,   0,   0,   0,   0,   0,   0,   0,\n",
              "          0,   0],\n",
              "       [  0,   0,   0,   0,   0,   0,   0,   0,   0,   0,   0,   0,   3,\n",
              "         18,  18,  18, 126, 136, 175,  26, 166, 255, 247, 127,   0,   0,\n",
              "          0,   0],\n",
              "       [  0,   0,   0,   0,   0,   0,   0,   0,  30,  36,  94, 154, 170,\n",
              "        253, 253, 253, 253, 253, 225, 172, 253, 242, 195,  64,   0,   0,\n",
              "          0,   0],\n",
              "       [  0,   0,   0,   0,   0,   0,   0,  49, 238, 253, 253, 253, 253,\n",
              "        253, 253, 253, 253, 251,  93,  82,  82,  56,  39,   0,   0,   0,\n",
              "          0,   0],\n",
              "       [  0,   0,   0,   0,   0,   0,   0,  18, 219, 253, 253, 253, 253,\n",
              "        253, 198, 182, 247, 241,   0,   0,   0,   0,   0,   0,   0,   0,\n",
              "          0,   0],\n",
              "       [  0,   0,   0,   0,   0,   0,   0,   0,  80, 156, 107, 253, 253,\n",
              "        205,  11,   0,  43, 154,   0,   0,   0,   0,   0,   0,   0,   0,\n",
              "          0,   0],\n",
              "       [  0,   0,   0,   0,   0,   0,   0,   0,   0,  14,   1, 154, 253,\n",
              "         90,   0,   0,   0,   0,   0,   0,   0,   0,   0,   0,   0,   0,\n",
              "          0,   0],\n",
              "       [  0,   0,   0,   0,   0,   0,   0,   0,   0,   0,   0, 139, 253,\n",
              "        190,   2,   0,   0,   0,   0,   0,   0,   0,   0,   0,   0,   0,\n",
              "          0,   0],\n",
              "       [  0,   0,   0,   0,   0,   0,   0,   0,   0,   0,   0,  11, 190,\n",
              "        253,  70,   0,   0,   0,   0,   0,   0,   0,   0,   0,   0,   0,\n",
              "          0,   0],\n",
              "       [  0,   0,   0,   0,   0,   0,   0,   0,   0,   0,   0,   0,  35,\n",
              "        241, 225, 160, 108,   1,   0,   0,   0,   0,   0,   0,   0,   0,\n",
              "          0,   0],\n",
              "       [  0,   0,   0,   0,   0,   0,   0,   0,   0,   0,   0,   0,   0,\n",
              "         81, 240, 253, 253, 119,  25,   0,   0,   0,   0,   0,   0,   0,\n",
              "          0,   0],\n",
              "       [  0,   0,   0,   0,   0,   0,   0,   0,   0,   0,   0,   0,   0,\n",
              "          0,  45, 186, 253, 253, 150,  27,   0,   0,   0,   0,   0,   0,\n",
              "          0,   0],\n",
              "       [  0,   0,   0,   0,   0,   0,   0,   0,   0,   0,   0,   0,   0,\n",
              "          0,   0,  16,  93, 252, 253, 187,   0,   0,   0,   0,   0,   0,\n",
              "          0,   0],\n",
              "       [  0,   0,   0,   0,   0,   0,   0,   0,   0,   0,   0,   0,   0,\n",
              "          0,   0,   0,   0, 249, 253, 249,  64,   0,   0,   0,   0,   0,\n",
              "          0,   0],\n",
              "       [  0,   0,   0,   0,   0,   0,   0,   0,   0,   0,   0,   0,   0,\n",
              "          0,  46, 130, 183, 253, 253, 207,   2,   0,   0,   0,   0,   0,\n",
              "          0,   0],\n",
              "       [  0,   0,   0,   0,   0,   0,   0,   0,   0,   0,   0,   0,  39,\n",
              "        148, 229, 253, 253, 253, 250, 182,   0,   0,   0,   0,   0,   0,\n",
              "          0,   0],\n",
              "       [  0,   0,   0,   0,   0,   0,   0,   0,   0,   0,  24, 114, 221,\n",
              "        253, 253, 253, 253, 201,  78,   0,   0,   0,   0,   0,   0,   0,\n",
              "          0,   0],\n",
              "       [  0,   0,   0,   0,   0,   0,   0,   0,  23,  66, 213, 253, 253,\n",
              "        253, 253, 198,  81,   2,   0,   0,   0,   0,   0,   0,   0,   0,\n",
              "          0,   0],\n",
              "       [  0,   0,   0,   0,   0,   0,  18, 171, 219, 253, 253, 253, 253,\n",
              "        195,  80,   9,   0,   0,   0,   0,   0,   0,   0,   0,   0,   0,\n",
              "          0,   0],\n",
              "       [  0,   0,   0,   0,  55, 172, 226, 253, 253, 253, 253, 244, 133,\n",
              "         11,   0,   0,   0,   0,   0,   0,   0,   0,   0,   0,   0,   0,\n",
              "          0,   0],\n",
              "       [  0,   0,   0,   0, 136, 253, 253, 253, 212, 135, 132,  16,   0,\n",
              "          0,   0,   0,   0,   0,   0,   0,   0,   0,   0,   0,   0,   0,\n",
              "          0,   0],\n",
              "       [  0,   0,   0,   0,   0,   0,   0,   0,   0,   0,   0,   0,   0,\n",
              "          0,   0,   0,   0,   0,   0,   0,   0,   0,   0,   0,   0,   0,\n",
              "          0,   0],\n",
              "       [  0,   0,   0,   0,   0,   0,   0,   0,   0,   0,   0,   0,   0,\n",
              "          0,   0,   0,   0,   0,   0,   0,   0,   0,   0,   0,   0,   0,\n",
              "          0,   0],\n",
              "       [  0,   0,   0,   0,   0,   0,   0,   0,   0,   0,   0,   0,   0,\n",
              "          0,   0,   0,   0,   0,   0,   0,   0,   0,   0,   0,   0,   0,\n",
              "          0,   0]], dtype=uint8)"
            ]
          },
          "execution_count": 8,
          "metadata": {},
          "output_type": "execute_result"
        }
      ],
      "source": [
        "x_Train[0]"
      ]
    },
    {
      "cell_type": "code",
      "execution_count": null,
      "id": "f56e49f3",
      "metadata": {
        "id": "f56e49f3",
        "outputId": "6d0f9795-7b55-483f-b3b8-b7464e1ea9ff"
      },
      "outputs": [
        {
          "data": {
            "image/png": "[encoded data removed]",
            "text/plain": [
              "<Figure size 200x200 with 1 Axes>"
            ]
          },
          "metadata": {},
          "output_type": "display_data"
        }
      ],
      "source": [
        "#畫出圖片長相以及Label\n",
        "plot_image(x_Train[0])"
      ]
    },
    {
      "cell_type": "code",
      "execution_count": null,
      "id": "123cc147",
      "metadata": {
        "id": "123cc147",
        "outputId": "ce5d3d75-7979-4cc8-b6ad-dadf9a99b923"
      },
      "outputs": [
        {
          "data": {
            "text/plain": [
              "5"
            ]
          },
          "execution_count": 10,
          "metadata": {},
          "output_type": "execute_result"
        }
      ],
      "source": [
        "y_Train[0]"
      ]
    },
    {
      "cell_type": "code",
      "execution_count": null,
      "id": "88c49842",
      "metadata": {
        "id": "88c49842"
      },
      "outputs": [],
      "source": [
        "import matplotlib.pyplot as plt\n",
        "def plot_images_labels_prediction(images,labels,\n",
        "                                  prediction,idx,num=10):\n",
        "    fig = plt.gcf()\n",
        "    fig.set_size_inches(12, 14)\n",
        "    if num>25: num=25\n",
        "    for i in range(0, num):\n",
        "        ax=plt.subplot(5,5, 1+i)\n",
        "        ax.imshow(images[idx], cmap='binary')\n",
        "        title= \"label=\" +str(labels[idx])\n",
        "        if len(prediction)>0:\n",
        "            title+=\",predict=\"+str(prediction[idx])\n",
        "\n",
        "        ax.set_title(title,fontsize=10)\n",
        "        ax.set_xticks([]);ax.set_yticks([])\n",
        "        idx+=1\n",
        "    plt.show()"
      ]
    },
    {
      "cell_type": "code",
      "execution_count": null,
      "id": "a3cdbc15",
      "metadata": {
        "id": "a3cdbc15",
        "outputId": "fb8a5df2-70cb-4b99-bc5d-f7176ffb4c4a"
      },
      "outputs": [
        {
          "data": {
            "image/png": "[encoded data removed]",
            "text/plain": [
              "<Figure size 1200x1400 with 10 Axes>"
            ]
          },
          "metadata": {},
          "output_type": "display_data"
        }
      ],
      "source": [
        "plot_images_labels_prediction(x_Train,y_Train,[],0,10)"
      ]
    },
    {
      "cell_type": "code",
      "execution_count": null,
      "id": "b8d919da",
      "metadata": {
        "id": "b8d919da",
        "outputId": "43e16766-732a-47b9-dbf1-58bb07ffc208"
      },
      "outputs": [
        {
          "data": {
            "image/png": "[encoded data removed]",
            "text/plain": [
              "<Figure size 1200x1400 with 10 Axes>"
            ]
          },
          "metadata": {},
          "output_type": "display_data"
        }
      ],
      "source": [
        "plot_images_labels_prediction(x_Test,y_Test,[],0,10)"
      ]
    },
    {
      "cell_type": "code",
      "execution_count": null,
      "id": "b478ff4f",
      "metadata": {
        "id": "b478ff4f",
        "outputId": "98a71875-653f-4990-9618-de8d591ae097"
      },
      "outputs": [
        {
          "data": {
            "text/plain": [
              "(60000, 28, 28)"
            ]
          },
          "execution_count": 14,
          "metadata": {},
          "output_type": "execute_result"
        }
      ],
      "source": [
        "x_Train.shape"
      ]
    },
    {
      "cell_type": "markdown",
      "id": "07c3e632",
      "metadata": {
        "id": "07c3e632"
      },
      "source": [
        "#### 由於圖片通常是RGB三個顏色所組成的，假設圖片大小是28*28的彩色圖片，實際上的資料維度就是28*28*3。不過這邊數字的顏色都是單色因此我們轉成28*28*1的資料維度當作未來CNN Model的input"
      ]
    },
    {
      "cell_type": "code",
      "execution_count": null,
      "id": "049af748",
      "metadata": {
        "id": "049af748"
      },
      "outputs": [],
      "source": [
        "#多加一個顏色的維度\n",
        "x_Train4D=x_Train.reshape(x_Train.shape[0],28,28,1).astype('float32')\n",
        "x_Test4D=x_Test.reshape(x_Test.shape[0],28,28,1).astype('float32')"
      ]
    },
    {
      "cell_type": "code",
      "execution_count": null,
      "id": "d21ef97e",
      "metadata": {
        "id": "d21ef97e",
        "outputId": "38a475b1-4180-4ae6-df8d-4c4b54a7d52f"
      },
      "outputs": [
        {
          "data": {
            "text/plain": [
              "(60000, 28, 28, 1)"
            ]
          },
          "execution_count": 16,
          "metadata": {},
          "output_type": "execute_result"
        }
      ],
      "source": [
        "x_Train4D.shape"
      ]
    },
    {
      "cell_type": "markdown",
      "id": "6fb08d2c",
      "metadata": {
        "id": "6fb08d2c"
      },
      "source": [
        "#### 灰階的圖片數值為 '0-255' 之間，我們將它縮放到 '0-1' 之間，並對類別資料做onehot-encoding處理"
      ]
    },
    {
      "cell_type": "code",
      "execution_count": null,
      "id": "54022845",
      "metadata": {
        "id": "54022845"
      },
      "outputs": [],
      "source": [
        "#將數值縮小到0~1\n",
        "x_Train4D_normalize = x_Train4D / 255\n",
        "x_Test4D_normalize = x_Test4D / 255"
      ]
    },
    {
      "cell_type": "code",
      "execution_count": null,
      "id": "8f74f1f0",
      "metadata": {
        "id": "8f74f1f0"
      },
      "outputs": [],
      "source": [
        "#把類別做Onehot encoding\n",
        "y_TrainOneHot = np_utils.to_categorical(y_Train)\n",
        "y_TestOneHot = np_utils.to_categorical(y_Test)"
      ]
    },
    {
      "cell_type": "code",
      "execution_count": null,
      "id": "a7ae82cb",
      "metadata": {
        "id": "a7ae82cb",
        "outputId": "b4e052a0-33f0-4f3f-fcad-e1de660330c0"
      },
      "outputs": [
        {
          "data": {
            "text/plain": [
              "array([5, 0, 4, ..., 5, 6, 8], dtype=uint8)"
            ]
          },
          "execution_count": 19,
          "metadata": {},
          "output_type": "execute_result"
        }
      ],
      "source": [
        "y_Train"
      ]
    },
    {
      "cell_type": "code",
      "execution_count": null,
      "id": "af3a3a33",
      "metadata": {
        "id": "af3a3a33",
        "outputId": "74539112-9493-4cb8-c4b0-700619268307"
      },
      "outputs": [
        {
          "data": {
            "text/plain": [
              "array([[0., 0., 0., ..., 0., 0., 0.],\n",
              "       [1., 0., 0., ..., 0., 0., 0.],\n",
              "       [0., 0., 0., ..., 0., 0., 0.],\n",
              "       ...,\n",
              "       [0., 0., 0., ..., 0., 0., 0.],\n",
              "       [0., 0., 0., ..., 0., 0., 0.],\n",
              "       [0., 0., 0., ..., 0., 1., 0.]], dtype=float32)"
            ]
          },
          "execution_count": 20,
          "metadata": {},
          "output_type": "execute_result"
        }
      ],
      "source": [
        "y_TrainOneHot"
      ]
    },
    {
      "cell_type": "markdown",
      "id": "f33dc08b",
      "metadata": {
        "id": "f33dc08b"
      },
      "source": [
        "#### 建立CNN模型"
      ]
    },
    {
      "cell_type": "code",
      "execution_count": null,
      "id": "9c6f18a0",
      "metadata": {
        "id": "9c6f18a0"
      },
      "outputs": [],
      "source": [
        "from keras.models import Sequential\n",
        "from keras.layers import Dense,Dropout,Flatten,Conv2D,MaxPooling2D"
      ]
    },
    {
      "cell_type": "code",
      "execution_count": null,
      "id": "7a729857",
      "metadata": {
        "id": "7a729857"
      },
      "outputs": [],
      "source": [
        "model = Sequential()"
      ]
    },
    {
      "cell_type": "code",
      "execution_count": null,
      "id": "511c3f2e",
      "metadata": {
        "id": "511c3f2e"
      },
      "outputs": [],
      "source": [
        "#filter為16, Kernel size為(5,5),Padding為(same)\n",
        "model.add(Conv2D(filters=16,\n",
        "                 kernel_size=(5,5),\n",
        "                 padding='same',\n",
        "                 input_shape=(28,28,1),\n",
        "                 activation='relu'))"
      ]
    },
    {
      "cell_type": "code",
      "execution_count": null,
      "id": "bc7837db",
      "metadata": {
        "id": "bc7837db"
      },
      "outputs": [],
      "source": [
        "#MaxPooling size為(2,2)\n",
        "model.add(MaxPooling2D(pool_size=(2, 2)))"
      ]
    },
    {
      "cell_type": "code",
      "execution_count": null,
      "id": "8bb39a51",
      "metadata": {
        "id": "8bb39a51"
      },
      "outputs": [],
      "source": [
        "model.add(Conv2D(filters=36,\n",
        "                 kernel_size=(5,5),\n",
        "                 padding='same',\n",
        "                 activation='relu'))"
      ]
    },
    {
      "cell_type": "code",
      "execution_count": null,
      "id": "3f413cb4",
      "metadata": {
        "id": "3f413cb4"
      },
      "outputs": [],
      "source": [
        "model.add(MaxPooling2D(pool_size=(2, 2)))"
      ]
    },
    {
      "cell_type": "markdown",
      "id": "e4d480d5",
      "metadata": {
        "id": "e4d480d5"
      },
      "source": [
        "#### 在層跟層之間通常會Drop掉一定比例的神經元來避免Overfit的狀況，要Drop掉多少比例沒有一個特定的值，通常是25%~50%之間"
      ]
    },
    {
      "cell_type": "code",
      "execution_count": null,
      "id": "3423fa5c",
      "metadata": {
        "id": "3423fa5c"
      },
      "outputs": [],
      "source": [
        "#Drop掉部分神經元避免overfitting\n",
        "model.add(Dropout(0.25))"
      ]
    },
    {
      "cell_type": "code",
      "execution_count": null,
      "id": "6f6901bb",
      "metadata": {
        "id": "6f6901bb"
      },
      "outputs": [],
      "source": [
        "#平坦化\n",
        "model.add(Flatten())"
      ]
    },
    {
      "cell_type": "code",
      "execution_count": null,
      "id": "71b6c6fd",
      "metadata": {
        "id": "71b6c6fd"
      },
      "outputs": [],
      "source": [
        "model.add(Dense(128, activation='relu'))"
      ]
    },
    {
      "cell_type": "code",
      "execution_count": null,
      "id": "9eb36209",
      "metadata": {
        "id": "9eb36209"
      },
      "outputs": [],
      "source": [
        "model.add(Dropout(0.5))"
      ]
    },
    {
      "cell_type": "code",
      "execution_count": null,
      "id": "6e829662",
      "metadata": {
        "id": "6e829662"
      },
      "outputs": [],
      "source": [
        "model.add(Dense(10,activation='softmax'))"
      ]
    },
    {
      "cell_type": "code",
      "execution_count": null,
      "id": "49b6ec07",
      "metadata": {
        "id": "49b6ec07",
        "outputId": "fc21afd3-98fe-40b4-9b50-225698a6dba8"
      },
      "outputs": [
        {
          "name": "stdout",
          "output_type": "stream",
          "text": [
            "Model: \"sequential\"\n",
            "_________________________________________________________________\n",
            " Layer (type)                Output Shape              Param #   \n",
            "=================================================================\n",
            " conv2d (Conv2D)             (None, 28, 28, 16)        416       \n",
            "                                                                 \n",
            " max_pooling2d (MaxPooling2D  (None, 14, 14, 16)       0         \n",
            " )                                                               \n",
            "                                                                 \n",
            " conv2d_1 (Conv2D)           (None, 14, 14, 36)        14436     \n",
            "                                                                 \n",
            " max_pooling2d_1 (MaxPooling  (None, 7, 7, 36)         0         \n",
            " 2D)                                                             \n",
            "                                                                 \n",
            " dropout (Dropout)           (None, 7, 7, 36)          0         \n",
            "                                                                 \n",
            " flatten (Flatten)           (None, 1764)              0         \n",
            "                                                                 \n",
            " dense (Dense)               (None, 128)               225920    \n",
            "                                                                 \n",
            " dropout_1 (Dropout)         (None, 128)               0         \n",
            "                                                                 \n",
            " dense_1 (Dense)             (None, 10)                1290      \n",
            "                                                                 \n",
            "=================================================================\n",
            "Total params: 242,062\n",
            "Trainable params: 242,062\n",
            "Non-trainable params: 0\n",
            "_________________________________________________________________\n",
            "None\n"
          ]
        }
      ],
      "source": [
        "print(model.summary())"
      ]
    },
    {
      "cell_type": "markdown",
      "id": "0bbce81d",
      "metadata": {
        "id": "0bbce81d"
      },
      "source": [
        "#### 訓練模型\n",
        "#### 開始訓練模型，這邊可以看到每一輪的迭代acc 以及 val_acc的準確度都慢慢再提高，從一開始的acc(training):83% val_acc(testing):96%的準確度，到第20輪時acc 以及val_acc 都變成99%的準確度了"
      ]
    },
    {
      "cell_type": "code",
      "execution_count": null,
      "id": "090569d4",
      "metadata": {
        "id": "090569d4"
      },
      "outputs": [],
      "source": [
        "model.compile(loss='categorical_crossentropy', optimizer='adam',metrics=['accuracy'])"
      ]
    },
    {
      "cell_type": "code",
      "execution_count": null,
      "id": "2bc6b8b3",
      "metadata": {
        "id": "2bc6b8b3",
        "outputId": "cd76eece-41f7-4da1-d87c-0f6d5b199c72"
      },
      "outputs": [
        {
          "name": "stdout",
          "output_type": "stream",
          "text": [
            "Epoch 1/20\n",
            "160/160 - 26s - loss: 0.5313 - accuracy: 0.8322 - val_loss: 0.1072 - val_accuracy: 0.9681 - 26s/epoch - 163ms/step\n",
            "Epoch 2/20\n",
            "160/160 - 25s - loss: 0.1486 - accuracy: 0.9560 - val_loss: 0.0692 - val_accuracy: 0.9793 - 25s/epoch - 153ms/step\n",
            "Epoch 3/20\n",
            "160/160 - 24s - loss: 0.1074 - accuracy: 0.9680 - val_loss: 0.0536 - val_accuracy: 0.9842 - 24s/epoch - 152ms/step\n",
            "Epoch 4/20\n",
            "160/160 - 24s - loss: 0.0847 - accuracy: 0.9745 - val_loss: 0.0487 - val_accuracy: 0.9859 - 24s/epoch - 151ms/step\n",
            "Epoch 5/20\n",
            "160/160 - 24s - loss: 0.0754 - accuracy: 0.9772 - val_loss: 0.0454 - val_accuracy: 0.9862 - 24s/epoch - 153ms/step\n",
            "Epoch 6/20\n",
            "160/160 - 24s - loss: 0.0650 - accuracy: 0.9801 - val_loss: 0.0394 - val_accuracy: 0.9877 - 24s/epoch - 151ms/step\n",
            "Epoch 7/20\n",
            "160/160 - 24s - loss: 0.0586 - accuracy: 0.9819 - val_loss: 0.0372 - val_accuracy: 0.9882 - 24s/epoch - 152ms/step\n",
            "Epoch 8/20\n",
            "160/160 - 24s - loss: 0.0522 - accuracy: 0.9839 - val_loss: 0.0390 - val_accuracy: 0.9889 - 24s/epoch - 151ms/step\n",
            "Epoch 9/20\n",
            "160/160 - 24s - loss: 0.0493 - accuracy: 0.9849 - val_loss: 0.0358 - val_accuracy: 0.9900 - 24s/epoch - 152ms/step\n",
            "Epoch 10/20\n",
            "160/160 - 24s - loss: 0.0442 - accuracy: 0.9864 - val_loss: 0.0362 - val_accuracy: 0.9902 - 24s/epoch - 152ms/step\n",
            "Epoch 11/20\n",
            "160/160 - 24s - loss: 0.0422 - accuracy: 0.9863 - val_loss: 0.0365 - val_accuracy: 0.9910 - 24s/epoch - 153ms/step\n",
            "Epoch 12/20\n",
            "160/160 - 24s - loss: 0.0391 - accuracy: 0.9879 - val_loss: 0.0319 - val_accuracy: 0.9914 - 24s/epoch - 152ms/step\n",
            "Epoch 13/20\n",
            "160/160 - 24s - loss: 0.0362 - accuracy: 0.9885 - val_loss: 0.0343 - val_accuracy: 0.9911 - 24s/epoch - 152ms/step\n",
            "Epoch 14/20\n",
            "160/160 - 24s - loss: 0.0333 - accuracy: 0.9891 - val_loss: 0.0326 - val_accuracy: 0.9918 - 24s/epoch - 151ms/step\n",
            "Epoch 15/20\n",
            "160/160 - 24s - loss: 0.0322 - accuracy: 0.9899 - val_loss: 0.0360 - val_accuracy: 0.9902 - 24s/epoch - 153ms/step\n",
            "Epoch 16/20\n",
            "160/160 - 25s - loss: 0.0300 - accuracy: 0.9907 - val_loss: 0.0316 - val_accuracy: 0.9914 - 25s/epoch - 159ms/step\n",
            "Epoch 17/20\n",
            "160/160 - 27s - loss: 0.0291 - accuracy: 0.9910 - val_loss: 0.0358 - val_accuracy: 0.9912 - 27s/epoch - 168ms/step\n",
            "Epoch 18/20\n",
            "160/160 - 25s - loss: 0.0291 - accuracy: 0.9903 - val_loss: 0.0341 - val_accuracy: 0.9910 - 25s/epoch - 156ms/step\n",
            "Epoch 19/20\n",
            "160/160 - 25s - loss: 0.0254 - accuracy: 0.9917 - val_loss: 0.0310 - val_accuracy: 0.9923 - 25s/epoch - 157ms/step\n",
            "Epoch 20/20\n",
            "160/160 - 24s - loss: 0.0243 - accuracy: 0.9920 - val_loss: 0.0314 - val_accuracy: 0.9923 - 24s/epoch - 152ms/step\n"
          ]
        }
      ],
      "source": [
        "train_history=model.fit(x=x_Train4D_normalize,\n",
        "                        y=y_TrainOneHot,validation_split=0.2,\n",
        "                        epochs=20, batch_size=300,verbose=2)"
      ]
    },
    {
      "cell_type": "code",
      "execution_count": null,
      "id": "73491c67",
      "metadata": {
        "id": "73491c67"
      },
      "outputs": [],
      "source": [
        "import matplotlib.pyplot as plt\n",
        "def show_train_history(train_acc,test_acc):\n",
        "    plt.plot(train_history.history[train_acc])\n",
        "    plt.plot(train_history.history[test_acc])\n",
        "    plt.title('Train History')\n",
        "    plt.ylabel('Accuracy')\n",
        "    plt.xlabel('Epoch')\n",
        "    plt.legend(['train', 'test'], loc='upper left')\n",
        "    plt.show()"
      ]
    },
    {
      "cell_type": "code",
      "execution_count": null,
      "id": "6b16fe39",
      "metadata": {
        "id": "6b16fe39",
        "outputId": "cf716aed-31a1-4c23-f703-9f2a34f6ec3f"
      },
      "outputs": [
        {
          "data": {
            "image/png": "[encoded data removed]",
            "text/plain": [
              "<Figure size 640x480 with 1 Axes>"
            ]
          },
          "metadata": {},
          "output_type": "display_data"
        }
      ],
      "source": [
        "show_train_history('accuracy','val_accuracy')"
      ]
    },
    {
      "cell_type": "code",
      "execution_count": null,
      "id": "8e0159cc",
      "metadata": {
        "id": "8e0159cc",
        "outputId": "a4fb4e86-b16b-4acc-b8bb-6708b9fc556d"
      },
      "outputs": [
        {
          "data": {
            "image/png": "[encoded data removed]",
            "text/plain": [
              "<Figure size 640x480 with 1 Axes>"
            ]
          },
          "metadata": {},
          "output_type": "display_data"
        }
      ],
      "source": [
        "show_train_history('loss','val_loss')"
      ]
    },
    {
      "cell_type": "markdown",
      "id": "820c4cda",
      "metadata": {
        "id": "820c4cda"
      },
      "source": [
        "#### 評估模型準確率"
      ]
    },
    {
      "cell_type": "code",
      "execution_count": null,
      "id": "37260754",
      "metadata": {
        "id": "37260754",
        "outputId": "a975da37-a920-4006-9d17-249733b3f667"
      },
      "outputs": [
        {
          "name": "stdout",
          "output_type": "stream",
          "text": [
            "313/313 [==============================] - 3s 8ms/step - loss: 0.0205 - accuracy: 0.9932\n"
          ]
        },
        {
          "data": {
            "text/plain": [
              "0.9932000041007996"
            ]
          },
          "execution_count": 38,
          "metadata": {},
          "output_type": "execute_result"
        }
      ],
      "source": [
        "scores = model.evaluate(x_Test4D_normalize , y_TestOneHot)\n",
        "scores[1]"
      ]
    },
    {
      "cell_type": "markdown",
      "id": "168ddef9",
      "metadata": {
        "id": "168ddef9"
      },
      "source": [
        "#### 預測結果"
      ]
    },
    {
      "cell_type": "code",
      "execution_count": null,
      "id": "4eb73602",
      "metadata": {
        "id": "4eb73602",
        "outputId": "5dfb7fa9-2688-4b82-ace1-e1cea71aabb6"
      },
      "outputs": [
        {
          "name": "stdout",
          "output_type": "stream",
          "text": [
            "313/313 [==============================] - 2s 6ms/step\n"
          ]
        }
      ],
      "source": [
        "#prediction=model.predict_classes(x_Test4D_normalize)\n",
        "prediction = np.argmax(model.predict(x_Test4D_normalize), axis=-1)"
      ]
    },
    {
      "cell_type": "code",
      "execution_count": null,
      "id": "0bbe0f34",
      "metadata": {
        "id": "0bbe0f34",
        "outputId": "a85eca1c-e7d2-4a1c-9120-d59dad796717"
      },
      "outputs": [
        {
          "data": {
            "text/plain": [
              "array([7, 2, 1, 0, 4, 1, 4, 9, 5, 9], dtype=int64)"
            ]
          },
          "execution_count": 40,
          "metadata": {},
          "output_type": "execute_result"
        }
      ],
      "source": [
        "prediction[:10]"
      ]
    },
    {
      "cell_type": "markdown",
      "id": "ce4a88fe",
      "metadata": {
        "id": "ce4a88fe"
      },
      "source": [
        "#### 查看預測結果"
      ]
    },
    {
      "cell_type": "code",
      "execution_count": null,
      "id": "ff724508",
      "metadata": {
        "id": "ff724508"
      },
      "outputs": [],
      "source": [
        "import matplotlib.pyplot as plt\n",
        "def plot_images_labels_prediction(images,labels,prediction,idx,num=10):\n",
        "    fig = plt.gcf()\n",
        "    fig.set_size_inches(12, 14)\n",
        "    if num>25: num=25\n",
        "    for i in range(0, num):\n",
        "        ax=plt.subplot(5,5, 1+i)\n",
        "        ax.imshow(images[idx], cmap='binary')\n",
        "\n",
        "        ax.set_title(\"label=\" +str(labels[idx])+\n",
        "                     \",predict=\"+str(prediction[idx])\n",
        "                     ,fontsize=10)\n",
        "\n",
        "        ax.set_xticks([]);ax.set_yticks([])\n",
        "        idx+=1\n",
        "        if idx >= len(images):\n",
        "            break\n",
        "    plt.show()"
      ]
    },
    {
      "cell_type": "code",
      "execution_count": null,
      "id": "ba8171c5",
      "metadata": {
        "id": "ba8171c5",
        "outputId": "b5b6ffca-d640-4ab7-b168-384ae65f1745"
      },
      "outputs": [
        {
          "data": {
            "image/png": "[encoded data removed]",
            "text/plain": [
              "<Figure size 1200x1400 with 10 Axes>"
            ]
          },
          "metadata": {},
          "output_type": "display_data"
        }
      ],
      "source": [
        "plot_images_labels_prediction(x_Test,y_Test,prediction,idx=0)"
      ]
    },
    {
      "cell_type": "markdown",
      "id": "4541909d",
      "metadata": {
        "id": "4541909d"
      },
      "source": [
        "#### Confusion Matrix"
      ]
    },
    {
      "cell_type": "code",
      "execution_count": null,
      "id": "61f9d434",
      "metadata": {
        "id": "61f9d434",
        "outputId": "b5c11772-bf7e-4c52-88e3-aeb780bc783f"
      },
      "outputs": [
        {
          "data": {
            "text/html": [
              "<div>\n",
              "<style scoped>\n",
              "    .dataframe tbody tr th:only-of-type {\n",
              "        vertical-align: middle;\n",
              "    }\n",
              "\n",
              "    .dataframe tbody tr th {\n",
              "        vertical-align: top;\n",
              "    }\n",
              "\n",
              "    .dataframe thead th {\n",
              "        text-align: right;\n",
              "    }\n",
              "</style>\n",
              "<table border=\"1\" class=\"dataframe\">\n",
              "  <thead>\n",
              "    <tr style=\"text-align: right;\">\n",
              "      <th>predict</th>\n",
              "      <th>0</th>\n",
              "      <th>1</th>\n",
              "      <th>2</th>\n",
              "      <th>3</th>\n",
              "      <th>4</th>\n",
              "      <th>5</th>\n",
              "      <th>6</th>\n",
              "      <th>7</th>\n",
              "      <th>8</th>\n",
              "      <th>9</th>\n",
              "    </tr>\n",
              "    <tr>\n",
              "      <th>label</th>\n",
              "      <th></th>\n",
              "      <th></th>\n",
              "      <th></th>\n",
              "      <th></th>\n",
              "      <th></th>\n",
              "      <th></th>\n",
              "      <th></th>\n",
              "      <th></th>\n",
              "      <th></th>\n",
              "      <th></th>\n",
              "    </tr>\n",
              "  </thead>\n",
              "  <tbody>\n",
              "    <tr>\n",
              "      <th>0</th>\n",
              "      <td>977</td>\n",
              "      <td>0</td>\n",
              "      <td>0</td>\n",
              "      <td>0</td>\n",
              "      <td>0</td>\n",
              "      <td>0</td>\n",
              "      <td>1</td>\n",
              "      <td>1</td>\n",
              "      <td>1</td>\n",
              "      <td>0</td>\n",
              "    </tr>\n",
              "    <tr>\n",
              "      <th>1</th>\n",
              "      <td>0</td>\n",
              "      <td>1130</td>\n",
              "      <td>1</td>\n",
              "      <td>1</td>\n",
              "      <td>0</td>\n",
              "      <td>0</td>\n",
              "      <td>1</td>\n",
              "      <td>2</td>\n",
              "      <td>0</td>\n",
              "      <td>0</td>\n",
              "    </tr>\n",
              "    <tr>\n",
              "      <th>2</th>\n",
              "      <td>0</td>\n",
              "      <td>1</td>\n",
              "      <td>1028</td>\n",
              "      <td>0</td>\n",
              "      <td>0</td>\n",
              "      <td>0</td>\n",
              "      <td>0</td>\n",
              "      <td>3</td>\n",
              "      <td>0</td>\n",
              "      <td>0</td>\n",
              "    </tr>\n",
              "    <tr>\n",
              "      <th>3</th>\n",
              "      <td>0</td>\n",
              "      <td>0</td>\n",
              "      <td>0</td>\n",
              "      <td>1008</td>\n",
              "      <td>0</td>\n",
              "      <td>0</td>\n",
              "      <td>0</td>\n",
              "      <td>1</td>\n",
              "      <td>1</td>\n",
              "      <td>0</td>\n",
              "    </tr>\n",
              "    <tr>\n",
              "      <th>4</th>\n",
              "      <td>0</td>\n",
              "      <td>0</td>\n",
              "      <td>0</td>\n",
              "      <td>0</td>\n",
              "      <td>977</td>\n",
              "      <td>0</td>\n",
              "      <td>1</td>\n",
              "      <td>0</td>\n",
              "      <td>1</td>\n",
              "      <td>3</td>\n",
              "    </tr>\n",
              "    <tr>\n",
              "      <th>5</th>\n",
              "      <td>1</td>\n",
              "      <td>0</td>\n",
              "      <td>0</td>\n",
              "      <td>6</td>\n",
              "      <td>0</td>\n",
              "      <td>883</td>\n",
              "      <td>1</td>\n",
              "      <td>0</td>\n",
              "      <td>0</td>\n",
              "      <td>1</td>\n",
              "    </tr>\n",
              "    <tr>\n",
              "      <th>6</th>\n",
              "      <td>2</td>\n",
              "      <td>1</td>\n",
              "      <td>0</td>\n",
              "      <td>1</td>\n",
              "      <td>1</td>\n",
              "      <td>4</td>\n",
              "      <td>948</td>\n",
              "      <td>0</td>\n",
              "      <td>1</td>\n",
              "      <td>0</td>\n",
              "    </tr>\n",
              "    <tr>\n",
              "      <th>7</th>\n",
              "      <td>0</td>\n",
              "      <td>2</td>\n",
              "      <td>3</td>\n",
              "      <td>0</td>\n",
              "      <td>0</td>\n",
              "      <td>1</td>\n",
              "      <td>0</td>\n",
              "      <td>1019</td>\n",
              "      <td>1</td>\n",
              "      <td>2</td>\n",
              "    </tr>\n",
              "    <tr>\n",
              "      <th>8</th>\n",
              "      <td>0</td>\n",
              "      <td>0</td>\n",
              "      <td>2</td>\n",
              "      <td>2</td>\n",
              "      <td>0</td>\n",
              "      <td>1</td>\n",
              "      <td>0</td>\n",
              "      <td>1</td>\n",
              "      <td>965</td>\n",
              "      <td>3</td>\n",
              "    </tr>\n",
              "    <tr>\n",
              "      <th>9</th>\n",
              "      <td>1</td>\n",
              "      <td>1</td>\n",
              "      <td>0</td>\n",
              "      <td>0</td>\n",
              "      <td>4</td>\n",
              "      <td>2</td>\n",
              "      <td>0</td>\n",
              "      <td>2</td>\n",
              "      <td>2</td>\n",
              "      <td>997</td>\n",
              "    </tr>\n",
              "  </tbody>\n",
              "</table>\n",
              "</div>"
            ],
            "text/plain": [
              "predict    0     1     2     3    4    5    6     7    8    9\n",
              "label                                                        \n",
              "0        977     0     0     0    0    0    1     1    1    0\n",
              "1          0  1130     1     1    0    0    1     2    0    0\n",
              "2          0     1  1028     0    0    0    0     3    0    0\n",
              "3          0     0     0  1008    0    0    0     1    1    0\n",
              "4          0     0     0     0  977    0    1     0    1    3\n",
              "5          1     0     0     6    0  883    1     0    0    1\n",
              "6          2     1     0     1    1    4  948     0    1    0\n",
              "7          0     2     3     0    0    1    0  1019    1    2\n",
              "8          0     0     2     2    0    1    0     1  965    3\n",
              "9          1     1     0     0    4    2    0     2    2  997"
            ]
          },
          "execution_count": 43,
          "metadata": {},
          "output_type": "execute_result"
        }
      ],
      "source": [
        "import pandas as pd\n",
        "pd.crosstab(y_Test,prediction,\n",
        "            rownames=['label'],colnames=['predict'])"
      ]
    },
    {
      "cell_type": "code",
      "execution_count": null,
      "id": "d23aeed5",
      "metadata": {
        "id": "d23aeed5"
      },
      "outputs": [],
      "source": [
        "df = pd.DataFrame({'label':y_Test, 'predict':prediction})"
      ]
    },
    {
      "cell_type": "code",
      "execution_count": null,
      "id": "d1b6f527",
      "metadata": {
        "id": "d1b6f527",
        "outputId": "35c6ba14-e5b9-4c17-d116-dc79b08f3644"
      },
      "outputs": [
        {
          "data": {
            "text/html": [
              "<div>\n",
              "<style scoped>\n",
              "    .dataframe tbody tr th:only-of-type {\n",
              "        vertical-align: middle;\n",
              "    }\n",
              "\n",
              "    .dataframe tbody tr th {\n",
              "        vertical-align: top;\n",
              "    }\n",
              "\n",
              "    .dataframe thead th {\n",
              "        text-align: right;\n",
              "    }\n",
              "</style>\n",
              "<table border=\"1\" class=\"dataframe\">\n",
              "  <thead>\n",
              "    <tr style=\"text-align: right;\">\n",
              "      <th></th>\n",
              "      <th>label</th>\n",
              "      <th>predict</th>\n",
              "    </tr>\n",
              "  </thead>\n",
              "  <tbody>\n",
              "    <tr>\n",
              "      <th>340</th>\n",
              "      <td>5</td>\n",
              "      <td>3</td>\n",
              "    </tr>\n",
              "    <tr>\n",
              "      <th>2035</th>\n",
              "      <td>5</td>\n",
              "      <td>3</td>\n",
              "    </tr>\n",
              "    <tr>\n",
              "      <th>2597</th>\n",
              "      <td>5</td>\n",
              "      <td>3</td>\n",
              "    </tr>\n",
              "    <tr>\n",
              "      <th>4271</th>\n",
              "      <td>5</td>\n",
              "      <td>3</td>\n",
              "    </tr>\n",
              "    <tr>\n",
              "      <th>4360</th>\n",
              "      <td>5</td>\n",
              "      <td>3</td>\n",
              "    </tr>\n",
              "    <tr>\n",
              "      <th>5937</th>\n",
              "      <td>5</td>\n",
              "      <td>3</td>\n",
              "    </tr>\n",
              "  </tbody>\n",
              "</table>\n",
              "</div>"
            ],
            "text/plain": [
              "      label  predict\n",
              "340       5        3\n",
              "2035      5        3\n",
              "2597      5        3\n",
              "4271      5        3\n",
              "4360      5        3\n",
              "5937      5        3"
            ]
          },
          "execution_count": 45,
          "metadata": {},
          "output_type": "execute_result"
        }
      ],
      "source": [
        "df[(df.label==5)&(df.predict==3)]"
      ]
    },
    {
      "cell_type": "code",
      "execution_count": null,
      "id": "4a32e0f0",
      "metadata": {
        "id": "4a32e0f0",
        "outputId": "2cfc2344-79e0-4973-e789-d2348d938489"
      },
      "outputs": [
        {
          "data": {
            "text/plain": [
              "Index([340, 2035, 2597, 4271, 4360, 5937], dtype='int64')"
            ]
          },
          "execution_count": 46,
          "metadata": {},
          "output_type": "execute_result"
        }
      ],
      "source": [
        "df[(df.label==5)&(df.predict==3)].index"
      ]
    },
    {
      "cell_type": "code",
      "execution_count": null,
      "id": "150472ba",
      "metadata": {
        "id": "150472ba",
        "outputId": "c7fede84-6da8-4642-b640-1c4724528113"
      },
      "outputs": [
        {
          "data": {
            "image/png": "[encoded data removed]",
            "text/plain": [
              "<Figure size 1200x1400 with 6 Axes>"
            ]
          },
          "metadata": {},
          "output_type": "display_data"
        }
      ],
      "source": [
        "plot_images_labels_prediction([x_Test[i] for i in df[(df.label==5)&(df.predict==3)].index],[y_Test[i] for i in df[(df.label==5)&(df.predict==3)].index],prediction,idx=0)"
      ]
    },
    {
      "cell_type": "code",
      "execution_count": null,
      "id": "b783a88c",
      "metadata": {
        "id": "b783a88c"
      },
      "outputs": [],
      "source": []
    }
  ],
  "metadata": {
    "kernelspec": {
      "display_name": "Python 3 (ipykernel)",
      "language": "python",
      "name": "python3"
    },
    "language_info": {
      "codemirror_mode": {
        "name": "ipython",
        "version": 3
      },
      "file_extension": ".py",
      "mimetype": "text/x-python",
      "name": "python",
      "nbconvert_exporter": "python",
      "pygments_lexer": "ipython3",
      "version": "3.9.18"
    },
    "colab": {
      "provenance": [],
      "include_colab_link": true
    }
  },
  "nbformat": 4,
  "nbformat_minor": 5
}