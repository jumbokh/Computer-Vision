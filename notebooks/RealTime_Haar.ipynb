{
  "nbformat": 4,
  "nbformat_minor": 0,
  "metadata": {
    "colab": {
      "provenance": [],
      "include_colab_link": true
    },
    "kernelspec": {
      "name": "python3",
      "display_name": "Python 3"
    },
    "language_info": {
      "name": "python"
    }
  },
  "cells": [
    {
      "cell_type": "markdown",
      "metadata": {
        "id": "view-in-github",
        "colab_type": "text"
      },
      "source": [
        "<a href=\"https://colab.research.google.com/github/jumbokh/Computer-Vision/blob/main/notebooks/RealTime_Haar.ipynb\" target=\"_parent\"><img src=\"https://colab.research.google.com/assets/colab-badge.svg\" alt=\"Open In Colab\"/></a>"
      ]
    },
    {
      "cell_type": "code",
      "metadata": {
        "id": "6tWqpUoo_L59"
      },
      "source": [
        "# 调用电脑摄像头进行实时人脸+眼睛+微笑识别，可直接复制粘贴运行\n",
        "# bilibili视频教程:同济子豪兄\n",
        "# 2019-5-16\n",
        "import cv2\n",
        "\n",
        "face_cascade = cv2.CascadeClassifier(cv2.data.haarcascades+'haarcascade_frontalface_default.xml')\n",
        "\n",
        "eye_cascade = cv2.CascadeClassifier(cv2.data.haarcascades+'haarcascade_eye.xml')\n",
        "\n",
        "smile_cascade = cv2.CascadeClassifier(cv2.data.haarcascades+'haarcascade_smile.xml')\n",
        "# 调用摄像头摄像头\n",
        "cap = cv2.VideoCapture(0)\n",
        "\n",
        "while(True):\n",
        "    # 获取摄像头拍摄到的画面\n",
        "    ret, frame = cap.read()\n",
        "    faces = face_cascade.detectMultiScale(frame, 1.3, 2)\n",
        "    img = frame\n",
        "    for (x,y,w,h) in faces:\n",
        "        # 画出人脸框，蓝色，画笔宽度微\n",
        "        img = cv2.rectangle(img,(x,y),(x+w,y+h),(255,0,0),2)\n",
        "        # 框选出人脸区域，在人脸区域而不是全图中进行人眼检测，节省计算资源\n",
        "        face_area = img[y:y+h, x:x+w]\n",
        "\n",
        "        ## 人眼检测\n",
        "        # 用人眼级联分类器引擎在人脸区域进行人眼识别，返回的eyes为眼睛坐标列表\n",
        "        eyes = eye_cascade.detectMultiScale(face_area,1.3,10)\n",
        "        for (ex,ey,ew,eh) in eyes:\n",
        "            #画出人眼框，绿色，画笔宽度为1\n",
        "            cv2.rectangle(face_area,(ex,ey),(ex+ew,ey+eh),(0,255,0),1)\n",
        "\n",
        "        ## 微笑检测\n",
        "        # 用微笑级联分类器引擎在人脸区域进行人眼识别，返回的eyes为眼睛坐标列表\n",
        "        smiles = smile_cascade.detectMultiScale(face_area,scaleFactor= 1.16,minNeighbors=65,minSize=(25, 25),flags=cv2.CASCADE_SCALE_IMAGE)\n",
        "        for (ex,ey,ew,eh) in smiles:\n",
        "            #画出微笑框，红色（BGR色彩体系），画笔宽度为1\n",
        "            cv2.rectangle(face_area,(ex,ey),(ex+ew,ey+eh),(0,0,255),1)\n",
        "            cv2.putText(img,'Smile',(x,y-7), 3, 1.2, (0, 0, 255), 2, cv2.LINE_AA)\n",
        "\n",
        "    # 实时展示效果画面\n",
        "    cv2.imshow('frame2',img)\n",
        "    # 每5毫秒监听一次键盘动作\n",
        "    if cv2.waitKey(5) & 0xFF == ord('q'):\n",
        "        break\n",
        "\n",
        "# 最后，关闭所有窗口\n",
        "cap.release()\n",
        "cv2.destroyAllWindows()"
      ],
      "execution_count": null,
      "outputs": []
    }
  ]
}