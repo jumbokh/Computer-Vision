{
  "nbformat": 4,
  "nbformat_minor": 0,
  "metadata": {
    "colab": {
      "provenance": [],
      "collapsed_sections": [
        "o_79qJqBEZ6y"
      ],
      "include_colab_link": true
    },
    "kernelspec": {
      "name": "python3",
      "display_name": "Python 3"
    },
    "language_info": {
      "name": "python"
    },
    "accelerator": "GPU",
    "gpuClass": "standard"
  },
  "cells": [
    {
      "cell_type": "markdown",
      "metadata": {
        "id": "view-in-github",
        "colab_type": "text"
      },
      "source": [
        "<a href=\"https://colab.research.google.com/github/jumbokh/Computer-Vision/blob/main/notebooks/Comet_and_YOLOv5.ipynb\" target=\"_parent\"><img src=\"https://colab.research.google.com/assets/colab-badge.svg\" alt=\"Open In Colab\"/></a>"
      ]
    },
    {
      "cell_type": "markdown",
      "source": [
        "<img src=\"https://cdn.comet.ml/img/notebook_logo.png\">\n",
        "\n",
        "[Comet](https://www.comet.com/site/lp/yolov5-with-comet/?utm_source=yolov5&utm_medium=partner&utm_campaign=partner_yolov5_2022&utm_content=comet_colab) builds tools that help data scientists, engineers, and team leaders accelerate and optimize machine learning and deep learning models.\n",
        "\n",
        "Track and visualize model metrics in real time, save your hyperparameters, datasets, and model checkpoints, and visualize your model predictions with [Comet Custom Panels](https://www.comet.com/docs/v2/guides/comet-dashboard/code-panels/about-panels/?utm_source=yolov5&utm_medium=partner&utm_campaign=partner_yolov5_2022&utm_content=comet_colab)!\n",
        "\n",
        "Comet makes sure you never lose track of your work and makes it easy to share results and collaborate across teams of all sizes!\n",
        "\n",
        "If you'd like to learn more about Comet checkout our [documentation](https://www.comet.com/docs/v2/?utm_source=yolov5&utm_medium=partner&utm_campaign=partner_yolov5_2022&utm_content=comet_colab)\n"
      ],
      "metadata": {
        "id": "atPghFWqSAd1"
      }
    },
    {
      "cell_type": "markdown",
      "source": [
        "# Install Comet"
      ],
      "metadata": {
        "id": "dC0FMOIvD_I1"
      }
    },
    {
      "cell_type": "code",
      "execution_count": null,
      "metadata": {
        "id": "kdeOtvIjCtMc"
      },
      "outputs": [],
      "source": [
        "%pip install comet_ml --quiet"
      ]
    },
    {
      "cell_type": "markdown",
      "source": [
        "# Initialize Comet"
      ],
      "metadata": {
        "id": "cPuQc9WAEC08"
      }
    },
    {
      "cell_type": "code",
      "source": [
        "import comet_ml\n",
        "comet_ml.init(project_name='comet-example-yolov5')"
      ],
      "metadata": {
        "id": "dY_B24VQECQw"
      },
      "execution_count": null,
      "outputs": []
    },
    {
      "cell_type": "markdown",
      "source": [
        "# Setup YOLOv5"
      ],
      "metadata": {
        "id": "o_79qJqBEZ6y"
      }
    },
    {
      "cell_type": "code",
      "source": [
        "!git clone https://github.com/ultralytics/yolov5\n",
        "%cd yolov5\n",
        "%pip install -qr requirements.txt"
      ],
      "metadata": {
        "id": "usYdy2tgo15I",
        "colab": {
          "base_uri": "https://localhost:8080/"
        },
        "outputId": "dfdfc87d-a5ce-4d0c-fd6a-50d55950c3a8"
      },
      "execution_count": null,
      "outputs": [
        {
          "output_type": "stream",
          "name": "stdout",
          "text": [
            "Cloning into 'yolov5'...\n",
            "remote: Enumerating objects: 12209, done.\u001b[K\n",
            "remote: Counting objects: 100% (12/12), done.\u001b[K\n",
            "remote: Compressing objects: 100% (12/12), done.\u001b[K\n",
            "remote: Total 12209 (delta 0), reused 4 (delta 0), pack-reused 12197\u001b[K\n",
            "Receiving objects: 100% (12209/12209), 12.61 MiB | 5.66 MiB/s, done.\n",
            "Resolving deltas: 100% (8404/8404), done.\n",
            "/content/yolov5\n",
            "\u001b[K     |████████████████████████████████| 1.6 MB 47.9 MB/s \n",
            "\u001b[?25h"
          ]
        }
      ]
    },
    {
      "cell_type": "code",
      "source": [
        "import torch\n",
        "import utils\n",
        "display = utils.notebook_init()  # checks"
      ],
      "metadata": {
        "id": "tnwsvelXEf17",
        "colab": {
          "base_uri": "https://localhost:8080/"
        },
        "outputId": "da290d4f-d345-4f9d-ad20-88535da3dcb0"
      },
      "execution_count": null,
      "outputs": [
        {
          "output_type": "stream",
          "name": "stderr",
          "text": [
            "YOLOv5 🚀 v6.2-97-g903b239 Python-3.7.13 torch-1.12.1+cu113 CUDA:0 (Tesla T4, 15110MiB)\n"
          ]
        },
        {
          "output_type": "stream",
          "name": "stdout",
          "text": [
            "Setup complete ✅ (2 CPUs, 12.7 GB RAM, 37.4/78.2 GB disk)\n"
          ]
        }
      ]
    },
    {
      "cell_type": "markdown",
      "source": [],
      "metadata": {
        "id": "pPmVJl9ZSn_-"
      }
    },
    {
      "cell_type": "markdown",
      "source": [
        "# Run the Training Script"
      ],
      "metadata": {
        "id": "tRwiCQ5pExF8"
      }
    },
    {
      "cell_type": "code",
      "source": [
        "!python train.py --img 640 --batch 16 --epochs 3 --data coco128.yaml --bbox_interval 1 --weights yolov5s.pt"
      ],
      "metadata": {
        "id": "CZxf9IMJEzSG"
      },
      "execution_count": null,
      "outputs": []
    },
    {
      "cell_type": "markdown",
      "source": [
        "# Configure Comet Logging"
      ],
      "metadata": {
        "id": "ROBd8hDZOkad"
      }
    },
    {
      "cell_type": "markdown",
      "source": [
        "## Logging Checkpoints with Comet\n",
        "\n",
        "Logging Models to Comet is disabled by default. To enable it, pass the `save-period` argument to the training script. This will save the\n",
        "logged checkpoints to Comet based on the interval value provided by `save-period`\n",
        "\n",
        "Checkpoints can be found in the [Assets and Artifacts](https://www.comet.com/examples/comet-example-yolov5/a0e29e0e9b984e4a822db2a62d0cb357?experiment-tab=assets?utm_source=yolov5&utm_medium=partner&utm_campaign=partner_yolov5_2022&utm_content=comet_colab) tab in your Experiment"
      ],
      "metadata": {
        "id": "MYevEJMiPIzZ"
      }
    },
    {
      "cell_type": "code",
      "source": [
        "!python train.py \\\n",
        "--img 640 \\\n",
        "--batch 16 \\\n",
        "--epochs 5 \\\n",
        "--data coco128.yaml \\\n",
        "--weights yolov5s.pt \\\n",
        "--bbox_interval 1 \\\n",
        "--save-period 1"
      ],
      "metadata": {
        "id": "PhG69TFMOl29"
      },
      "execution_count": null,
      "outputs": []
    },
    {
      "cell_type": "markdown",
      "source": [
        "## Logging Model Predictions\n",
        "\n",
        "You can log model predictions and the associated images by passing the `bbox_interval` command line argument. Predictions can be visualized using Comet's Object Detection Custom Panel\n",
        "\n",
        "**Note:** The YOLOv5 validation dataloader will default to a batch size of 32, so you will have to set the logging frequency accordingly.\n",
        "\n",
        "Here is an [example project using the Panel](https://www.comet.com/examples/comet-example-yolov5/view/1c4Dqcu8mZ767NBipjwlx3gz6/panels?shareable=YcwMiJaZSXfcEXpGOHDD12vA1&utm_source=yolov5&utm_medium=partner&utm_campaign=partner_yolov5_2022&utm_content=comet_colab)\n"
      ],
      "metadata": {
        "id": "GTPWcXumQQe_"
      }
    },
    {
      "cell_type": "code",
      "source": [
        "!python train.py \\\n",
        "--img 640 \\\n",
        "--batch 16 \\\n",
        "--epochs 5 \\\n",
        "--data coco128.yaml \\\n",
        "--weights yolov5s.pt \\\n",
        "--bbox_interval 1"
      ],
      "metadata": {
        "id": "II0zxRtdQTpY"
      },
      "execution_count": null,
      "outputs": []
    },
    {
      "cell_type": "markdown",
      "source": [
        "### Controlling the number of Prediction Images logged to Comet\n",
        "\n",
        "When logging predictions from YOLOv5, Comet will log the images associated with each set of predictions. By default a maximum of 100 validation images are logged. You can increase or decrease this number using the `COMET_MAX_IMAGE_UPLOADS` environment variable.\n"
      ],
      "metadata": {
        "id": "F1Sqw8G3QOVx"
      }
    },
    {
      "cell_type": "code",
      "source": [
        "!env COMET_MAX_IMAGE_UPLOADS=200 python train.py \\\n",
        "--img 640 \\\n",
        "--batch 16 \\\n",
        "--epochs 5 \\\n",
        "--data coco128.yaml \\\n",
        "--weights yolov5s.pt \\\n",
        "--bbox_interval 1"
      ],
      "metadata": {
        "id": "0pqsQ2PBQZE7"
      },
      "execution_count": null,
      "outputs": []
    },
    {
      "cell_type": "markdown",
      "source": [
        "### Logging Class Level Metrics\n",
        "\n",
        "Use the `COMET_LOG_PER_CLASS_METRICS` environment variable to log mAP, precision, recall, f1 for each class.\n"
      ],
      "metadata": {
        "id": "L6P-7w1xTPTC"
      }
    },
    {
      "cell_type": "code",
      "source": [
        "!env COMET_LOG_PER_CLASS_METRICS=true python train.py \\\n",
        "--img 640 \\\n",
        "--batch 16 \\\n",
        "--epochs 5 \\\n",
        "--data coco128.yaml \\\n",
        "--bbox_interval 1 \\\n",
        "--weights yolov5s.pt"
      ],
      "metadata": {
        "id": "nC3wIzqrTSfL"
      },
      "execution_count": null,
      "outputs": []
    },
    {
      "cell_type": "markdown",
      "source": [
        "## Uploading a Dataset to Comet Artifacts\n",
        "\n",
        "\n",
        "If you would like to store your data using [Comet Artifacts](https://www.comet.com/docs/v2/guides/data-management/using-artifacts/#learn-more?utm_source=yolov5&utm_medium=partner&utm_campaign=partner_yolov5_2022&utm_content=comet_colab), you can do so using the `upload_dataset` flag.\n",
        "\n",
        "The dataset be organized in the way described in the [YOLOv5 documentation](https://docs.ultralytics.com/tutorials/train-custom-datasets/#3-organize-directories). The dataset config `yaml` file must follow the same format as that of the `coco128.yaml` file.\n"
      ],
      "metadata": {
        "id": "TSI8nao4RzyV"
      }
    },
    {
      "cell_type": "code",
      "source": [
        "!python train.py \\\n",
        "--img 640 \\\n",
        "--batch 16 \\\n",
        "--epochs 5 \\\n",
        "--data coco128.yaml \\\n",
        "--weights yolov5s.pt \\\n",
        "--bbox_interval 1 \\\n",
        "--upload_dataset \"train\""
      ],
      "metadata": {
        "id": "u1U3vbxHR1st"
      },
      "execution_count": null,
      "outputs": []
    },
    {
      "cell_type": "markdown",
      "source": [
        "You can find the uploaded dataset in the Artifacts tab in your Comet Workspace\n",
        "<img width=\"1073\" alt=\"artifact-1\" src=\"https://user-images.githubusercontent.com/7529846/186929193-162718bf-ec7b-4eb9-8c3b-86b3763ef8ea.png\">\n",
        "\n",
        "You can preview the data directly in the Comet UI.\n",
        "<img width=\"1082\" alt=\"artifact-2\" src=\"https://user-images.githubusercontent.com/7529846/186929215-432c36a9-c109-4eb0-944b-84c2786590d6.png\">\n",
        "\n",
        "Artifacts are versioned and also support adding metadata about the dataset. Comet will automatically log the metadata from your dataset `yaml` file\n",
        "<img width=\"963\" alt=\"artifact-3\" src=\"https://user-images.githubusercontent.com/7529846/186929256-9d44d6eb-1a19-42de-889a-bcbca3018f2e.png\">\n",
        "\n"
      ],
      "metadata": {
        "id": "0YnXNRaZzs9J"
      }
    },
    {
      "cell_type": "markdown",
      "source": [
        "### Using a saved Artifact\n",
        "\n",
        "\n",
        "If you would like to use a dataset from Comet Artifacts, set the `path` variable in your dataset `yaml` file to point to the following Artifact resource URL.\n",
        "\n",
        "```\n",
        "# contents of artifact.yaml file\n",
        "path:\"comet://<workspace name>/<artifact name>:<artifact version or alias>\"\n",
        "```\n",
        "Then pass this file to your training script\n"
      ],
      "metadata": {
        "id": "IB_57vEqR5RH"
      }
    },
    {
      "cell_type": "code",
      "source": [
        "!echo \"path: \\\"comet://examples/yolov5-dataset:latest\\\"\" >> /content/yolov5/data/artifact.yaml"
      ],
      "metadata": {
        "id": "zbp1FuDKNDyT"
      },
      "execution_count": null,
      "outputs": []
    },
    {
      "cell_type": "code",
      "source": [
        "!python train.py \\\n",
        "--img 640 \\\n",
        "--batch 16 \\\n",
        "--epochs 5 \\\n",
        "--data /content/yolov5/data/artifact.yaml \\\n",
        "--bbox_interval 1 \\\n",
        "--weights yolov5s.pt \\"
      ],
      "metadata": {
        "id": "Zfnfn2xXSBaI"
      },
      "execution_count": null,
      "outputs": []
    },
    {
      "cell_type": "markdown",
      "source": [
        "Artifacts also allow you to track the lineage of data as it flows through your Experimentation workflow. Here you can see a graph that shows you all the experiments that have used your uploaded dataset.\n",
        "<img width=\"1391\" alt=\"artifact-4\" src=\"https://user-images.githubusercontent.com/7529846/186929264-4c4014fa-fe51-4f3c-a5c5-f6d24649b1b4.png\">\n"
      ],
      "metadata": {
        "id": "7PlsC3gF0OLR"
      }
    },
    {
      "cell_type": "markdown",
      "source": [
        "## Resuming a Training Run\n",
        "\n",
        "If your training run is interrupted for any reason, e.g. disrupted internet connection, you can resume the run using the `resume` flag and the Comet Run Path.\n",
        "\n",
        "The Run Path has the following format `comet://<your workspace name>/<your project name>/<experiment id>`.\n",
        "\n",
        "This will restore the run to its state before the interruption, which includes restoring the  model from a checkpoint, restoring all hyperparameters and training arguments and downloading Comet dataset Artifacts if they were used in the original run. The resumed run will continue logging to the existing Experiment in the Comet UI\n"
      ],
      "metadata": {
        "id": "Pjz6ry3JSDxn"
      }
    },
    {
      "cell_type": "code",
      "source": [
        "!python train.py \\\n",
        "--resume \"comet://<your run path>\""
      ],
      "metadata": {
        "id": "PhyfBX57SJRZ"
      },
      "execution_count": null,
      "outputs": []
    }
  ]
}