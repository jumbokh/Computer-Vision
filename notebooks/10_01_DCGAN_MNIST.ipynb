{
  "nbformat": 4,
  "nbformat_minor": 0,
  "metadata": {
    "kernelspec": {
      "display_name": "Python 3",
      "language": "python",
      "name": "python3"
    },
    "language_info": {
      "codemirror_mode": {
        "name": "ipython",
        "version": 3
      },
      "file_extension": ".py",
      "mimetype": "text/x-python",
      "name": "python",
      "nbconvert_exporter": "python",
      "pygments_lexer": "ipython3",
      "version": "3.8.3"
    },
    "colab": {
      "name": "10_01_DCGAN_MNIST.ipynb",
      "provenance": []
    },
    "accelerator": "GPU"
  },
  "cells": [
    {
      "cell_type": "markdown",
      "metadata": {
        "id": "I-8-iC0MmZsu"
      },
      "source": [
        "# 實作DCGAN演算法，產生手寫阿拉伯數字\n",
        "### 程式修改自[Deep Convolutional Generative Adversarial Network](https://www.tensorflow.org/tutorials/generative/dcgan)"
      ]
    },
    {
      "cell_type": "code",
      "metadata": {
        "id": "jhKnrW19mZsx"
      },
      "source": [
        "# To generate GIFs\n",
        "!pip install -q imageio"
      ],
      "execution_count": null,
      "outputs": []
    },
    {
      "cell_type": "code",
      "metadata": {
        "id": "3uVvaA6NmZsz"
      },
      "source": [
        "# 載入相關套件\n",
        "import glob\n",
        "import imageio\n",
        "import matplotlib.pyplot as plt\n",
        "import numpy as np\n",
        "import os\n",
        "import PIL\n",
        "import tensorflow as tf\n",
        "from tensorflow.keras import layers\n",
        "import time\n",
        "from IPython import display"
      ],
      "execution_count": null,
      "outputs": []
    },
    {
      "cell_type": "markdown",
      "metadata": {
        "id": "TK-a-GJZmZs0"
      },
      "source": [
        "## 取得訓練資料，轉為TensorFlow Dataset"
      ]
    },
    {
      "cell_type": "code",
      "metadata": {
        "colab": {
          "base_uri": "https://localhost:8080/"
        },
        "id": "IV4EmGVgmZs1",
        "outputId": "9b8651b6-f5ba-4e41-aa98-0f24c1bcdd9f"
      },
      "source": [
        "# 取得 MNIST 訓練資料\n",
        "(train_images, train_labels), (_, _) = tf.keras.datasets.mnist.load_data()\n",
        "# 像素標準化\n",
        "train_images = train_images.reshape(train_images.shape[0], 28, 28, 1).astype('float32')\n",
        "train_images = (train_images - 127.5) / 127.5  # 使像素值介於 [-1, 1]\n",
        "\n",
        "# 參數設定\n",
        "BUFFER_SIZE = 60000 # 緩衝區大小\n",
        "BATCH_SIZE = 256    # 訓練批量\n",
        "\n",
        "# 轉為 Dataset\n",
        "train_dataset = tf.data.Dataset.from_tensor_slices(train_images) \\\n",
        "        .shuffle(BUFFER_SIZE).batch(BATCH_SIZE).prefetch(BUFFER_SIZE).cache()"
      ],
      "execution_count": null,
      "outputs": [
        {
          "output_type": "stream",
          "text": [
            "Downloading data from https://storage.googleapis.com/tensorflow/tf-keras-datasets/mnist.npz\n",
            "11493376/11490434 [==============================] - 0s 0us/step\n",
            "11501568/11490434 [==============================] - 0s 0us/step\n"
          ],
          "name": "stdout"
        }
      ]
    },
    {
      "cell_type": "markdown",
      "metadata": {
        "id": "2-OUUDZ8mZs2"
      },
      "source": [
        "## 定義生成神經網路"
      ]
    },
    {
      "cell_type": "code",
      "metadata": {
        "id": "9bg79uDjmZs3"
      },
      "source": [
        "# 生成神經網路\n",
        "def make_generator_model():\n",
        "    model = tf.keras.Sequential()\n",
        "    model.add(layers.Dense(7*7*256, use_bias=False, input_shape=(100,)))\n",
        "    model.add(layers.BatchNormalization())\n",
        "    model.add(layers.LeakyReLU())\n",
        "\n",
        "    model.add(layers.Reshape((7, 7, 256)))\n",
        "    assert model.output_shape == (None, 7, 7, 256)  # None 代表批量不檢查\n",
        "\n",
        "    model.add(layers.Conv2DTranspose(128, (5, 5), strides=(1, 1),\n",
        "                                     padding='same', use_bias=False))\n",
        "    assert model.output_shape == (None, 7, 7, 128)\n",
        "    model.add(layers.BatchNormalization())\n",
        "    model.add(layers.LeakyReLU())\n",
        "\n",
        "    model.add(layers.Conv2DTranspose(64, (5, 5), strides=(2, 2),\n",
        "                                     padding='same', use_bias=False))\n",
        "    assert model.output_shape == (None, 14, 14, 64)\n",
        "    model.add(layers.BatchNormalization())\n",
        "    model.add(layers.LeakyReLU())\n",
        "\n",
        "    model.add(layers.Conv2DTranspose(1, (5, 5), strides=(2, 2),\n",
        "                     padding='same', use_bias=False, activation='tanh'))\n",
        "    assert model.output_shape == (None, 28, 28, 1)\n",
        "\n",
        "    return model"
      ],
      "execution_count": null,
      "outputs": []
    },
    {
      "cell_type": "code",
      "metadata": {
        "id": "MInro_CvmZs4"
      },
      "source": [
        "# 產生生成神經網路\n",
        "generator = make_generator_model()\n",
        "\n",
        "# 測試產生的雜訊\n",
        "noise = tf.random.normal([1, 100])\n",
        "generated_image = generator(noise, training=False)\n",
        "\n",
        "# 顯示雜訊生成的圖像\n",
        "plt.imshow(generated_image[0, :, :, 0], cmap='gray')"
      ],
      "execution_count": null,
      "outputs": []
    },
    {
      "cell_type": "markdown",
      "metadata": {
        "id": "P6NqjkDVmZs6"
      },
      "source": [
        "## 定義判别神經網路"
      ]
    },
    {
      "cell_type": "code",
      "metadata": {
        "id": "oDMXP1LFmZs8"
      },
      "source": [
        "# 判别神經網路\n",
        "def make_discriminator_model():\n",
        "    model = tf.keras.Sequential()\n",
        "    model.add(layers.Conv2D(64, (5, 5), strides=(2, 2), padding='same',\n",
        "                                     input_shape=[28, 28, 1]))\n",
        "    model.add(layers.LeakyReLU())\n",
        "    model.add(layers.Dropout(0.3))\n",
        "\n",
        "    model.add(layers.Conv2D(128, (5, 5), strides=(2, 2), padding='same'))\n",
        "    model.add(layers.LeakyReLU())\n",
        "    model.add(layers.Dropout(0.3))\n",
        "\n",
        "    model.add(layers.Flatten())\n",
        "    model.add(layers.Dense(1))\n",
        "\n",
        "    return model"
      ],
      "execution_count": null,
      "outputs": []
    },
    {
      "cell_type": "code",
      "metadata": {
        "id": "fAGrYJilmZs9"
      },
      "source": [
        "# 測試判别神經網路\n",
        "discriminator = make_discriminator_model()\n",
        "\n",
        "# 真實的影像預測值會是較大的值，生成的影像預測值會是較小的值\n",
        "decision = discriminator(generated_image)\n",
        "print (f'預測值={decision}')"
      ],
      "execution_count": null,
      "outputs": []
    },
    {
      "cell_type": "code",
      "metadata": {
        "id": "EoV0iuhOmZs9"
      },
      "source": [
        "# 測試真實的影像 3 筆\n",
        "decision = discriminator(train_images[0:5])\n",
        "print (f'預測值={decision}')"
      ],
      "execution_count": null,
      "outputs": []
    },
    {
      "cell_type": "markdown",
      "metadata": {
        "id": "xP9t_syAmZs-"
      },
      "source": [
        "## 定義損失函數及優化器"
      ]
    },
    {
      "cell_type": "code",
      "metadata": {
        "id": "92dA8vVbmZs-"
      },
      "source": [
        "# 定義損失函數為二分類交叉熵\n",
        "cross_entropy = tf.keras.losses.BinaryCrossentropy(from_logits=True)\n",
        "\n",
        "# 定義判别神經網路損失函數為 真實影像 + 生成影像 的損失函數\n",
        "def discriminator_loss(real_output, fake_output):\n",
        "    real_loss = cross_entropy(tf.ones_like(real_output), real_output)\n",
        "    fake_loss = cross_entropy(tf.zeros_like(fake_output), fake_output)\n",
        "    total_loss = real_loss + fake_loss\n",
        "    return total_loss\n",
        "\n",
        "# 定義生成神經網路損失函數為 生成影像 的損失函數\n",
        "def generator_loss(fake_output):\n",
        "    return cross_entropy(tf.ones_like(fake_output), fake_output)\n",
        "\n",
        "# 優化器均為 Adam\n",
        "generator_optimizer = tf.keras.optimizers.Adam(1e-4)\n",
        "discriminator_optimizer = tf.keras.optimizers.Adam(1e-4)"
      ],
      "execution_count": null,
      "outputs": []
    },
    {
      "cell_type": "markdown",
      "metadata": {
        "id": "Zy-ii5zimZs_"
      },
      "source": [
        "## 設定檢查點"
      ]
    },
    {
      "cell_type": "code",
      "metadata": {
        "id": "JrAcbcY9mZs_"
      },
      "source": [
        "# 在檢查點模型存檔\n",
        "checkpoint_dir = './dcgan_training_checkpoints'\n",
        "checkpoint_prefix = os.path.join(checkpoint_dir, \"ckpt\")\n",
        "checkpoint = tf.train.Checkpoint(generator_optimizer=generator_optimizer,\n",
        "                  discriminator_optimizer=discriminator_optimizer,\n",
        "                  generator=generator,\n",
        "                  discriminator=discriminator)"
      ],
      "execution_count": null,
      "outputs": []
    },
    {
      "cell_type": "markdown",
      "metadata": {
        "id": "vfudGzpkmZs_"
      },
      "source": [
        "## 參數設定"
      ]
    },
    {
      "cell_type": "code",
      "metadata": {
        "id": "kZ5dquM6mZtA"
      },
      "source": [
        "# 參數設定\n",
        "EPOCHS = 50                    # 訓練執行週期\n",
        "noise_dim = 100                # 雜訊向量大小\n",
        "num_examples_to_generate = 16  # 生成筆數\n",
        "\n",
        "# 產生亂數(雜訊)\n",
        "seed = tf.random.normal([num_examples_to_generate, noise_dim])"
      ],
      "execution_count": null,
      "outputs": []
    },
    {
      "cell_type": "markdown",
      "metadata": {
        "id": "c31rwXc9mZtA"
      },
      "source": [
        "## 定義梯度下降函數"
      ]
    },
    {
      "cell_type": "code",
      "metadata": {
        "id": "1iNyhRVBmZtA"
      },
      "source": [
        "# 定義梯度下降，分別對判别神經網路、生成神經網路進行訓練\n",
        "@tf.function  # 產生運算圖\n",
        "def train_step(images):\n",
        "    noise = tf.random.normal([BATCH_SIZE, noise_dim])\n",
        "\n",
        "    with tf.GradientTape() as gen_tape, tf.GradientTape() as disc_tape:\n",
        "        # 生成神經網路進行訓練\n",
        "        generated_images = generator(noise, training=True)\n",
        "\n",
        "        # 判别神經網路進行訓練\n",
        "        real_output = discriminator(images, training=True)           # 真實影像\n",
        "        fake_output = discriminator(generated_images, training=True) # 生成影像\n",
        "\n",
        "        # 計算損失\n",
        "        gen_loss = generator_loss(fake_output)\n",
        "        disc_loss = discriminator_loss(real_output, fake_output)\n",
        "\n",
        "    # 梯度下降\n",
        "    gradients_of_generator = gen_tape.gradient(gen_loss, generator.trainable_variables)\n",
        "    gradients_of_discriminator = disc_tape.gradient(disc_loss,\n",
        "                                                    discriminator.trainable_variables)\n",
        "\n",
        "    # 更新權重\n",
        "    generator_optimizer.apply_gradients(zip(gradients_of_generator,\n",
        "                                            generator.trainable_variables))\n",
        "    discriminator_optimizer.apply_gradients(zip(gradients_of_discriminator,\n",
        "                                                discriminator.trainable_variables))"
      ],
      "execution_count": null,
      "outputs": []
    },
    {
      "cell_type": "markdown",
      "metadata": {
        "id": "KDVyb2eKmZtA"
      },
      "source": [
        "## 定義訓練函數"
      ]
    },
    {
      "cell_type": "code",
      "metadata": {
        "id": "CG16KYb-mZtB"
      },
      "source": [
        "# 定義訓練函數\n",
        "def train(dataset, epochs):\n",
        "    for epoch in range(epochs):\n",
        "        start = time.time()\n",
        "\n",
        "        for image_batch in dataset:\n",
        "            train_step(image_batch)\n",
        "\n",
        "        # 產生圖像\n",
        "        display.clear_output(wait=True)\n",
        "        generate_and_save_images(generator, epoch + 1, seed)\n",
        "\n",
        "        # 每 10 個執行週期存檔一次\n",
        "        if (epoch + 1) % 10 == 0:\n",
        "            checkpoint.save(file_prefix = checkpoint_prefix)\n",
        "\n",
        "        print ('epoch {} 花費 {} 秒'.format(epoch + 1, time.time()-start))\n",
        "\n",
        "    # 顯示最後結果\n",
        "    display.clear_output(wait=True)\n",
        "    generate_and_save_images(generator, epochs, seed)"
      ],
      "execution_count": null,
      "outputs": []
    },
    {
      "cell_type": "code",
      "metadata": {
        "id": "zvXTrTVmmZtB"
      },
      "source": [
        "# 產生圖像並存檔\n",
        "def generate_and_save_images(model, epoch, test_input):\n",
        "    # 預測\n",
        "    predictions = model(test_input, training=False)\n",
        "\n",
        "    # 顯示 4x4 的格子\n",
        "    fig = plt.figure(figsize=(4, 4))\n",
        "    for i in range(predictions.shape[0]):\n",
        "            plt.subplot(4, 4, i+1)\n",
        "            plt.imshow(predictions[i, :, :, 0] * 127.5 + 127.5, cmap='gray')\n",
        "            plt.axis('off')\n",
        "\n",
        "    # 存檔\n",
        "    plt.savefig('./GAN_result/image_at_epoch_{:04d}.png'.format(epoch))\n",
        "    plt.show()"
      ],
      "execution_count": null,
      "outputs": []
    },
    {
      "cell_type": "markdown",
      "metadata": {
        "id": "fky8paCrmZtB"
      },
      "source": [
        "## 訓練模型"
      ]
    },
    {
      "cell_type": "code",
      "metadata": {
        "id": "mhVoHhQGqWXr"
      },
      "source": [
        "import os\n",
        "if not os.path.exists('./GAN_result'):\n",
        "  os.makedirs('./GAN_result')"
      ],
      "execution_count": null,
      "outputs": []
    },
    {
      "cell_type": "code",
      "metadata": {
        "id": "NqaEuLEamZtB"
      },
      "source": [
        "train(train_dataset, EPOCHS)"
      ],
      "execution_count": null,
      "outputs": []
    },
    {
      "cell_type": "markdown",
      "metadata": {
        "id": "tyQY_z4pmZtC"
      },
      "source": [
        "## 顯示最後結果"
      ]
    },
    {
      "cell_type": "code",
      "metadata": {
        "scrolled": true,
        "id": "hIRrXTxmmZtC"
      },
      "source": [
        "# 顯示最後結果\n",
        "def display_image(epoch_no):\n",
        "    return PIL.Image.open('./GAN_result/image_at_epoch_{:04d}.png'.format(epoch_no))\n",
        "\n",
        "display_image(EPOCHS)"
      ],
      "execution_count": null,
      "outputs": []
    },
    {
      "cell_type": "markdown",
      "metadata": {
        "id": "hNPJ6IqemZtC"
      },
      "source": [
        "## 將訓練過程的存檔圖像轉為GIF 檔，並顯示GIF檔"
      ]
    },
    {
      "cell_type": "code",
      "metadata": {
        "id": "bu24k26amZtC"
      },
      "source": [
        "# 產生 GIF 檔\n",
        "anim_file = './GAN_result/dcgan.gif'\n",
        "with imageio.get_writer(anim_file, mode='I') as writer:\n",
        "    filenames = glob.glob('./GAN_result/image*.png')\n",
        "    filenames = sorted(filenames)\n",
        "    for filename in filenames:\n",
        "        # print(filename)\n",
        "        image = imageio.imread(filename)\n",
        "        writer.append_data(image)\n",
        "\n",
        "# 顯示 GIF 檔\n",
        "import tensorflow_docs.vis.embed as embed\n",
        "embed.embed_file(anim_file)"
      ],
      "execution_count": null,
      "outputs": []
    },
    {
      "cell_type": "code",
      "metadata": {
        "id": "W_CEykjbmZtC"
      },
      "source": [],
      "execution_count": null,
      "outputs": []
    }
  ]
}